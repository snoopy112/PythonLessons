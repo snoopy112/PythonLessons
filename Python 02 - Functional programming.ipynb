{
 "cells": [
  {
   "cell_type": "markdown",
   "metadata": {},
   "source": [
    "# Уроки по Python3\n",
    "## Функциональное программирование\n"
   ]
  },
  {
   "cell_type": "markdown",
   "metadata": {},
   "source": [
    "### Анонимные функции (lambda)"
   ]
  },
  {
   "cell_type": "markdown",
   "metadata": {},
   "source": [
    "В Python имеется возможность создавать объекты функций в форме выражений. Подобно инструкции **def** это выражение создает функцию, которая будет вызываться позднее, но в отличие от инструкции **def**, выражение возвращает функцию, а не связывает ее с именем. Именно поэтому **lambda-выражения** иногда называют анонимными (то есть безымянными) функциями. На практике они часто используются, как способ получить встроенную функцию или отложить выполнение фрагмента программного кода.\n",
    "В общем виде **lambda-выражение** состоит из ключевого слова **lambda**, за которым следуют один или более аргументов и далее, вслед за двоеточием, находится выражение:<br>\n",
    "**lambda argument1, argument2,... argumentN : выражение, использующее аргументы**"
   ]
  },
  {
   "cell_type": "code",
   "execution_count": 1,
   "metadata": {
    "scrolled": true
   },
   "outputs": [],
   "source": [
    "f = lambda x, y, z: x + y + z"
   ]
  },
  {
   "cell_type": "code",
   "execution_count": 2,
   "metadata": {},
   "outputs": [
    {
     "data": {
      "text/plain": [
       "6"
      ]
     },
     "execution_count": 2,
     "metadata": {},
     "output_type": "execute_result"
    }
   ],
   "source": [
    "f(1, 2, 3)"
   ]
  },
  {
   "cell_type": "markdown",
   "metadata": {},
   "source": [
    "В **lambda-выражениях** можно использовать аргументы со значениями по умолчанию:"
   ]
  },
  {
   "cell_type": "code",
   "execution_count": 3,
   "metadata": {},
   "outputs": [],
   "source": [
    "f = lambda a='fee', b='fie', c='foe': a + b + c"
   ]
  },
  {
   "cell_type": "code",
   "execution_count": 4,
   "metadata": {},
   "outputs": [
    {
     "data": {
      "text/plain": [
       "'weefiefoe'"
      ]
     },
     "execution_count": 4,
     "metadata": {},
     "output_type": "execute_result"
    }
   ],
   "source": [
    "f('wee')"
   ]
  },
  {
   "cell_type": "markdown",
   "metadata": {},
   "source": [
    "**lambda-выражения** очень удобны для создания очень маленьких функций. Они не являются предметом первой необходимости (вы всегда можете вместо них использовать инструкции **def**), но они позволяют упростить сценарии, где требуется внедрять небольшие фрагменты программного кода."
   ]
  },
  {
   "cell_type": "markdown",
   "metadata": {},
   "source": [
    "### Встроенныефункции map, filter, reduce"
   ]
  },
  {
   "cell_type": "markdown",
   "metadata": {},
   "source": [
    "Функция **map** выполняет отображение функции на последовательность.\n",
    "Очень часто встречающейся задачей является применение некоторой операции к каждому элементу в списке или в другой последовательности и сборе полученных результатов. Функция **map** применяет указанную функцию к каждому элементу последовательности и возвращает итерируемый объект, поэтому для вывода всех результатов в интерактивной оболочке мы используем функцию **list**."
   ]
  },
  {
   "cell_type": "code",
   "execution_count": 5,
   "metadata": {
    "scrolled": false
   },
   "outputs": [
    {
     "data": {
      "text/plain": [
       "[1, 2, 3, 4]"
      ]
     },
     "execution_count": 5,
     "metadata": {},
     "output_type": "execute_result"
    }
   ],
   "source": [
    "L = [1, 2, 3, 4]\n",
    "L"
   ]
  },
  {
   "cell_type": "code",
   "execution_count": 6,
   "metadata": {},
   "outputs": [
    {
     "data": {
      "text/plain": [
       "[1, 4, 9, 16]"
      ]
     },
     "execution_count": 6,
     "metadata": {},
     "output_type": "execute_result"
    }
   ],
   "source": [
    "list(map(lambda x: x ** 2, L))"
   ]
  },
  {
   "cell_type": "markdown",
   "metadata": {},
   "source": [
    "Функция **filter** отфильтровывает элементы последовательности с помощью функции, выполняющей проверку. Например, следующий вызов функции **filter** отбирает элементы последовательности больше нуля:"
   ]
  },
  {
   "cell_type": "code",
   "execution_count": 7,
   "metadata": {},
   "outputs": [
    {
     "data": {
      "text/plain": [
       "[-5, -4, -3, -2, -1, 0, 1, 2, 3, 4]"
      ]
     },
     "execution_count": 7,
     "metadata": {},
     "output_type": "execute_result"
    }
   ],
   "source": [
    "L = range(-5, 5)\n",
    "list(L)"
   ]
  },
  {
   "cell_type": "code",
   "execution_count": 8,
   "metadata": {
    "scrolled": true
   },
   "outputs": [
    {
     "name": "stdout",
     "output_type": "stream",
     "text": [
      "[1, 2, 3, 4]\n"
     ]
    }
   ],
   "source": [
    "Filter = list(filter(lambda x: x > 0, L))\n",
    "print(Filter)"
   ]
  },
  {
   "cell_type": "markdown",
   "metadata": {},
   "source": [
    "Как и **map**, функция **filter** является примерным эквивалентом цикла **for**, только она – встроенная функция и обладает высокой скоростью выполнения."
   ]
  },
  {
   "cell_type": "markdown",
   "metadata": {},
   "source": [
    "Функция **reduce** в Python 3.0 была перемещена в модуль **functools** и стала более сложной, поэтому импортируем её."
   ]
  },
  {
   "cell_type": "code",
   "execution_count": 9,
   "metadata": {},
   "outputs": [],
   "source": [
    "from functools import reduce"
   ]
  },
  {
   "cell_type": "markdown",
   "metadata": {},
   "source": [
    "Функция **reduce** принимает итератор, но возвращает одиночный объект. Ниже приводятся два вызова функции **reduce**, которые вычисляют сумму и произведение элементов списка. На каждом шаге функция **reduce** передает текущую сумму или произведение вместе со следующим элементом списка **lambda-функции**."
   ]
  },
  {
   "cell_type": "code",
   "execution_count": 10,
   "metadata": {},
   "outputs": [
    {
     "data": {
      "text/plain": [
       "10"
      ]
     },
     "execution_count": 10,
     "metadata": {},
     "output_type": "execute_result"
    }
   ],
   "source": [
    "red_sum = reduce((lambda x, y: x + y), [1, 2, 3, 4])\n",
    "red_sum"
   ]
  },
  {
   "cell_type": "code",
   "execution_count": 11,
   "metadata": {},
   "outputs": [
    {
     "data": {
      "text/plain": [
       "24"
      ]
     },
     "execution_count": 11,
     "metadata": {},
     "output_type": "execute_result"
    }
   ],
   "source": [
    "red_mul = reduce((lambda x, y: x * y), [1, 2, 3, 4])\n",
    "red_mul"
   ]
  },
  {
   "cell_type": "markdown",
   "metadata": {},
   "source": [
    "### Обработка ошибок и исключения (try, except, finally)"
   ]
  },
  {
   "cell_type": "markdown",
   "metadata": {},
   "source": [
    "При программировании на Python мы можем столкнуться с двумя типами ошибок. Первый тип представляют синтаксические ошибки (**syntax error**). Они появляются в результате нарушения синтаксиса языка программирования при написании исходного кода. Второй тип ошибок представляют ошибки выполнения (**runtime error**). Они появляются в уже скомпилированной программе в процессе ее выполнения. Подобные ошибки еще называются исключениями. При возникновении исключения работа программы прерывается, и чтобы избежать подобного поведения и обрабатывать исключения в Python есть конструкция **try..except**, которая имеет следующее формальное определение:<br>\n",
    "**try:**<br>\n",
    "&emsp;&emsp;инструкции<br>\n",
    "**except [Тип_исключения 1]**:<br>\n",
    "&emsp;&emsp;инструкции<br>\n",
    "**except [Тип_исключения 2]**:<br>\n",
    "&emsp;&emsp;инструкции<br>\n",
    "**finally**:<br>\n",
    "&emsp;&emsp;блок будет выполнен в любом случае<br>\n",
    "<br>\n",
    "Весь основной код, в котором потенциально может возникнуть исключение, помещается после ключевого слова **try**. Если в этом коде генерируется исключение, то работа кода в блоке **try** прерывается, и выполнение переходит в блок **except**."
   ]
  },
  {
   "cell_type": "code",
   "execution_count": 12,
   "metadata": {},
   "outputs": [
    {
     "name": "stdout",
     "output_type": "stream",
     "text": [
      "Вы пытаетесь разделить на ноль\n"
     ]
    }
   ],
   "source": [
    "x = 5\n",
    "y = 0\n",
    "try:\n",
    "    x / y # деление на 0 выдаст ошибку, но мы её обработаем в блоке except\n",
    "except ZeroDivisionError:\n",
    "    print('Вы пытаетесь разделить на ноль')"
   ]
  },
  {
   "cell_type": "markdown",
   "metadata": {},
   "source": [
    "**Основные исключения**"
   ]
  },
  {
   "cell_type": "markdown",
   "metadata": {},
   "source": [
    "Список основных встроенных исключений:<br>\n",
    "&emsp;&emsp;**Exception** – то, на чем фактически строятся все остальные ошибки;<br>\n",
    "&emsp;&emsp;**AttributeError** – возникает, когда ссылка атрибута или присвоение не могут быть выполнены;<br>\n",
    "&emsp;&emsp;**IOError** – возникает в том случае, когда операция I/O (такая как оператор вывода, встроенная функция open() или метод объекта-файла) не может быть выполнена, по связанной с I/O причине: «файл не найден», или «диск заполнен», иными словами;<br>\n",
    "&emsp;&emsp;**ImportError** – возникает, когда оператор import не может найти определение модуля, или когда оператор не может найти имя файла, который должен быть импортирован;<br>\n",
    "&emsp;&emsp;**IndexError** – возникает, когда индекс последовательности находится вне допустимого диапазона;<br>\n",
    "&emsp;&emsp;**KeyError** – возникает, когда ключ сопоставления (dictionary key) не найден в наборе существующих ключей;<br>\n",
    "&emsp;&emsp;**KeyboardInterrupt** – возникает, когда пользователь нажимает клавишу прерывания(обычно Delete или Ctrl+C);<br>\n",
    "&emsp;&emsp;**NameError** – возникает, когда локальное или глобальное имя не найдено;<br>\n",
    "&emsp;&emsp;**OSError** – возникает, когда функция получает связанную с системой ошибку;<br>\n",
    "&emsp;&emsp;**SyntaxError** — возникает, когда синтаксическая ошибка встречается синтаксическим анализатором;<br>\n",
    "&emsp;&emsp;**TypeError** – возникает, когда операция или функция применяется к объекту несоответствующего типа. Связанное значение представляет собой строку, в которой приводятся подробные сведения о несоответствии типов;<br>\n",
    "&emsp;&emsp;**ValueError** – возникает, когда встроенная операция или функция получают аргумент, тип которого правильный, но неправильно значение, и ситуация не может описано более точно, как при возникновении IndexError;<br>\n",
    "&emsp;&emsp;**ZeroDivisionError** – возникает, когда второй аргумент операции division или modulo равен нулю;"
   ]
  },
  {
   "cell_type": "markdown",
   "metadata": {},
   "source": [
    "### Генераторы"
   ]
  },
  {
   "cell_type": "markdown",
   "metadata": {},
   "source": [
    "Генератором называют функцию, которая возвращает итератор. Она выглядит как обычная функция, за исключением того, что она содержит оператор **yield**, возвращающий серию значений, используемых в цикле или через функцию **next()**. Каждый оператор **yield** временно замораживает процесс, запоминая позицию выполнения (включая внутренние переменные)."
   ]
  },
  {
   "cell_type": "code",
   "execution_count": 13,
   "metadata": {},
   "outputs": [],
   "source": [
    "def simple_generator():\n",
    "    yield 'first'\n",
    "    yield 'second'\n",
    "    yield 'third'"
   ]
  },
  {
   "cell_type": "code",
   "execution_count": 14,
   "metadata": {},
   "outputs": [
    {
     "name": "stdout",
     "output_type": "stream",
     "text": [
      "first\n",
      "second\n",
      "third\n"
     ]
    }
   ],
   "source": [
    "for i in simple_generator():\n",
    "    print(i)"
   ]
  },
  {
   "cell_type": "code",
   "execution_count": 15,
   "metadata": {},
   "outputs": [
    {
     "data": {
      "text/plain": [
       "'first'"
      ]
     },
     "execution_count": 15,
     "metadata": {},
     "output_type": "execute_result"
    }
   ],
   "source": [
    "a = simple_generator()\n",
    "next(a)"
   ]
  },
  {
   "cell_type": "code",
   "execution_count": 16,
   "metadata": {},
   "outputs": [
    {
     "data": {
      "text/plain": [
       "'second'"
      ]
     },
     "execution_count": 16,
     "metadata": {},
     "output_type": "execute_result"
    }
   ],
   "source": [
    "next(a)"
   ]
  },
  {
   "cell_type": "code",
   "execution_count": 17,
   "metadata": {},
   "outputs": [
    {
     "data": {
      "text/plain": [
       "'third'"
      ]
     },
     "execution_count": 17,
     "metadata": {},
     "output_type": "execute_result"
    }
   ],
   "source": [
    "next(a)"
   ]
  },
  {
   "cell_type": "markdown",
   "metadata": {},
   "source": [
    "### Генераторы списков"
   ]
  },
  {
   "cell_type": "markdown",
   "metadata": {},
   "source": [
    "В Python есть особая синтаксическая конструкция, с помощью которой можно на основании определенных правил создавать заполненные списки. Формируемые списки могут получаться различными, содержание конструкции может быть разным, поэтому они получили название генераторы списков. Они удобны, потому что записи получаются не такими длинными, нежели при традиционном методе создания списков.\n",
    "\n",
    "К примеру, нужен список из квадратов натуральных чисел до конкретного числа. Традиционный метод будет иметь такой вид:"
   ]
  },
  {
   "cell_type": "code",
   "execution_count": 5,
   "metadata": {},
   "outputs": [
    {
     "name": "stdout",
     "output_type": "stream",
     "text": [
      "[1, 4, 9, 16, 25, 36, 49, 64, 81, 100, 121, 144, 169, 196]\n"
     ]
    }
   ],
   "source": [
    "a = []\n",
    "for i in range(1,15):\n",
    "    a.append(i**2)\n",
    "\n",
    "print(a)"
   ]
  },
  {
   "cell_type": "markdown",
   "metadata": {},
   "source": [
    "Список занял три строчки кода. А генератору нужна только одна:"
   ]
  },
  {
   "cell_type": "code",
   "execution_count": 4,
   "metadata": {},
   "outputs": [
    {
     "data": {
      "text/plain": [
       "[1, 4, 9, 16, 25, 36, 49, 64, 81, 100, 121, 144, 169, 196]"
      ]
     },
     "execution_count": 4,
     "metadata": {},
     "output_type": "execute_result"
    }
   ],
   "source": [
    "a = [i**2 for i in range(1,15)]\n",
    "a"
   ]
  },
  {
   "cell_type": "markdown",
   "metadata": {},
   "source": [
    "Конструкция **[i&ast;&ast;2 for i in range(1,15)]** - это генератор списка. Всю конструкции нужно поместить в квадратные скобки, что отражает создание списка. Внутри скобок есть три части:\n",
    "- Что будем делать с элементом (в нашей ситуации возводим элемент в квадрат);\n",
    "- Что будем брать (мы берем элемент **i**);\n",
    "- Откуда будем брать (из объекта **range**). Для отделения частей используем ключевые слова **in** и **for**. "
   ]
  },
  {
   "cell_type": "markdown",
   "metadata": {},
   "source": [
    "Генераторы списков могут дополняться конструкцией **if**. К примеру, если нужно извлечь все числа из строки:"
   ]
  },
  {
   "cell_type": "code",
   "execution_count": 3,
   "metadata": {},
   "outputs": [
    {
     "data": {
      "text/plain": [
       "[9, 4, 2, 3, 1, 9]"
      ]
     },
     "execution_count": 3,
     "metadata": {},
     "output_type": "execute_result"
    }
   ],
   "source": [
    "a = \"lsj94ksd231 9\"\n",
    "b = [int(i) for i in a if '0'<=i<='9']\n",
    "b"
   ]
  }
 ],
 "metadata": {
  "kernelspec": {
   "display_name": "Python 3",
   "language": "python",
   "name": "python3"
  },
  "language_info": {
   "codemirror_mode": {
    "name": "ipython",
    "version": 3
   },
   "file_extension": ".py",
   "mimetype": "text/x-python",
   "name": "python",
   "nbconvert_exporter": "python",
   "pygments_lexer": "ipython3",
   "version": "3.5.4"
  }
 },
 "nbformat": 4,
 "nbformat_minor": 2
}
