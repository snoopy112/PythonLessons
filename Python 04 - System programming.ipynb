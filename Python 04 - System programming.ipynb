{
 "cells": [
  {
   "cell_type": "markdown",
   "metadata": {},
   "source": [
    "# Уроки по Python3\n",
    "## Системное программирование\n"
   ]
  },
  {
   "cell_type": "markdown",
   "metadata": {},
   "source": [
    "### Регулярные выражения (re)"
   ]
  },
  {
   "cell_type": "markdown",
   "metadata": {},
   "source": [
    "Регулярные выражения – это небольшой язык, который вы можете использовать внутри Python и многих других языках программирования. Зачастую регулярные выражения упоминаются как **regex**, **regexp** или просто **re** (от reuglar expressions). Такие языки как Perl и Ruby фактически поддерживают синтаксис регулярных выражений прямо в собственном языке. Python же поддерживает благодаря библиотеки, которую вам нужно импортировать:"
   ]
  },
  {
   "cell_type": "code",
   "execution_count": 1,
   "metadata": {},
   "outputs": [],
   "source": [
    "import re"
   ]
  },
  {
   "cell_type": "markdown",
   "metadata": {},
   "source": [
    "Основное использование регулярных выражений – это сопоставление строк. Вы создаете правила сопоставления строк, используя регулярные выражения, после чего вы применяете их в строке, чтобы увидеть, присутствуют ли какие-либо сопоставления."
   ]
  },
  {
   "cell_type": "markdown",
   "metadata": {},
   "source": [
    "**Согласуемые символы**"
   ]
  },
  {
   "cell_type": "markdown",
   "metadata": {},
   "source": [
    "Когда вам нужно найти символ в строке, в большей части случаев вы можете просто использовать этот символ или строку. Так что, когда нам нужно проверить наличие слова «dog», то мы будем использовать буквы в dog. Конечно, существуют определенные символы, которые заняты регулярными выражениями. Они так же известны как метасимволы. Внизу изложен полный список метасимволов:"
   ]
  },
  {
   "cell_type": "markdown",
   "metadata": {},
   "source": [
    ". ˆ $ * + ? { } [ ] | ( )"
   ]
  },
  {
   "cell_type": "markdown",
   "metadata": {},
   "source": [
    "Основная связка метасимволов, с которой вы будете сталкиваться, это квадратные скобки: **[ и ]**. Они используются для создания «класса символов», который является набором символов, которые вы можете сопоставить. Вы можете отсортировать символы индивидуально, например, так: **[xyz]**. Это сопоставит любой внесенный в скобки символ. Вы также можете использовать тире для выражения ряда символов, соответственно: **[a-g]**. В этом примере мы сопоставим одну из букв в ряде между a и g. Фактически для выполнения поиска нам нужно добавить начальный искомый символ и конечный. Чтобы упростить это, мы можем использовать звездочку. Вместо сопоставления *, данный символ указывает регулярному выражению, что предыдущий символ может быть сопоставлен 0 или более раз. "
   ]
  },
  {
   "cell_type": "markdown",
   "metadata": {},
   "source": [
    "Пример шаблона регулярного выражения **'a[b-f]&ast;f'** показывает, что мы ищем букву **«a»**, ноль или несколько букв из списка **[b-f]** (&ast; говорит как раз о количестве вхождений с нуля) и поиск должен закончиться на **«f»**. Давайте используем это выражение:"
   ]
  },
  {
   "cell_type": "code",
   "execution_count": 2,
   "metadata": {
    "scrolled": true
   },
   "outputs": [
    {
     "name": "stdout",
     "output_type": "stream",
     "text": [
      "abcdf\n"
     ]
    }
   ],
   "source": [
    "match = re.search('a[b-f]*f', 'abcdfghijk')\n",
    "print(match.group()) # 'abcdf'"
   ]
  },
  {
   "cell_type": "markdown",
   "metadata": {},
   "source": [
    "В общем, это выражение просмотрит всю переданную ей строку, в данном случае это **abcdfghijk**.\n",
    "Выражение найдет нашу букву **«a»** в начале поиска. Затем, в связи с тем, что она имеет класс символа со звездочкой в конце, выражение прочитает остальную часть строки, что бы посмотреть, сопоставима ли она. Если нет, то выражение будет пропускать по одному символу, пытаясь найти совпадения. Вся магия начинается, когда мы вызываем поисковую функцию **search** модуля **re**. Если мы не найдем совпадение, тогда мы получим **None**. В противном случае, мы получим объект **Match**. Чтобы увидеть, как выглядит совпадение, вам нужно вызывать метод **group**."
   ]
  },
  {
   "cell_type": "markdown",
   "metadata": {},
   "source": [
    "Символу **«+»** необходимо как минимум одно вхождение искомого символа:"
   ]
  },
  {
   "cell_type": "code",
   "execution_count": 3,
   "metadata": {
    "scrolled": true
   },
   "outputs": [
    {
     "name": "stdout",
     "output_type": "stream",
     "text": [
      "abf\n"
     ]
    }
   ],
   "source": [
    "match = re.search('a[b-f]+f', 'abfghijk') # если будет только af, то выдаст ошибку\n",
    "print(match.group()) # 'abf'"
   ]
  },
  {
   "cell_type": "markdown",
   "metadata": {},
   "source": [
    "Символ **«.»** (точка) обозначает любой символ кроме символа перевода строки \\n"
   ]
  },
  {
   "cell_type": "code",
   "execution_count": 4,
   "metadata": {},
   "outputs": [
    {
     "name": "stdout",
     "output_type": "stream",
     "text": [
      "abf\n"
     ]
    }
   ],
   "source": [
    "match = re.search('a.f', 'abfghijk') # если будет только af, то выдаст ошибку\n",
    "print(match.group()) # 'abf'"
   ]
  },
  {
   "cell_type": "markdown",
   "metadata": {},
   "source": [
    "Символ знака вопроса **«?»** ставится в том случае, если предыдущий символ может повторяться в выражении 0 или 1 раз, например: "
   ]
  },
  {
   "cell_type": "code",
   "execution_count": 5,
   "metadata": {
    "scrolled": true
   },
   "outputs": [
    {
     "name": "stdout",
     "output_type": "stream",
     "text": [
      "co-op\n"
     ]
    }
   ],
   "source": [
    "match = re.search('co-?op', 'co-op') # выражение 'co-?op' будет находить и 'coop' и 'co-op'\n",
    "print(match.group())"
   ]
  },
  {
   "cell_type": "markdown",
   "metadata": {},
   "source": [
    "Последний повторяемый метасимвол это **{a,b}**, где **«a»** и **«b»** являются десятичными целыми числами. Это значит, что должно быть не менее **«а»** повторений, но и не более **«b»**. Вы можете попробовать что-то на подобии этого:"
   ]
  },
  {
   "cell_type": "code",
   "execution_count": 6,
   "metadata": {},
   "outputs": [
    {
     "name": "stdout",
     "output_type": "stream",
     "text": [
      "aaa\n"
     ]
    }
   ],
   "source": [
    "match = re.search('a{1,3}', 'aaaa')\n",
    "print(match.group()) # 'aaa'"
   ]
  },
  {
   "cell_type": "markdown",
   "metadata": {},
   "source": [
    "Следующий метасимвол это **«^»**. Этот символ позволяет нам сопоставить символы которые не находятся в списке нашего класса. Другими словами, он будет дополнять наш класс. Это сработает только в том случае, если мы разместим **«^»** внутри нашего класса. Если этот символ находится вне класса, тогда мы попытаемся найти совпадения с данным символом. Наглядным примером будет следующий: **[ˆa]**. Так, выражения будет искать совпадения с любой буквой, **кроме «а»**:"
   ]
  },
  {
   "cell_type": "code",
   "execution_count": 7,
   "metadata": {},
   "outputs": [
    {
     "name": "stdout",
     "output_type": "stream",
     "text": [
      "b\n"
     ]
    }
   ],
   "source": [
    "match = re.search('[^a]', 'aaba')\n",
    "print(match.group()) # 'b'"
   ]
  },
  {
   "cell_type": "markdown",
   "metadata": {},
   "source": [
    "Символ **«^»** также используется как анкор, который обычно используется для совпадений **в начале строки**. Существует соответствующий якорь и для конца строки – **«$»**."
   ]
  },
  {
   "cell_type": "markdown",
   "metadata": {},
   "source": [
    "**Коды поиска**"
   ]
  },
  {
   "cell_type": "markdown",
   "metadata": {},
   "source": [
    "Существует несколько специальных выражений, которые вы можете использовать в регулярных выражениях. Вот короткий список с кратким пояснением каждого кода:\n",
    "\n",
    "- **.** точка обозначает любой символ, кроме символа перевода строки '\\n'\n",
    "- **\\d** соответствует любой цифре ([0-9])\n",
    "- **\\D** соответствует не цифре ([^0-9])\n",
    "- **\\s** соответствует пустому полю (пробел или табуляция) ([ \\t\\n\\r\\f\\v])\n",
    "- **\\S** соответствует заполненному полю ([^ \\t\\n\\r\\f\\v])\n",
    "- **\\w** соответствует алфавитно-цифровому значению или знаку подчеркивания ([A-Za-z0-9_])\n",
    "- **\\W** соответствует не алфавитно-цифровому значению ([^a-zA-Z0-9_])\n",
    "- **\\t, \\n, \\r** табуляция, новая строка, перевод каретки\n",
    "- **\\b** соответствует пустой строке, но только в начале или в конце слова; под словом понимается последовательность алфавитно-цифровых или символов подчеркивания, таким образом конец слова определяется пробелом или неалфавитно-цифровым символом и не символом подчеркивания; формально \\b определяется как граница между символами \\w и \\W (или наоборот), или между \\w и началом/концом строки; например, r'\\bfoo\\b' соответствует 'foo', 'foo.', '(foo)', 'bar foo bar', но не 'foobar' или 'foo3'.\n",
    "- **^, $** соответствует началу и концу строки\n",
    "- **\\** подавляют \"специализированность\" символа; так, например, \\. означает точку или \\\\ означает слэш; если вы не уверены, есть ли у символа специальное значение, как например у @, вы можете поставить перед ним \\, чтобы быть уверенным, что @ используется просто как символ.\n",
    "\n",
    "Вы можете использовать эти коды внутри класса символа вот так: **[\\d]**. Таким образом, это позволит нам найти любую цифру, находящейся в пределе от 0 до 9. "
   ]
  },
  {
   "cell_type": "code",
   "execution_count": 8,
   "metadata": {},
   "outputs": [
    {
     "name": "stdout",
     "output_type": "stream",
     "text": [
      "еет\n"
     ]
    }
   ],
   "source": [
    "match = re.search(r'..т', 'привееет')\n",
    "print(match.group())"
   ]
  },
  {
   "cell_type": "code",
   "execution_count": 9,
   "metadata": {},
   "outputs": [
    {
     "name": "stdout",
     "output_type": "stream",
     "text": [
      "asd\n"
     ]
    }
   ],
   "source": [
    "match = re.search(r'\\w\\w\\w', '@#$asdf%^&*')\n",
    "print(match.group())"
   ]
  },
  {
   "cell_type": "code",
   "execution_count": 10,
   "metadata": {},
   "outputs": [
    {
     "name": "stdout",
     "output_type": "stream",
     "text": [
      "123\n"
     ]
    }
   ],
   "source": [
    "match = re.search(r'\\d\\d\\d', 'w123xyz')\n",
    "print(match.group())"
   ]
  },
  {
   "cell_type": "code",
   "execution_count": 11,
   "metadata": {},
   "outputs": [
    {
     "name": "stdout",
     "output_type": "stream",
     "text": [
      "asdf\n"
     ]
    }
   ],
   "source": [
    "match = re.search(r'\\w{4}', '@#$asdf%^&*') # повторения\n",
    "print(match.group())"
   ]
  },
  {
   "cell_type": "code",
   "execution_count": 12,
   "metadata": {},
   "outputs": [
    {
     "name": "stdout",
     "output_type": "stream",
     "text": [
      "iii\n"
     ]
    }
   ],
   "source": [
    "match = re.search(r'i+', 'piiig') # i+ соответствует любому количеству символов i подряд\n",
    "print(match.group())"
   ]
  },
  {
   "cell_type": "code",
   "execution_count": 13,
   "metadata": {},
   "outputs": [
    {
     "name": "stdout",
     "output_type": "stream",
     "text": [
      "лл\n"
     ]
    }
   ],
   "source": [
    "match = re.search(r'л+', 'параллелограмм') # возвращает первое вхождение л+\n",
    "print(match.group())"
   ]
  },
  {
   "cell_type": "code",
   "execution_count": 14,
   "metadata": {},
   "outputs": [
    {
     "name": "stdout",
     "output_type": "stream",
     "text": [
      "1 2   3\n",
      "12  3\n",
      "123\n"
     ]
    }
   ],
   "source": [
    "# поиск 3 цифр, возможно разделенных пробелами\n",
    "match = re.search(r'\\d\\s*\\d\\s*\\d', 'xx1 2   3xx')\n",
    "print(match.group())\n",
    "\n",
    "match = re.search(r'\\d\\s*\\d\\s*\\d', 'xx12  3xx')\n",
    "print(match.group())\n",
    "\n",
    "match = re.search(r'\\d\\s*\\d\\s*\\d', 'xx123xx')\n",
    "print(match.group())"
   ]
  },
  {
   "cell_type": "code",
   "execution_count": 15,
   "metadata": {},
   "outputs": [
    {
     "name": "stdout",
     "output_type": "stream",
     "text": [
      "None\n"
     ]
    }
   ],
   "source": [
    "match = re.search(r'^b\\w+', 'foobar') # символ ^ - означает начало строки, так что совпадений с таким шаблоном не будет\n",
    "print(match)"
   ]
  },
  {
   "cell_type": "code",
   "execution_count": 16,
   "metadata": {},
   "outputs": [
    {
     "name": "stdout",
     "output_type": "stream",
     "text": [
      "bar\n"
     ]
    }
   ],
   "source": [
    "match = re.search(r'b\\w+', 'foobar') # а без ^ все нормально\n",
    "print(match.group())"
   ]
  },
  {
   "cell_type": "code",
   "execution_count": 17,
   "metadata": {},
   "outputs": [
    {
     "name": "stdout",
     "output_type": "stream",
     "text": [
      "foo2\n"
     ]
    }
   ],
   "source": [
    "match = re.search(r'foo\\d+$', 'foo1barfoo2') # $ означает конец строки\n",
    "print(match.group())"
   ]
  },
  {
   "cell_type": "code",
   "execution_count": 18,
   "metadata": {},
   "outputs": [],
   "source": [
    "s = 'письма лично на почту a.vavilov-home@gmail.com ношу'"
   ]
  },
  {
   "cell_type": "code",
   "execution_count": 19,
   "metadata": {},
   "outputs": [
    {
     "name": "stdout",
     "output_type": "stream",
     "text": [
      "home@gmail\n"
     ]
    }
   ],
   "source": [
    "match = re.search(r'\\w+@\\w+', s) # найдем строку email\n",
    "if match:\n",
    "    print(match.group())"
   ]
  },
  {
   "cell_type": "markdown",
   "metadata": {},
   "source": [
    "### Наборы символов"
   ]
  },
  {
   "cell_type": "markdown",
   "metadata": {},
   "source": [
    "Для указания набора символов, как уже было сказано выше, используются квадратные скобки. Например, **[abc]** соответствуетсимволам **\"a\"** или **\"b\"** или **\"c\"**. Метасимволы теряют своё специальное значение внутри наборов символов (квадратных скобок). Например, **[(+&ast;)]** будет соответствовать любому из этих символов – '(', '+', '*', ')'. Классы символов, такие как \\w, \\s и т.п., также работают внутри наборов."
   ]
  },
  {
   "cell_type": "code",
   "execution_count": 20,
   "metadata": {},
   "outputs": [
    {
     "name": "stdout",
     "output_type": "stream",
     "text": [
      "a.vavilov-home@gmail.com\n"
     ]
    }
   ],
   "source": [
    "match = re.search(r'[\\w+.-]+@[\\w.-]+', s) # наборы символов\n",
    "if match:\n",
    "    print(match.group())"
   ]
  },
  {
   "cell_type": "markdown",
   "metadata": {},
   "source": [
    "### Группировка"
   ]
  },
  {
   "cell_type": "markdown",
   "metadata": {},
   "source": [
    "Возможность работать с группами в регулярных выражениях позволяет выделять из текста нужные части по шаблону. Например, мы хотим извлечь части email по отдельности – имя пользователя и домен. Для этого, в регулярном выражении обрамим круглыми скобками имя пользователя и домена:"
   ]
  },
  {
   "cell_type": "code",
   "execution_count": 21,
   "metadata": {},
   "outputs": [
    {
     "name": "stdout",
     "output_type": "stream",
     "text": [
      "a.vavilov-home@gmail.com\n",
      "a.vavilov-home и gmail.com\n"
     ]
    }
   ],
   "source": [
    "match = re.search(r'([\\w+.-]+)@([\\w.-]+)', s)\n",
    "if match:\n",
    "    print(match.group())\n",
    "    print(match.group(1), 'и', match.group(2))"
   ]
  },
  {
   "cell_type": "markdown",
   "metadata": {},
   "source": [
    "Если поиск шаблона в тексте будет успешен, то **match.group(1)** будет содержать текст, соответствующий содержимому 1-й скобки слева, а **match.group(2)** содержать текст, соответствующий содержимому 2-й скобки. **match.group()** по-прежнему будет содержать весь текст, как обычно.<br>\n",
    "Обычно, при работе с регулярными выражениями удобно придерживаться следующего порядка: сначала написать шаблон для всего искомого фрагмента текста, а затем добавить круглые скобки для определения групп извлечения из текста нужных вам частей."
   ]
  },
  {
   "cell_type": "markdown",
   "metadata": {},
   "source": [
    "### Функция findall"
   ]
  },
  {
   "cell_type": "markdown",
   "metadata": {},
   "source": [
    "Функция **findall** является самой мощной функцией модуля **'re'**. Мы использовали **re.search()**, чтобы найти первое соответствие шаблону. **findall()** находит все соответствия и возвращает их в виде списка строк, каждая из которых представляет одно соответствие."
   ]
  },
  {
   "cell_type": "code",
   "execution_count": 22,
   "metadata": {},
   "outputs": [],
   "source": [
    "s = 'some text abc@xyz.com foo bar alice-in-chains@gmail.com, \\\n",
    "freddie@queen.co.uk and on and on and on'"
   ]
  },
  {
   "cell_type": "code",
   "execution_count": 23,
   "metadata": {
    "scrolled": true
   },
   "outputs": [
    {
     "name": "stdout",
     "output_type": "stream",
     "text": [
      "['abc@xyz.com', 'alice-in-chains@gmail.com', 'freddie@queen.co.uk']\n"
     ]
    }
   ],
   "source": [
    "emails = re.findall(r'[\\w.-]+@[\\w.-]+', s)\n",
    "print(emails)"
   ]
  },
  {
   "cell_type": "markdown",
   "metadata": {},
   "source": [
    "Если шаблон включает в себя 2 или более группы скобок, то вместо того, чтобы возвращать список строк, **findall()** вернет список кортежей."
   ]
  },
  {
   "cell_type": "code",
   "execution_count": 24,
   "metadata": {
    "scrolled": true
   },
   "outputs": [
    {
     "name": "stdout",
     "output_type": "stream",
     "text": [
      "[('abc', 'xyz.com'), ('alice-in-chains', 'gmail.com'), ('freddie', 'queen.co.uk')]\n"
     ]
    }
   ],
   "source": [
    "emails = re.findall(r'([\\w.-]+)@([\\w.-]+)', s) # извлекаем имя и домен отдельно\n",
    "print(emails)"
   ]
  },
  {
   "cell_type": "markdown",
   "metadata": {},
   "source": [
    "Дополнение: иногда в вашем шаблоне есть сгруппированные скобками ( ) выражения, но вы не хотите извлекать их содержимое. В этих случаях напишите скобки с **?:** в начале, то есть **(?:...)**, и тогда содержимое этой группы не попадет в результат."
   ]
  },
  {
   "cell_type": "code",
   "execution_count": 25,
   "metadata": {},
   "outputs": [
    {
     "name": "stdout",
     "output_type": "stream",
     "text": [
      "['xyz.com', 'gmail.com', 'queen.co.uk']\n"
     ]
    }
   ],
   "source": [
    "emails = re.findall(r'(?:[\\w.-]+)@([\\w.-]+)', s) # только домен\n",
    "print(emails)"
   ]
  },
  {
   "cell_type": "markdown",
   "metadata": {},
   "source": [
    "Чтение из файла и поиск всех подходящих данных по шаблону."
   ]
  },
  {
   "cell_type": "code",
   "execution_count": 26,
   "metadata": {},
   "outputs": [
    {
     "name": "stdout",
     "output_type": "stream",
     "text": [
      " \n",
      "\t\t\t\t\tЕлисей \n",
      "\t\t\t\t\n"
     ]
    }
   ],
   "source": [
    "file = open('baby_names.html', encoding='utf8')\n",
    "\n",
    "table = re.findall(r'''\n",
    "    <tr>\\s*?\n",
    "        <td .+>(.*?)</td>\\s*?\n",
    "        <td .+>(.*?)</td>\\s*?\n",
    "        <td .+>(.*?)</td>\\s*?\n",
    "        <td .+>(.*?)</td>\\s*?\n",
    "        <td .+>(.*?)</td>\\s*?\n",
    "        <td .+>(.*?)</td>\\s*?\n",
    "        <td .+>(.*?)</td>\\s*?\n",
    "    </tr>''', file.read(), re.DOTALL | re.VERBOSE) # re.DOTALL - ключ говорит о том, что точка может заменять любой символ\n",
    "print(table[0][1])"
   ]
  },
  {
   "cell_type": "markdown",
   "metadata": {},
   "source": [
    "### Флаги"
   ]
  },
  {
   "cell_type": "markdown",
   "metadata": {},
   "source": [
    "Флаги компиляции позволяют изменять поведение регулярных выражений. Флаги доступны в модуле под двумя именами: длинным, таким как **IGNORECASE** и коротким, в однобуквенной форме, таким как I. Несколько флагов могут быть заданы в форме **двоичного ИЛИ**; например **re.I | re.M** устанавливает флаги **I и M**.\n",
    "\n",
    "**re.I** или **re.IGNORECASE**<br>\n",
    "&emsp;&emsp;Выполняет сравнение без учета регистра; например, [A-Z] будет также соответствовать и строчным буквам.\n",
    "\n",
    "**re.M** или **re.MULTILINE**<br>\n",
    "&emsp;&emsp;Если этот флаг указан, спецсимвол «^» означает начало всей строки и также начало каждой строчки (непосредственно следующее после каждого символа новой строки); и символ «\\\\$» означает конец строчки (непосредственно перед каждым символом новой строки). По умолчанию, «^» означает только начало всей строки, а «\\\\$» только конец всей строки.\n",
    "\n",
    "**re.S** или **re.DOTALL**<br>\n",
    "&emsp;&emsp;Если уставновлен этот флаг специальный символ «.» соответсвует всем символам, включая символ конца строки \\n.\n",
    "\n",
    "**re.X** или **re.VERBOSE**<br>\n",
    "&emsp;&emsp;Включает многословные (подробные) регулярные выражения, которые могут быть организованы более ясно и понятно. Если указан этот флаг, пробелы в строке регулярного выражения игнорируется, кроме случаев, когда они имеются в классе символов или им предшествует неэкранированный бэкслеш; это позволяет вам организовать регулярные выражения более ясным образом. Этот флаг также позволяет помещать в регулярные выражения комментарии, начинающиеся с «#», которые будут игнорироваться.\n"
   ]
  },
  {
   "cell_type": "markdown",
   "metadata": {},
   "source": [
    "### Функция sub"
   ]
  },
  {
   "cell_type": "markdown",
   "metadata": {},
   "source": [
    "Функция **sub** служит для замены подходящего по шаблону куска текста заданной строкой. Строка замены может включать **'\\1'**, **'\\2'**, которые ссылаются на текст из **group(1)**, **group(2)** и так далее из исходного текста."
   ]
  },
  {
   "cell_type": "code",
   "execution_count": 27,
   "metadata": {},
   "outputs": [
    {
     "name": "stdout",
     "output_type": "stream",
     "text": [
      "some text abc@supermail.com foo bar alice-in-chains@supermail.com, freddie@supermail.com and on and on and on\n"
     ]
    }
   ],
   "source": [
    "new_s = re.sub(r'([\\w.-]+)@([\\w.-]+)', r'\\1@supermail.com', s)\n",
    "print(new_s)"
   ]
  },
  {
   "cell_type": "markdown",
   "metadata": {},
   "source": [
    "### Компиляция регулярных выражений"
   ]
  },
  {
   "cell_type": "markdown",
   "metadata": {},
   "source": [
    "Если у вас есть регулярное выражение, которое вы хотите использовать многократно – его можно скомпилировать при помощи метода **compile()**. Пусть есть некий поисковый запрос и нужно извлечь из него код и удалить из него проблеы и '-'."
   ]
  },
  {
   "cell_type": "code",
   "execution_count": 28,
   "metadata": {},
   "outputs": [],
   "source": [
    "code = 'MR 335-035 Уплотнитель расширителя крыла'"
   ]
  },
  {
   "cell_type": "code",
   "execution_count": 29,
   "metadata": {},
   "outputs": [
    {
     "name": "stdout",
     "output_type": "stream",
     "text": [
      "MR335035\n",
      "\n",
      "\n"
     ]
    }
   ],
   "source": [
    "code_chars = re.compile(r'[a-zA-Z0-9_ -]+')\n",
    "if code_chars.match(code): \n",
    "    for code in code_chars.findall(code):\n",
    "        print(re.sub(r'[- ]', '', code))"
   ]
  },
  {
   "cell_type": "markdown",
   "metadata": {},
   "source": [
    "### Работа с системой (os, shutil)"
   ]
  },
  {
   "cell_type": "markdown",
   "metadata": {},
   "source": [
    "Модули **os** и **shutil** включают множество функций для работы с файловой системой, в том числе и для копирования файлов и каталогов. Импорт этих модулей:"
   ]
  },
  {
   "cell_type": "code",
   "execution_count": 30,
   "metadata": {
    "scrolled": true
   },
   "outputs": [],
   "source": [
    "import os\n",
    "import shutil"
   ]
  },
  {
   "cell_type": "markdown",
   "metadata": {},
   "source": [
    "Функция **os.listdir(dir)** возвращает список имен файлов в заданной директории (не включая . и ..). Имена файлов просто названия файлов в директории, а не абсолютные пути к ним."
   ]
  },
  {
   "cell_type": "code",
   "execution_count": 31,
   "metadata": {},
   "outputs": [
    {
     "name": "stdout",
     "output_type": "stream",
     "text": [
      "['.ipynb_checkpoints', '01-Preliminaries.ipynb', 'BabyNames.html', 'example.txt', 'example1.txt', 'Geekbrains. Профессия Программист Python (2015)', 'Homework 5_1.py', 'Python 01 - Introduction.ipynb', 'Python 02 - Functional programming.ipynb', 'Python 03 - Working with files.ipynb', 'Python 04 - System programming.ipynb', 'Python 05 - NumPy intro.ipynb', 'Python 06 - Pandas intro 1.ipynb', 'Python 07 - Pandas intro 2.ipynb', 'Python 08 - Scikit-Learn intro.ipynb', 'red_panda.png', 'road.mp4']\n",
      "['$Recycle.Bin', '1D30A158DDC1', '646FEDC52C0B', 'AD9298188676', 'ADB', 'AMETest', 'AMETest_.units', 'APKTool', 'Binaries', 'BMIDEProjectBackup', 'Boot', 'bootmgr', 'BOOTSECT.BAK', 'Config.Msi', 'd6d61b8672c1492a9e25a6042b9caf', 'Documents and Settings', 'gcc', 'gdiplus.dll', 'hiberfil.sys', 'Intel', 'mfg', 'msdia80.dll', 'MSOCache', 'mylog.log', 'pagefile.sys', 'PerfLogs', 'Program Files', 'Program Files (x86)', 'ProgramData', 'protocbuf', 'Python27', 'RHDSetup.log', 'setup.log', 'src', 'swshare', 'SWTOOLS', 'System Volume Information', 'temp', 'Users', 'usr', 'Windows', '__backuptrans_iosbk_temp', 'Осокин']\n"
     ]
    }
   ],
   "source": [
    "print(os.listdir()) # листинг файлов и директорий из текцщего каталога\n",
    "print(os.listdir('/')) # листинг файлов и директорий из корневого каталога (C:\\ для Windows)"
   ]
  },
  {
   "cell_type": "markdown",
   "metadata": {},
   "source": [
    "Функция **os.mkdir(dir_path)** создает одну директорию, а **os.makedirs(dir_path)** создаст директории в заданном пути."
   ]
  },
  {
   "cell_type": "code",
   "execution_count": 32,
   "metadata": {},
   "outputs": [
    {
     "name": "stdout",
     "output_type": "stream",
     "text": [
      "['.ipynb_checkpoints', '01-Preliminaries.ipynb', 'BabyNames.html', 'example.txt', 'example1.txt', 'Geekbrains. Профессия Программист Python (2015)', 'Homework 5_1.py', 'Python 01 - Introduction.ipynb', 'Python 02 - Functional programming.ipynb', 'Python 03 - Working with files.ipynb', 'Python 04 - System programming.ipynb', 'Python 05 - NumPy intro.ipynb', 'Python 06 - Pandas intro 1.ipynb', 'Python 07 - Pandas intro 2.ipynb', 'Python 08 - Scikit-Learn intro.ipynb', 'red_panda.png', 'road.mp4', 'test']\n"
     ]
    }
   ],
   "source": [
    "os.mkdir('test') # создание директории test\n",
    "print(os.listdir())"
   ]
  },
  {
   "cell_type": "markdown",
   "metadata": {},
   "source": [
    "Функция **os.rmdir(path)** удаляет директорию. Работает только для пустых директорий. Чтобы удалить директорию со всем её содержимым необходимо использовать **shutil.rmtree()**."
   ]
  },
  {
   "cell_type": "code",
   "execution_count": 33,
   "metadata": {},
   "outputs": [
    {
     "name": "stdout",
     "output_type": "stream",
     "text": [
      "['.ipynb_checkpoints', '01-Preliminaries.ipynb', 'BabyNames.html', 'example.txt', 'example1.txt', 'Geekbrains. Профессия Программист Python (2015)', 'Homework 5_1.py', 'Python 01 - Introduction.ipynb', 'Python 02 - Functional programming.ipynb', 'Python 03 - Working with files.ipynb', 'Python 04 - System programming.ipynb', 'Python 05 - NumPy intro.ipynb', 'Python 06 - Pandas intro 1.ipynb', 'Python 07 - Pandas intro 2.ipynb', 'Python 08 - Scikit-Learn intro.ipynb', 'red_panda.png', 'road.mp4']\n"
     ]
    }
   ],
   "source": [
    "os.rmdir('test') # удаление директории test\n",
    "print(os.listdir())"
   ]
  },
  {
   "cell_type": "markdown",
   "metadata": {},
   "source": [
    "Функция **os.path.join(path1[, path2[, ...]])** объединяет пути к файлу. Например, удобно объединить этой функцией **dir** и **filename**, чтобы получить полный путь к файлу."
   ]
  },
  {
   "cell_type": "code",
   "execution_count": 34,
   "metadata": {},
   "outputs": [
    {
     "name": "stdout",
     "output_type": "stream",
     "text": [
      "Users\\user\\text.txt\n"
     ]
    }
   ],
   "source": [
    "print(os.path.join('Users', 'user', 'text.txt'))"
   ]
  },
  {
   "cell_type": "markdown",
   "metadata": {},
   "source": [
    "Функция **os.path.abspath(path)** получает путь, возвращает абсолютный путь, например: **/home/vasily/spam/eggs.html**"
   ]
  },
  {
   "cell_type": "code",
   "execution_count": 35,
   "metadata": {},
   "outputs": [
    {
     "name": "stdout",
     "output_type": "stream",
     "text": [
      "C:\\Users\\osokin\\Downloads\\PythonLessons\\example.txt\n"
     ]
    }
   ],
   "source": [
    "print(os.path.abspath('example.txt'))"
   ]
  },
  {
   "cell_type": "markdown",
   "metadata": {},
   "source": [
    "Функция **os.path.dirname(path)** возвращает название директории из заданного пути. Например: **vasily/spam/eggs.html** вернет **vasily/spam**."
   ]
  },
  {
   "cell_type": "code",
   "execution_count": 36,
   "metadata": {},
   "outputs": [
    {
     "name": "stdout",
     "output_type": "stream",
     "text": [
      "C:\\Users\\osokin\\Downloads\\PythonLessons\n"
     ]
    }
   ],
   "source": [
    "print(os.path.dirname('C:\\\\Users\\\\osokin\\\\Downloads\\\\PythonLessons\\\\example.txt'))"
   ]
  },
  {
   "cell_type": "markdown",
   "metadata": {},
   "source": [
    "Функция **os.path.basename(path)** возвращает название файла. Например, **vasily/spam/eggs.html** вернет **eggs.html**."
   ]
  },
  {
   "cell_type": "code",
   "execution_count": 37,
   "metadata": {},
   "outputs": [
    {
     "name": "stdout",
     "output_type": "stream",
     "text": [
      "example.txt\n"
     ]
    }
   ],
   "source": [
    "print(os.path.basename('C:\\\\Users\\\\osokin\\\\Downloads\\\\PythonLessons\\\\example.txt'))"
   ]
  },
  {
   "cell_type": "markdown",
   "metadata": {},
   "source": [
    "Функция **os.path.exists(path)** – истина, если путь path существует."
   ]
  },
  {
   "cell_type": "code",
   "execution_count": 38,
   "metadata": {
    "scrolled": true
   },
   "outputs": [
    {
     "name": "stdout",
     "output_type": "stream",
     "text": [
      "True\n"
     ]
    }
   ],
   "source": [
    "print(os.path.exists('C:\\\\Users\\\\osokin\\\\Downloads\\\\PythonLessons'))"
   ]
  },
  {
   "cell_type": "markdown",
   "metadata": {},
   "source": [
    "Функция **os.remove(path_to_file)** удаляет файл."
   ]
  },
  {
   "cell_type": "code",
   "execution_count": 39,
   "metadata": {},
   "outputs": [
    {
     "data": {
      "text/plain": [
       "True"
      ]
     },
     "execution_count": 39,
     "metadata": {},
     "output_type": "execute_result"
    }
   ],
   "source": [
    "a = open('test.txt', 'w').write('text '*5) # создадим файл и запишем в него text 5 раз\n",
    "os.path.exists('test.txt') # проверка существования файла"
   ]
  },
  {
   "cell_type": "code",
   "execution_count": 40,
   "metadata": {},
   "outputs": [],
   "source": [
    "os.remove('test.txt') # удалим файл"
   ]
  },
  {
   "cell_type": "markdown",
   "metadata": {},
   "source": [
    "**Рекурсивное создание директорий**"
   ]
  },
  {
   "cell_type": "code",
   "execution_count": 41,
   "metadata": {},
   "outputs": [],
   "source": [
    "path = 'test/subtest/subsubtest'\n",
    "# os.mkdir(path) # вызовет ошибку\n",
    "os.makedirs(path)\n",
    "# os.rmdir(path) # удалит только последнюю директорию subsubtest"
   ]
  },
  {
   "cell_type": "markdown",
   "metadata": {},
   "source": [
    "**Перебор файлов в директории**"
   ]
  },
  {
   "cell_type": "code",
   "execution_count": 42,
   "metadata": {},
   "outputs": [
    {
     "name": "stdout",
     "output_type": "stream",
     "text": [
      "C:\\Users\\osokin\\Downloads\\PythonLessons\\.ipynb_checkpoints\n",
      "C:\\Users\\osokin\\Downloads\\PythonLessons\\01-Preliminaries.ipynb\n",
      "C:\\Users\\osokin\\Downloads\\PythonLessons\\BabyNames.html\n",
      "C:\\Users\\osokin\\Downloads\\PythonLessons\\example.txt\n",
      "C:\\Users\\osokin\\Downloads\\PythonLessons\\example1.txt\n",
      "C:\\Users\\osokin\\Downloads\\PythonLessons\\Geekbrains. Профессия Программист Python (2015)\n",
      "C:\\Users\\osokin\\Downloads\\PythonLessons\\Homework 5_1.py\n",
      "C:\\Users\\osokin\\Downloads\\PythonLessons\\Python 01 - Introduction.ipynb\n",
      "C:\\Users\\osokin\\Downloads\\PythonLessons\\Python 02 - Functional programming.ipynb\n",
      "C:\\Users\\osokin\\Downloads\\PythonLessons\\Python 03 - Working with files.ipynb\n",
      "C:\\Users\\osokin\\Downloads\\PythonLessons\\Python 04 - System programming.ipynb\n",
      "C:\\Users\\osokin\\Downloads\\PythonLessons\\Python 05 - NumPy intro.ipynb\n",
      "C:\\Users\\osokin\\Downloads\\PythonLessons\\Python 06 - Pandas intro 1.ipynb\n",
      "C:\\Users\\osokin\\Downloads\\PythonLessons\\Python 07 - Pandas intro 2.ipynb\n",
      "C:\\Users\\osokin\\Downloads\\PythonLessons\\Python 08 - Scikit-Learn intro.ipynb\n",
      "C:\\Users\\osokin\\Downloads\\PythonLessons\\red_panda.png\n",
      "C:\\Users\\osokin\\Downloads\\PythonLessons\\road.mp4\n",
      "C:\\Users\\osokin\\Downloads\\PythonLessons\\test\n"
     ]
    }
   ],
   "source": [
    "path = 'C:\\\\Users\\\\osokin\\\\Downloads\\\\PythonLessons'\n",
    "filenames = os.listdir(path)\n",
    "for filename in filenames:\n",
    "    # print(filename) # имя файла\n",
    "    # print(os.path.join(path, filename)) # путь относительно текущей директории\n",
    "    print(os.path.abspath(os.path.join(path, filename))) # абсолютный путь"
   ]
  },
  {
   "cell_type": "markdown",
   "metadata": {},
   "source": [
    "**Копирование и удаление файлов и директорий с помощью библиотеки shutil**"
   ]
  },
  {
   "cell_type": "markdown",
   "metadata": {},
   "source": [
    "Функция **shutil.copy(source-path, dest-path)** копирует файл (конечная директория должна существовать)."
   ]
  },
  {
   "cell_type": "code",
   "execution_count": 43,
   "metadata": {
    "scrolled": true
   },
   "outputs": [
    {
     "data": {
      "text/plain": [
       "'test2/text copy.txt'"
      ]
     },
     "execution_count": 43,
     "metadata": {},
     "output_type": "execute_result"
    }
   ],
   "source": [
    "os.mkdir('test1') # создадим директорию test1\n",
    "file = open('test1/text.txt', 'w').write('text '*5) # создадим файл и запишем в него text 5 раз\n",
    "os.mkdir('test2') # создадим директорию test2\n",
    "shutil.copy('test1/text.txt', 'test2/') # копируем файл с указываем только конечной директории\n",
    "shutil.copy('test1/text.txt', 'test2/text copy.txt') # копирование с переименованием"
   ]
  },
  {
   "cell_type": "markdown",
   "metadata": {},
   "source": [
    "Функция **shutil.rmtree(path)** удаляет дерево директории целиком вместе с файлами."
   ]
  },
  {
   "cell_type": "code",
   "execution_count": 44,
   "metadata": {},
   "outputs": [],
   "source": [
    "shutil.rmtree('test')\n",
    "shutil.rmtree('test1')\n",
    "shutil.rmtree('test2')"
   ]
  },
  {
   "cell_type": "markdown",
   "metadata": {},
   "source": [
    "### Работа с системой (sys)"
   ]
  },
  {
   "cell_type": "markdown",
   "metadata": {},
   "source": [
    "Модуль **sys** предоставляет системе особые параметры и функции. В данном разделе мы рассмотрим следующее:\n",
    "- sys.argv\n",
    "- sys.executable\n",
    "- sys.exit\n",
    "- sys.modules\n",
    "- sys.path\n",
    "- sys.platform\n",
    "- sys.stdin/stdout/stderr\n"
   ]
  },
  {
   "cell_type": "code",
   "execution_count": 45,
   "metadata": {},
   "outputs": [],
   "source": [
    "import sys"
   ]
  },
  {
   "cell_type": "markdown",
   "metadata": {},
   "source": [
    "Значение **sys.argv** - это список аргументов командной строки, которые причастны к скрипту Python. Первый аргумент, **argv[0]**, имеет аналогичное скрипту Python наименование. В зависимости от платформы, на которой вы работаете, первый аргумент может содержать полный путь к скрипту или к названию файла."
   ]
  },
  {
   "cell_type": "code",
   "execution_count": 46,
   "metadata": {},
   "outputs": [
    {
     "name": "stdout",
     "output_type": "stream",
     "text": [
      "c:\\program files\\python35\\lib\\site-packages\\ipykernel_launcher.py\n",
      "-f\n",
      "C:\\Users\\osokin\\AppData\\Roaming\\jupyter\\runtime\\kernel-86d7bd6f-c003-4f66-ab26-f722926e9778.json\n"
     ]
    }
   ],
   "source": [
    "for i in range(3):\n",
    "    print(sys.argv[i])"
   ]
  },
  {
   "cell_type": "markdown",
   "metadata": {},
   "source": [
    "Значение **sys.executable** – это полный путь к интерпретатору Python. Это очень полезно, когда вы используете чей-то компьютер, и вам нужно узнать, где установлен Python. В некоторых системах, данная команда не сработает, и выдаст пустую строку с надписью **None**."
   ]
  },
  {
   "cell_type": "code",
   "execution_count": 47,
   "metadata": {},
   "outputs": [
    {
     "name": "stdout",
     "output_type": "stream",
     "text": [
      "c:\\program files\\python35\\python.exe\n"
     ]
    }
   ],
   "source": [
    "print(sys.executable)"
   ]
  },
  {
   "cell_type": "markdown",
   "metadata": {},
   "source": [
    "Функция **sys.exit** позволяет разработчику выйти из Python. Функция **exit** принимает необязательный аргумент, обычно целое число, которое дает статус выхода. Ноль считается как успешное завершение. Обязательно проверьте, имеет ли ваша операционная система какие-либо особые значения для своих статусов выхода, чтобы вы могли следить за ними в своем собственном приложении. Обратите внимание на то, что когда вы вызываете **exit**, это вызовет исключение **SystemExit**, которое позволяет функциям очистки работать в конечных пунктах блоков **try / except**. "
   ]
  },
  {
   "cell_type": "code",
   "execution_count": 49,
   "metadata": {
    "scrolled": true
   },
   "outputs": [
    {
     "ename": "SystemExit",
     "evalue": "0",
     "output_type": "error",
     "traceback": [
      "An exception has occurred, use %tb to see the full traceback.\n",
      "\u001b[1;31mSystemExit\u001b[0m\u001b[1;31m:\u001b[0m 0\n"
     ]
    }
   ],
   "source": [
    "sys.exit(0)"
   ]
  },
  {
   "cell_type": "markdown",
   "metadata": {},
   "source": [
    "Значение функции **path** модуля **sys** – это список строк, которые указывают путь поиска для модулей. Как правило, данная функция указывает Python, в каких локациях смотреть, когда он пытается импортировать модуль. В соответствии с документацией Python, **sys.path** инициализируется из переменной окружения **PYTHONPATH**, плюс зависимое от установки значение, указанное по умолчанию."
   ]
  },
  {
   "cell_type": "code",
   "execution_count": 50,
   "metadata": {},
   "outputs": [
    {
     "name": "stdout",
     "output_type": "stream",
     "text": [
      "['c:\\\\program files\\\\python35\\\\lib\\\\site-packages\\\\object_detection-0.1-py3.5.egg', 'c:\\\\program files\\\\python35\\\\python35.zip', 'c:\\\\program files\\\\python35\\\\DLLs', 'c:\\\\program files\\\\python35\\\\lib', 'c:\\\\program files\\\\python35', '', 'c:\\\\program files\\\\python35\\\\lib\\\\site-packages', 'c:\\\\program files\\\\python35\\\\lib\\\\site-packages\\\\IPython\\\\extensions', 'C:\\\\Users\\\\osokin\\\\.ipython']\n"
     ]
    }
   ],
   "source": [
    "print(sys.path)"
   ]
  },
  {
   "cell_type": "markdown",
   "metadata": {},
   "source": [
    "Значение **sys.platform** – идентификатор платформы. Вы можете использовать **sys.platform** чтобы добавлять модули к **sys.path**, импортировать разные модули, в зависимости от платформы, или запускать разные части кода."
   ]
  },
  {
   "cell_type": "code",
   "execution_count": 51,
   "metadata": {},
   "outputs": [
    {
     "name": "stdout",
     "output_type": "stream",
     "text": [
      "win32\n"
     ]
    }
   ],
   "source": [
    "print(sys.platform) # ответ: 'win32' для Windows"
   ]
  },
  {
   "cell_type": "markdown",
   "metadata": {},
   "source": [
    "**Stdin**, **stdout** и **stderr** сопоставляются с файловыми объектами, которые соответствуют стандартным входам, выходам и потокам ошибок интерпретатора соответственно. Функция **stdin** используется для всех входов, используемых интерпретатором, за исключением скриптов, тогда как **stdout** используется для выходов операторов **print** и **expression**. Главная причина, по которой я акцентирую на этом внимание, заключается в том, что в какой-то момент вам нужно будет перенаправить **stdout** или **stderr**, или обе функции к файлу, такому как **log**, либо же какой-либо дисплей в пользовательском графическом интерфейсе, созданным вами."
   ]
  },
  {
   "cell_type": "markdown",
   "metadata": {},
   "source": [
    "### Работа с ссылками (urllib)"
   ]
  },
  {
   "cell_type": "markdown",
   "metadata": {},
   "source": [
    "Этот модуль определяет функции и классы для работы с URL. Модуль делает работус url похожей на работу с файлом, который вы можете прочесть."
   ]
  },
  {
   "cell_type": "code",
   "execution_count": 52,
   "metadata": {},
   "outputs": [],
   "source": [
    "import urllib.request\n",
    "import urllib.parse"
   ]
  },
  {
   "cell_type": "code",
   "execution_count": 53,
   "metadata": {},
   "outputs": [
    {
     "name": "stdout",
     "output_type": "stream",
     "text": [
      "b'<!DOCTYPE html><html class=\"i-ua_js_no i-ua_css_standart i-ua_browser_ i-ua_browser_desktop i-ua_platform_other\" lang=\"ru\"><head xmlns:og=\"http://ogp.me/ns#\"><meta http-equiv=Content-Type content=\"text/html;charset=UTF-8\"><meta http-equiv=\"X-UA-Compatible\" content=\"IE=edge\"><title>\\xd0\\xaf\\xd0\\xbd\\xd0\\xb4\\xd0\\xb5\\xd0\\xba\\xd1\\x81</title><link rel=\"shortcut icon\" href=\"//yastatic.net/iconostasis/_/8lFaTHLDzmsEZz-5XaQg9iTWZGE.png\"><link rel=\"apple-touch-icon\" href=\"//yastatic.net/iconostasis/_/5mdPq4V7ghRgzBvMkCaTzd2fjYg.png\" sizes=\"76x76\"><link rel=\"apple-touch-icon\" href=\"//yastatic.net/iconostasis/_/s-hGoCQMUosTziuARBks08IUxmc.png\" sizes=\"120x120\"><link rel=\"apple-touch-icon\" href=\"//yastatic.net/iconostasis/_/KnU823iWwj_vrPra7x9aQ-4yjRw.png\" sizes=\"152x152\"><link rel=\"apple-touch-icon\" href=\"//yastatic.net/iconostasis/_/wT9gfGZZ80sP0VsoR6dgDyXJf2Y.png\" sizes=\"180x180\"><link rel=\"alternate\" type=\"application/rss+xml\" title=\"\\xd0\\x9d\\xd0\\xbe\\xd0\\xb2\\xd0\\xbe\\xd1\\x81\\xd1\\x82\\xd0\\xb8 \\xd0\\xaf\\xd0\\xbd\\xd0\\xb4\\xd0\\xb5\\xd0\\xba\\xd1\\x81\\xd0\\xb0\" href=\"https://yandex.ru/company/press_releases/news.rss\"><link rel=\"alternate\" type=\"application/rss+xml\" title=\"\\xd0\\x91\\xd0\\xbb\\xd0\\xbe\\xd0\\xb3 \\xd0\\xaf\\xd0\\xbd\\xd0\\xb4\\xd0\\xb5\\xd0\\xba\\xd1\\x81\\xd0\\xb0\" href=\"https://yandex.ru/blog/company/rss\"><link rel=\"search\" href=\"//yandex.ru/opensearch.xml\" title=\"\\xd0\\xaf\\xd0\\xbd\\xd0\\xb4\\xd0\\xb5\\xd0\\xba\\xd1\\x81\" type=\"application/opensearchdescription+xml\"><meta name=\"description\" content=\"\\xd0\\xaf\\xd0\\xbd\\xd0\\xb4\\xd0\\xb5\\xd0\\xba\\xd1\\x81 \\xe2\\x80\\x94 \\xd0\\xbe\\xd0\\xb1\\xd0\\xbb\\xd0\\xb5\\xd0\\xb3\\xd1\\x87\\xd1\\x91\\xd0\\xbd\\xd0\\xbd\\xd0\\xb0\\xd1\\x8f \\xd0\\xb2\\xd0\\xb5\\xd1\\x80\\xd1\\x81\\xd0\\xb8\\xd1\\x8f. \\xd0\\x9f\\xd0\\xbe\\xd0\\xb8\\xd1\\x81\\xd0\\xba\\xd0\\xbe\\xd0\\xb2\\xd0\\xb0\\xd1\\x8f \\xd1\\x81\\xd1\\x82\\xd1\\x80\\xd0\\xbe\\xd0\\xba\\xd0\\xb0, \\xd0\\xbf\\xd0\\xbe\\xd1\\x87\\xd1\\x82\\xd0\\xbe\\xd0\\xb2\\xd1\\x8b\\xd0\\xb9 \\xd1\\x8f\\xd1\\x89\\xd0\\xb8\\xd0\\xba \\xd0\\xb8 \\xd0\\xb1\\xd1\\x8b\\xd1\\x81\\xd1\\x82\\xd1\\x80\\xd1\\x8b\\xd0\\xb9 \\xd0\\xbf\\xd0\\xb5\\xd1\\x80\\xd0\\xb5\\xd1\\x85\\xd0\\xbe\\xd0\\xb4 \\xd0\\xba \\xd1\\x81\\xd0\\xb5\\xd1\\x80\\xd0\\xb2\\xd0\\xb8\\xd1\\x81\\xd0\\xb0\\xd0\\xbc \\xd0\\xaf\\xd0\\xbd\\xd0\\xb4\\xd0\\xb5\\xd0\\xba\\xd1\\x81\\xd0\\xb0\"><meta property=\"og:title\" content=\"\\xd0\\xaf\\xd0\\xbd\\xd0\\xb4\\xd0\\xb5\\xd0\\xba\\xd1\\x81\"><meta property=\"og:type\" content=\"website\"><meta property=\"og:image\" content=\"//yastatic.net/s3/home/logos/share/share-logo-ru.png\"><meta property=\"og:site_name\" content=\"\\xd0\\xaf\\xd0\\xbd\\xd0\\xb4\\xd0\\xb5\\xd0\\xba\\xd1\\x81\"><meta property=\"og:locale\" content=\"ru_RU\"><meta property=\"og:description\" content=\"\\xd0\\x9d\\xd0\\xb0\\xd0\\xb9\\xd0\\xb4\\xd1\\x91\\xd1\\x82\\xd1\\x81\\xd1\\x8f \\xd0\\xb2\\xd1\\x81\\xd1\\x91\"><script>!function(e,t){if(e.Ya=e.Ya||{},Ya.Rum)throw new Error(\"Rum: interface is already defined\");var n=e.performance,i=n&&n.timing&&n.timing.navigationStart||Ya.startPageLoad||+new Date,s=e.requestAnimationFrame;Ya.Rum={enabled:!!n,vsStart:document.visibilityState,vsChanged:!1,_defTimes:[],_defRes:[],_deltaMarks:{},_settings:{},_vars:{},init:function(e,t){this._settings=e,this._vars=t},getTime:n&&n.now?function(){return n.now()}:Date.now?function(){return Date.now()-i}:function(){return new Date-i},time:function(e){this._deltaMarks[e]=[this.getTime()]},timeEnd:function(e){var t=this._deltaMarks[e];t&&0!==t.length&&t.push(this.getTime())},sendTimeMark:function(e,t,n,i){void 0===t&&(t=this.getTime()),this._defTimes.push([e,t,i]),this.mark(e,t)},sendResTiming:function(e,t){this._defRes.push([e,t])},sendRaf:function(e){if(s&&!this.isVisibilityChanged()){var t=this,n=\"2616.\"+e;s(function(){t.isVisibilityChanged()||(t.sendTimeMark(n+\".205\"),s(function(){t.isVisibilityChanged()||t.sendTimeMark(n+\".1928\")}))})}},isVisibilityChanged:function(){return this.vsStart&&(\"visible\"!==this.vsStart||this.vsChanged)},mark:n&&n.mark?function(e,t){n.mark(e+(t?\": \"+t:\"\"))}:function(){}},document.addEventListener&&document.addEventListener(\"visibilitychange\",function a(){Ya.Rum.vsChanged=!0,document.removeEventListener(\"visibilitychange\",a)})}(window),function(){\"use strict\";Ya.Rum.observeDOMNode=window.IntersectionObserver?function(e,t,n){var i=this;!function s(){if(!i.isVisibilityChanged()){var a=\"string\"==typeof t?document.querySelector(t):t;a?new IntersectionObserver(function(t,n){i.isVisibilityChanged()||(Ya.Rum.sendTimeMark(e),n.unobserve(a))},n).observe(a):setTimeout(s,100)}}()}:function(){}}(),function(){\"use strict\";if(window.PerformanceLongTaskTiming){var e=Ya.Rum._tti={events:[],observer:new PerformanceObserver(function(t){e.events=e.events.concat(t.getEntries()),e.events.length>100&&e.events.shift()})};e.observer.observe({entryTypes:[\"longtask\"]})}}(),function(){\"use strict\";var e,t=[];function n(){var n=Ya.Rum.getSetting(\"clck\"),i=t.join(\"\\\\r\\\\n\");if(t=[],e=null,n&&!(navigator.sendBeacon&&Ya.Rum.getSetting(\"beacon\")&&navigator.sendBeacon(n,i))){var s=new XMLHttpRequest;s.open(\"POST\",n),s.send(i)}}Ya.Rum.send=function(i,s,a,r,o,u,c){clearTimeout(e);var d=function(e,t,n,i,s,a){var r=Ya.Rum.getSetting(\"slots\");return[a?\"/\"+a.join(\"/\"):\"\",\"/path=\"+t,r?\"/slots=\"+r.join(\";\"):\"\",n?\"/vars=\"+n:\"\",\"/cts=\"+(new Date).getTime(),\"/*\"]}(0,s,a,0,0,c);t.push(\"/reqid=\"+Ya.Rum.getSetting(\"reqid\")+d.join(\"\")),t.length<42?e=setTimeout(n,15):n()}}();Ya.Rum.init({\"beacon\":true,\"reqid\":\"1553860001.99734.160504.2542\",\"slots\":[\"128051,0,18\",\"131926,0,96\",\"63208,0,23\"],\"clck\":\"https://yandex.ru/clck/click\",\"sendStaticLocation\":false,\"enablePaintPerformanceObserver\":1},{\"143\":\"28.15.523\",\"287\":\"51\",\"1961\":0,\"1964\":0,\"1965\":1});Ya.Rum.observeDOMNode(\\'2876\\',\\'form.search2\\')</script><link rel=\"stylesheet\" href=\"//yastatic.net/www/_/g/i/3gXxC6GpD9vzV7LpmvVwiuA1o.css\"><script>function Detector(){\"use strict\";var e=document.documentElement;return{isPlaceholderSupported:function(){return\"placeholder\"in document.createElement(\"input\")},getCSS3TransformProperty:function(){for(var e=document.documentElement.style,t=[\"transform\",\"MozTransform\",\"MsTransform\",\"msTransform\",\"WebkitTransform\",\"OTransform\"],n=\"\",i=0,r=t.length;i<r;++i)if(e[t[i]]!==undefined){n=t[i];break}return this.getCSS3TransformProperty=function(){return n},n},checkDataURLSupport:function(e){var t=new Image;t.onload=t.onerror=function(){e(1===this.width&&1===this.height)},t.src=\"data:image/gif;base64,R0lGODlhAQABAIAAAAAAAP///ywAAAAAAQABAAACAUwAOw==\"},isActivexEnabled:function(){var e=!1;try{e=!!new window.ActiveXObject(\"htmlfile\")}catch(t){e=!1}return e},isWin64:function(){return window.navigator&&\"Win64\"===window.navigator.platform},isFullScreen:function(){return window.innerWidth&&window.screen&&window.screen.width&&window.screen.height&&window.innerHeight&&window.innerWidth===screen.width&&window.innerHeight===screen.height},isIEMetroMode:function(){return this.isFullScreen()&&this.isWin64()&&!this.isActivexEnabled()},isSVGSupported:function(){if(\"opera\"in window)return!1;var e=document.createElement(\"svg\");return e.innerHTML=\"<svg/>\",e.firstChild&&\"http://www.w3.org/2000/svg\"===e.firstChild.namespaceURI},isAnimationSupported:function(){if(\"opera\"in window)return!1;for(var e=document.documentElement.style,t=[\"animationName\",\"webkitAnimationName\"],n=0,i=t.length;n<i;n++)if(e[t[n]]!==undefined)return!0},getUserFontSize:function(){var t,n,i=[],r=\"i-ua_user-font-size_\",o=document.createElement(\"div\");return o.style.height=\"1em\",e.appendChild(o),t=parseInt(o.offsetHeight),e.removeChild(o),n=16===t?\"normal\":t<16?\"small\":\"large\",i.push(r+n),i.push(r+t+\"px\"),i.join(\" \")},isRetina:function(){return(\"devicePixelRatio\"in window?window.devicePixelRatio:1)>=1.25}}}function MyMap(){this.rules={},this.rulesData=[]}MyMap.prototype={add:function(e){return(e=e||null)&&!this.rules[e]&&(this.rulesData.push(e),this.rules[e]=this.rulesData.length-1),this},get:function(e){var t=this.rules[e];return t&&this.rulesData[t]||null},getAll:function(){return this.rulesData.join(\" \")}};var detector=new Detector;!function(){var e,t=new MyMap;t.add(\"js\").add(\"i-ua_placeholder_\"+(detector.isPlaceholderSupported()?\"yes\":\"no\")).add(detector.isIEMetroMode()&&\"m-ie10-metro\").add(detector.isSVGSupported()?\"i-ua_inlinesvg_yes m-svg\":\"i-ua_inlinesvg_no no-data-url\").add(detector.isAnimationSupported()&&\"i-ua_animation_yes\").add(this.device&&\"m-touch\").add(detector.getUserFontSize()).add(\"i-ua_retina_\"+(detector.isRetina()?\"yes\":\"no\")),detector.checkDataURLSupport(function(e){e||(document.documentElement.className+=\" no-data-url\")}),this.document&&this.document.documentElement&&((e=this.document.documentElement).className=e.className.replace(\"i-ua_js_no\",\"i-ua_js_yes\")+\" \"+t.getAll())}();</script></head><body class=\"b-page css3-transition-off\"><table class=\"b-table layout__table\"><tr class=\"b-table__row layout__header\"><td class=\"b-table__cell layout__header-cell\"><div class=\"personal i-bem\" data-bem=\"{&quot;personal&quot;:{&quot;authUrl&quot;:&quot;https://yandex.ru/data/mail.js?yaru=y&quot;,&quot;retpath&quot;:&quot;https%3A%2F%2Fya.ru&quot;,&quot;stat&quot;:0}}\"><a href=\"https://mail.yandex.ru\" class=\"link_black_novisit link b-inline link_logout\" tabindex=\"3\"><div class=\"b-inline\">\\xd0\\x92\\xd0\\xbe\\xd0\\xb9\\xd1\\x82\\xd0\\xb8&nbsp;\\xd0\\xb2&nbsp;\\xd0\\xbf\\xd0\\xbe\\xd1\\x87\\xd1\\x82\\xd1\\x83</div></a></div></td></tr><tr class=\"b-table__row layout__search\"><td class=\"b-table__cell\"><form class=\"search2 suggest2-form suggest2-form__node suggest2-counter i-bem\" action=\"https://yandex.ru/search/\" role=\"search\" aria-label=\"\\xd0\\x9f\\xd0\\xbe\\xd0\\xb8\\xd1\\x81\\xd0\\xba \\xd0\\xb2 \\xd0\\xb8\\xd0\\xbd\\xd1\\x82\\xd0\\xb5\\xd1\\x80\\xd0\\xbd\\xd0\\xb5\\xd1\\x82\\xd0\\xb5\" data-bem=\"{&quot;suggest2-form&quot;:{},&quot;suggest2-counter&quot;:{&quot;service&quot;:&quot;morda_ru_desktop&quot;,&quot;host&quot;:&quot;//yandex.ru/clck&quot;,&quot;path&quot;:&quot;jclck&quot;,&quot;submitBySelect&quot;:true,&quot;preventSubmit&quot;:true,&quot;suggestReqID&quot;:true,&quot;params&quot;:{&quot;dtype&quot;:&quot;stred&quot;,&quot;pid&quot;:&quot;0&quot;,&quot;cid&quot;:&quot;2873&quot;}},&quot;search2&quot;:{&quot;cleanOnSubmit&quot;:false,&quot;nl&quot;:true}}\"><input type=\"hidden\" name=\"msid\" value=\"1553860001.99734.160504.2542\"/><div class=\"search2__input\"><span class=\"input suggest2-form__input input_size_xl input_theme_websearch input_search2-clear-hide_yes input_autofocus_capture input_clear_yes i-bem\" data-bem=\"{&quot;input&quot;:{&quot;live&quot;:false,&quot;autoFocus&quot;:true}}\"><span class=\"input__box\"><span class=\"input__clear\" unselectable=\"on\">&nbsp;</span><input class=\"input__control input__input\" tabindex=\"2\" autocomplete=\"off\" autocorrect=\"off\" autocapitalize=\"off\" spellcheck=\"false\" aria-autocomplete=\"list\" aria-label=\"\\xd0\\x97\\xd0\\xb0\\xd0\\xbf\\xd1\\x80\\xd0\\xbe\\xd1\\x81\" id=\"text\" maxlength=\"400\" name=\"text\"/></span></span></div><div class=\"search2__button\"><button class=\"button suggest2-form__button button_theme_websearch button_size_xl i-bem\" data-bem=\"{&quot;button&quot;:{}}\" tabindex=\"-1\" role=\"button\" type=\"submit\"><span class=\"button__text\">\\xd0\\x9d\\xd0\\xb0\\xd0\\xb9\\xd1\\x82\\xd0\\xb8</span></button></div><div class=\"i-bem popup suggest2 suggest2-history suggest2_theme_transparent suggest2_size_m suggest2_adaptive_yes suggest2_type_advanced suggest2_ahead_yes suggest2_history_yes suggest2_rich_yes popup_adaptive_yes popup_animate_no popup_autoclosable_yes popup_theme_ffffff\" data-bem=\"{&quot;popup&quot;:{&quot;directions&quot;:&quot;bottom-left&quot;},&quot;suggest2&quot;:{&quot;url&quot;:&quot;//suggest.yandex.ru/suggest-ya.cgi?srv=morda_ru_desktop&amp;wiz=TrWth&amp;uil=ru&amp;fact=1&amp;v=4&amp;icon=1&amp;lr=51&amp;hl=1&amp;bemjson=1&amp;html=1&amp;platform=desktop&amp;yu=8734643311553860001&amp;sn=5&quot;,&quot;onFocus&quot;:&quot;show&quot;,&quot;aheadFromServer&quot;:true,&quot;submitBySelect&quot;:true,&quot;requestOnEmptyInput&quot;:false,&quot;deleteHistoryUrl&quot;:&quot;//suggest.yandex.ru/suggest-delete-text?srv=morda_ru_desktop&amp;text_to_delete=&quot;},&quot;suggest2-detect&quot;:{},&quot;suggest2-history&quot;:{&quot;other&quot;:[],&quot;running&quot;:[]}}\"><div class=\"popup__under\"></div><div class=\"popup__content\"> </div></div></form></td></tr><tr class=\"b-table__row layout__footer\"><td class=\"b-table__cell\"><a href=\"//yandex.ru\" class=\"link layout__footer-logo\" tabindex=\"6\" title=\"\\xd0\\xaf\\xd0\\xbd\\xd0\\xb4\\xd0\\xb5\\xd0\\xba\\xd1\\x81\"></a></td></tr></table><script>window.home=window.home||{};window.home[\\'export\\']={\"common\":{\"click-href\":\"https://yandex.ru/clck/\"},\"statlog\":{\"config\":{\"statRoot\":\"\",\"showId\":\"1553860001.99734.160504.2542\",\"enabled\":false,\"redirHost\":\"https://yandex.ru/clck/\",\"clckDemonHost\":\"https://yandex.ru/clck/\",\"useBeacon\":0}},\"timing\":{\"reqid\":\"1553860001.99734.160504.2542\",\"exp\":\"128051,0,18;131926,0,96;63208,0,23\",\"page\":\"28.15.523\"},\"service-worker\":{\"mode\":\"off\",\"url\":\"/portal/service-worker/white/_yaru.js\"}};home.dataCallbacks&&home.dataCallbacks.forEach(function(callback){callback();});</script><script src=\"//yastatic.net/jquery/1.8.3/jquery.min.js\" crossorigin=\"anonymous\"></script><script src=\"//yastatic.net/www/_/B/C/bTIPtF34BcX8lHw1THv6cji80.js\" crossorigin=\"anonymous\"></script><script>BEM.DOM.scope=$(\\'body\\');Lego.init({\"locale\":\"ru\",\"msid\":\"1553860001.99734.160504.2542\",\"jsMdaUrl\":\"https://yandex.ru/portal/set/any/?sk=y6e1a08427e21e00c8b107aa36dc2bef3&mda=0&empty=1\",\"click-host\":\"//yandex.ru/clck\",\"reqid\":\"1553860001.99734.160504.2542\",\"statRoot\":\"\",\"retpath\":\"https://mail.yandex.ru\"});BEM.channel(\\'i-bem\\').trigger(\\'start-init\\');BEM.DOM.init(function() {BEM.channel(\\'i-bem\\').trigger(\\'init\\');});</script><script type=\"text/javascript\">!function(e){\"use strict\";var t=document.createElement(\"script\"),n={\"src\":\"https://mc.yandex.ru/metrika/watch.js\"};for(var a in t.onload=function(){try{for(var t=[{\"id\":723233,\"trackLinks\":true,\"experiments\":\"V82NykXt_vInhlE0F_w8TjPSztL9VRMgnEIvhzuWwgqiQWlHuSleVw\"}],n=0;n<t.length;n++){var a=t[n],d=e[\"yaCounter\"+a.id]=new Ya.Metrika(a);n||(e.defaultMetrikaCounter=d)}}catch(o){}},n)n.hasOwnProperty(a)&&t.setAttribute(a,n[a]);var d=!1,o=function(){d||(d=!0,document.getElementsByTagName(\"head\")[0].appendChild(t))};\"complete\"===document.readyState||\"loading\"!==document.readyState&&!document.documentElement.doScroll?setTimeout(o,0):\"addEventListener\"in document?(document.addEventListener(\"DOMContentLoaded\",o,!1),document.addEventListener(\"load\",o,!1)):(window.attachEvent(\"onload\",o),window.attachEvent(\"onreadystatechange\",o))}(window);</script><noscript><img class=\"image a11y-hidden\" src=\"https://mc.yandex.ru/watch/723233\"/></noscript><!--noindex--><div style=\"display:none\" class=\"page-info\">{&quot;static&quot;:&quot;2.2061&quot;}</div><!--/noindex--><!--vla2-4185-39b-vla-portal-morda-deb-16891.gencfg-c.yandex.net--></body></html>'\n"
     ]
    }
   ],
   "source": [
    "# Откроем url и выведем в консоль код страницы\n",
    "ufile = urllib.request.urlopen('http://ya.ru') # Возвращает файлоподобный объект для данного url\n",
    "html = ufile.read()\n",
    "print(html)"
   ]
  },
  {
   "cell_type": "markdown",
   "metadata": {},
   "source": [
    "Функция **ufile.read()** может читать из открытого файла. Как и в случае с обычным файлом, **readlines()** и т.п. также работают. (Обратитевнимание — возвращается байт-строка. Так происходит потому, что нет способа для автоматического определения кодировки потока байт, получаемого от HTTP-сервера. Для перекодировки используйте **.decode('utf-8')** или **.decode('cp1251')**:"
   ]
  },
  {
   "cell_type": "code",
   "execution_count": 54,
   "metadata": {},
   "outputs": [
    {
     "name": "stdout",
     "output_type": "stream",
     "text": [
      "Date: Fri, 29 Mar 2019 11:46:42 GMT\n",
      "Content-Type: text/html; charset=UTF-8\n",
      "Cache-Control: no-cache,no-store,max-age=0,must-revalidate\n",
      "Expires: Fri, 29 Mar 2019 11:46:42 GMT\n",
      "Last-Modified: Fri, 29 Mar 2019 11:46:42 GMT\n",
      "Content-Security-Policy: connect-src 'self' wss://webasr.yandex.net https://mc.webvisor.com https://mc.webvisor.org wss://push.yandex.ru wss://portal-xiva.yandex.net https://yastatic.net https://home.yastatic.net https://yandex.ru https://*.yandex.ru static.yandex.sx brotli.yastatic.net et.yastatic.net *.serving-sys.com an.yandex.ru awaps.yandex.ru storage.mds.yandex.net music.yandex.ru music-browser.music.yandex.net mc.admetrica.ru portal-xiva.yandex.net yastatic.net home.yastatic.net yandex.ru *.yandex.ru *.yandex.net yandex.st; default-src 'self' blob: wss://portal-xiva.yandex.net yastatic.net portal-xiva.yandex.net; font-src 'self' https://yastatic.net static.yandex.sx brotli.yastatic.net et.yastatic.net zen.yandex.ru yabro1.zen-test.yandex.ru main.zdevx.yandex.ru yastatic.net; frame-src 'self' yabrowser: data: https://www.youtube.com https://player.video.yandex.net https://ya.ru https://ok.ru https://yastatic.net https://yandex.ru https://*.yandex.ru https://downloader.yandex.net wfarm.yandex.net secure-ds.serving-sys.com yandexadexchange.net *.yandexadexchange.net music.yandex.ru yastatic.net yandex.ru *.yandex.ru awaps.yandex.net *.cdn.yandex.net; img-src 'self' data: https://yastatic.net https://home.yastatic.net https://*.yandex.ru https://*.yandex.net https://*.tns-counter.ru *.yastatic.net gdeua.hit.gemius.pl pa.tns-ua.com mc.yandex.com mc.webvisor.com mc.webvisor.org static.yandex.sx brotli.yastatic.net et.yastatic.net *.moatads.com avatars.mds.yandex.net bs.serving-sys.com an.yandex.ru awaps.yandex.ru nissanhelioseurope.demdex.net mc.admetrica.ru yastatic.net home.yastatic.net yandex.ru *.yandex.ru *.yandex.net *.tns-counter.ru yandex.st; media-src 'self' blob: data: *.storage.yandex.net *.yandex.net strm.yandex.ru strm.yandex.net *.strm.yandex.net *.cdn.yandex.net storage.mds.yandex.net *.storage.mds.yandex.net yastatic.net kiks.yandex.ru; object-src 'self' *.yandex.net music.yandex.ru strm.yandex.ru flashservice.adobe.com yastatic.net kiks.yandex.ru awaps.yandex.net storage.mds.yandex.net; report-uri https://csp.yandex.net/csp?from=yaru.ru&showid=1553860001.99734.160504.2542&h=vla2-4185-39b-vla-portal-morda-deb-16891&csp=old&date=20190329&yandexuid=8734643311553860001; script-src 'self' 'unsafe-inline' 'unsafe-eval' blob: https://suburban-widget.rasp.yandex.ru https://suburban-widget.rasp.yandex.net https://music.yandex.ru https://mc.yandex.fr https://mc.webvisor.com https://yandex.fr https://mc.webvisor.org https://yastatic.net https://home.yastatic.net https://mc.yandex.ru https://pass.yandex.ru an.yandex.ru api-maps.yandex.ru static.yandex.sx webasr.yandex.net brotli.yastatic.net et.yastatic.net z.moatads.com bs.serving-sys.com secure-ds.serving-sys.com zen.yandex.ru yabro1.zen-test.yandex.ru main.zdevx.yandex.ru awaps.yandex.ru storage.mds.yandex.net yastatic.net home.yastatic.net yandex.ru www.yandex.ru mc.yandex.ru suggest.yandex.ru clck.yandex.ru awaps.yandex.net; style-src 'self' 'unsafe-inline' https://yastatic.net https://home.yastatic.net static.yandex.sx brotli.yastatic.net et.yastatic.net zen.yandex.ru yabro1.zen-test.yandex.ru main.zdevx.yandex.ru yastatic.net home.yastatic.net;\n",
      "P3P: policyref=\"/w3c/p3p.xml\", CP=\"NON DSP ADM DEV PSD IVDo OUR IND STP PHY PRE NAV UNI\"\n",
      "Set-Cookie: yp=1556452002.ygu.1; Expires=Mon, 26-Mar-2029 11:46:42 GMT; Domain=.ya.ru; Path=/\n",
      "Set-Cookie: mda=0; Expires=Sat, 27-Jul-2019 11:46:42 GMT; Domain=.ya.ru; Path=/\n",
      "Set-Cookie: yandex_gid=51; Expires=Sun, 28-Apr-2019 11:46:42 GMT; Domain=.ya.ru; Path=/\n",
      "Set-Cookie: yandexuid=8734643311553860001; Expires=Mon, 26-Mar-2029 11:46:42 GMT; Domain=.ya.ru; Path=/\n",
      "X-Frame-Options: DENY\n",
      "Set-Cookie: i=CxOClftBdAxiVKyzjBrNB3qwAVhrbOO8gLaouwXLWRxMDO4f8/gjZOfuT0f2fpcteGyNmxRkSh3xdCraLOnlTivqiH8=; Expires=Mon, 26-Mar-2029 11:46:41 GMT; Domain=.ya.ru; Path=/; Secure; HttpOnly\n",
      "X-Content-Type-Options: nosniff\n",
      "Content-Length: 13504\n",
      "Connection: Close\n",
      "\n",
      "\n",
      "https://ya.ru/\n",
      "200\n"
     ]
    }
   ],
   "source": [
    "# print(html.decode('utf-8')) \n",
    "print(ufile.info()) # метаинфомация о странице\n",
    "print(ufile.geturl()) # возвращает базовый url запроса, который может отличаться от оригинального из-за редиректов\n",
    "print(ufile.getcode()) # код ответа сервера (200 - Ок)"
   ]
  },
  {
   "cell_type": "markdown",
   "metadata": {},
   "source": [
    "Запросим страницу через объект Request и добавим заголовки:"
   ]
  },
  {
   "cell_type": "code",
   "execution_count": 55,
   "metadata": {},
   "outputs": [
    {
     "name": "stdout",
     "output_type": "stream",
     "text": [
      "{'Referer': 'http://www.python.org/', 'User-agent': 'Mozilla/5.0'}\n"
     ]
    }
   ],
   "source": [
    "req = urllib.request.Request('http://www.yandex.ru')\n",
    "req.add_header('Referer', 'http://www.python.org/')\n",
    "req.add_header('User-agent', 'Mozilla/5.0')\n",
    "print(req.headers)\n",
    "f = urllib.request.urlopen(req)\n",
    "# print(f.read().decode('utf-8'))"
   ]
  },
  {
   "cell_type": "markdown",
   "metadata": {},
   "source": [
    "**Модуль urllib.parse**"
   ]
  },
  {
   "cell_type": "markdown",
   "metadata": {},
   "source": [
    "Преобразуем строку параметров в URL запрос:"
   ]
  },
  {
   "cell_type": "code",
   "execution_count": 56,
   "metadata": {},
   "outputs": [
    {
     "name": "stdout",
     "output_type": "stream",
     "text": [
      "text=%D0%9F%D1%80%D0%B8%D0%B2%D0%B5%D1%82%2C+%D0%BC%D0%B8%D1%80%21&redirect=http%3A%2F%2Fabc.com\n"
     ]
    }
   ],
   "source": [
    "params = urllib.parse.urlencode({\n",
    "    'redirect': 'http://abc.com', \n",
    "    'text': 'Привет, мир!'\n",
    "})\n",
    "print(params)"
   ]
  },
  {
   "cell_type": "markdown",
   "metadata": {},
   "source": [
    "Отправка GET запросов:"
   ]
  },
  {
   "cell_type": "code",
   "execution_count": 57,
   "metadata": {},
   "outputs": [],
   "source": [
    "params = urllib.parse.urlencode({'text': 'python'})\n",
    "f = urllib.request.urlopen(\"https://ya.ru/?q=python%s\" % params)\n",
    "html = f.read().decode('utf-8')"
   ]
  },
  {
   "cell_type": "markdown",
   "metadata": {},
   "source": [
    "Удалим теги из ответа:"
   ]
  },
  {
   "cell_type": "code",
   "execution_count": 58,
   "metadata": {},
   "outputs": [
    {
     "name": "stdout",
     "output_type": "stream",
     "text": [
      "Ой! ой&hellip; Нам очень жаль, но запросы, поступившие с вашего IP-адреса, похожи на автоматические. По этой причине мы вынуждены временно заблокировать доступ к поиску. Чтобы продолжить поиск, пожалуйста, введите символы с картинки в поле ввода и нажмите &laquo;Отправить&raquo;. В вашем браузере отключены файлы cookies. Яндекс не сможет запомнить вас и правильно идентифицировать в дальнейшем. Чтобы включить cookies, воспользуйтесь советами на странице нашей Помощи. Произнести→ОтправитьПочему так случилось? Возможно, автоматические запросы принадлежат не вам, а другому пользователю, выходящему в сеть с одного с вами IP-адреса. Вам необходимо один раз ввести символы в форму, после чего мы запомним вас и сможем отличать от других пользователей, выходящих с данного IP. В этом случае страница с капчей не будет беспокоить вас довольно долго. Возможно, в вашем браузере установлены дополнения, которые могут задавать автоматические запросы к поиску. В этом случае рекомендуем вам отключить их. Также возможно, что ваш компьютер заражен вирусной программой, использующей его для сбора информации. Может быть, вам стоит проверить систему на наличие вирусов. Если у вас возникли проблемы или вы хотите задать вопрос нашей службе поддержки, пожалуйста, воспользуйтесь формой обратной связи. Если автоматические запросы действительно поступают с вашего компьютера, и вы об этом знаете (например, вам по роду деятельности необходимо отправлять Яндексу подобные запросы), рекомендуем воспользоваться специально разработанным для этих целей сервисом Яндекс.XML. ё1234567890&larr;qйwцeуrкtеyнuгiшoщpзхъaфsыdвfаgпhрjоkлlджэzяxчcсvмbиnтmьбюEnРу  \n"
     ]
    }
   ],
   "source": [
    "html = re.sub(r'<script.*?>.*?</script>', ' ', html, flags=re.DOTALL)\n",
    "html = re.sub(r'<.*?>', '', html)\n",
    "html = re.sub(r'\\s+', ' ', html)\n",
    "html = re.sub(r'&nbsp;', ' ', html)\n",
    "print(html)"
   ]
  },
  {
   "cell_type": "markdown",
   "metadata": {},
   "source": [
    "POST запросы с помощью объекта класса Request:"
   ]
  },
  {
   "cell_type": "code",
   "execution_count": 59,
   "metadata": {},
   "outputs": [
    {
     "name": "stdout",
     "output_type": "stream",
     "text": [
      "POST\n"
     ]
    }
   ],
   "source": [
    "data = urllib.parse.urlencode({'search': 'New York City, NY'})\n",
    "data = data.encode('utf-8')\n",
    "req = urllib.request.Request('http://www.trulia.com/submit_search')\n",
    "req.add_header('User-agent', 'Mozilla/10.0')\n",
    "req.method = 'POST' # метод ставиновится POST\n",
    "req.data = data # method становится POST автоматически, если задать data\n",
    "print (req.get_method())"
   ]
  },
  {
   "cell_type": "code",
   "execution_count": 60,
   "metadata": {},
   "outputs": [
    {
     "name": "stdout",
     "output_type": "stream",
     "text": [
      "        \n",
      "   \n",
      " \n",
      " \n",
      "\n",
      "  \n",
      "      (window.NREUM||(NREUM={})).loader_config={xpid:\"VQYAUF5WGwcCU1RXAwcF\"};window.NREUM||(NREUM={}),__nr_require=function(t,n,e){function r(e){if(!n[e]){var o=n[e]={exports:{}};t[e][0].call(o.exports,function(n){var o=t[e][1][n];return r(o||n)},o,o.exports)}return n[e].exports}if(\"function\"==typeof __nr_require)return __nr_require;for(var o=0;o 0&&(p-=1)}),s.on(\"internal-error\",function(t){i(\"ierr\",[t,c.now(),!0])})},{}],3:[function(t,n,e){t(\"loader\").features.ins=!0},{}],4:[function(t,n,e){function r(t){}if(window.performance&&window.performance.timing&&window.performance.getEntriesByType){var o=t(\"ee\"),i=t(\"handle\"),a=t(8),s=t(7),c=\"learResourceTimings\",f=\"addEventListener\",u=\"resourcetimingbufferfull\",d=\"bstResource\",l=\"resource\",p=\"-start\",h=\"-end\",m=\"fn\"+p,v=\"fn\"+h,w=\"bstTimer\",y=\"pushState\",g=t(\"loader\");g.features.stn=!0,t(6);var b=NREUM.o.EV;o.on(m,function(t,n){var e=t[0];e instanceof b&&(this.bstStart=g.now())}),o.on(v,function(t,n){var e=t[0];e instanceof b&&i(\"bst\",[e,n,this.bstStart,g.now()])}),a.on(m,function(t,n,e){this.bstStart=g.now(),this.bstType=e}),a.on(v,function(t,n){i(w,[n,this.bstStart,g.now(),this.bstType])}),s.on(m,function(){this.bstStart=g.now()}),s.on(v,function(t,n){i(w,[n,this.bstStart,g.now(),\"requestAnimationFrame\"])}),o.on(y+p,function(t){this.time=g.now(),this.startPath=location.pathname+location.hash}),o.on(y+h,function(t){i(\"bstHist\",[location.pathname+location.hash,this.startPath,this.time])}),f in window.performance&&(window.performance[\"c\"+c]?window.performance[f](u,function(t){i(d,[window.performance.getEntriesByType(l)]),window.performance[\"c\"+c]()},!1):window.performance[f](\"webkit\"+u,function(t){i(d,[window.performance.getEntriesByType(l)]),window.performance[\"webkitC\"+c]()},!1)),document[f](\"scroll\",r,{passive:!0}),document[f](\"keypress\",r,!1),document[f](\"click\",r,!1)}},{}],5:[function(t,n,e){function r(t){for(var n=t;n&&!n.hasOwnProperty(u);)n=Object.getPrototypeOf(n);n&&o(n)}function o(t){s.inPlace(t,[u,d],\"-\",i)}function i(t,n){return t[1]}var a=t(\"ee\").get(\"events\"),s=t(19)(a,!0),c=t(\"gos\"),f=XMLHttpRequest,u=\"addEventListener\",d=\"removeEventListener\";n.exports=a,\"getPrototypeOf\"in Object?(r(document),r(window),r(f.prototype)):f.prototype.hasOwnProperty(u)&&(o(window),o(f.prototype)),a.on(u+\"-start\",function(t,n){var e=t[1],r=c(e,\"nr@wrapped\",function(){function t(){if(\"function\"==typeof e.handleEvent)return e.handleEvent.apply(e,arguments)}var n={object:t,\"function\":e}[typeof e];return n?s(n,\"fn-\",null,n.name||\"anonymous\"):e});this.wrapped=t[1]=r}),a.on(d+\"-start\",function(t){t[1]=this.wrapped||t[1]})},{}],6:[function(t,n,e){var r=t(\"ee\").get(\"history\"),o=t(19)(r);n.exports=r,o.inPlace(window.history,[\"pushState\",\"replaceState\"],\"-\")},{}],7:[function(t,n,e){var r=t(\"ee\").get(\"raf\"),o=t(19)(r),i=\"equestAnimationFrame\";n.exports=r,o.inPlace(window,[\"r\"+i,\"mozR\"+i,\"webkitR\"+i,\"msR\"+i],\"raf-\"),r.on(\"raf-start\",function(t){t[0]=o(t[0],\"fn-\")})},{}],8:[function(t,n,e){function r(t,n,e){t[0]=a(t[0],\"fn-\",null,e)}function o(t,n,e){this.method=e,this.timerDuration=isNaN(t[1])?0:+t[1],t[0]=a(t[0],\"fn-\",this,e)}var i=t(\"ee\").get(\"timer\"),a=t(19)(i),s=\"setTimeout\",c=\"setInterval\",f=\"clearTimeout\",u=\"-start\",d=\"-\";n.exports=i,a.inPlace(window,[s,\"setImmediate\"],s+d),a.inPlace(window,[c],c+d),a.inPlace(window,[f,\"clearImmediate\"],f+d),i.on(c+u,r),i.on(s+u,o)},{}],9:[function(t,n,e){function r(t,n){d.inPlace(n,[\"onreadystatechange\"],\"fn-\",s)}function o(){var t=this,n=u.context(t);t.readyState>3&&!n.resolved&&(n.resolved=!0,u.emit(\"xhr-resolved\",[],t)),d.inPlace(t,y,\"fn-\",s)}function i(t){g.push(t),h&&(x?x.then(a):v?v(a):(E=-E,O.data=E))}function a(){for(var t=0;t 34||p \n",
      "    \n",
      "   \n",
      "\n",
      "  \n",
      "\n",
      "       \n",
      "  \n",
      "  \n",
      "      \n",
      "\n",
      "  \n",
      "\n",
      "   \n",
      "  Page Not Found | Trulia\n",
      " \n",
      "\n",
      "  \n",
      "   \n",
      "\n",
      "\n",
      "  \n",
      "\n",
      "  \n",
      "     \n",
      "  \n",
      "\n",
      "  \n",
      "     \n",
      "     \n",
      "     \n",
      "  \n",
      "\n",
      "  \n",
      "     \n",
      "  \n",
      "\n",
      "  \n",
      "     \n",
      "  \n",
      "\n",
      "  \n",
      "\n",
      "   \n",
      "  \n",
      "   \n",
      "  \n",
      "   \n",
      "  \n",
      "      \n",
      "  \n",
      "   \n",
      "\n",
      "   \n",
      "\n",
      "   \n",
      "\n",
      "   \n",
      "    .placeholderHeader {\n",
      "      height: 0;\n",
      "      background: rgb(227,255,232) no-repeat center;\n",
      "      padding: calc(((48 + 648) / 1619.8) * 100%) 0 0 0;\n",
      "      background-size: cover;\n",
      "      position: relative;\n",
      "      margin-top: -48px;\n",
      "    }\n",
      "\n",
      "    @media screen and (max-width: 768px) {\n",
      "      .placeholderHeader {\n",
      "        background: rgb(227,255,232) no-repeat center;\n",
      "        height: 530px;\n",
      "        padding: 84px 0 0;\n",
      "        position: relative;\n",
      "        margin-top: -48px;\n",
      "      }\n",
      "    }\n",
      "\n",
      "    .placeholderContent {\n",
      "      height: 400px;\n",
      "    }\n",
      "   \n",
      "\n",
      "\n",
      "\n",
      "  \n",
      "      \n",
      "\n",
      "  \n",
      "     \n",
      "\n",
      "  \n",
      "\n",
      "  \n",
      "    \n",
      "     \n",
      "    (function() {\n",
      "      if (window.top !== window) {\n",
      "        window.top.location = window.location.toString();\n",
      "      }\n",
      "    })();\n",
      "     \n",
      "  \n",
      "\n",
      "  \n",
      "    \n",
      "     var trulia = {page_name: 'Error 0'}; \n",
      "\n",
      "    \n",
      "    \n",
      "\n",
      "\n",
      "              \n",
      "      \n",
      "     \n",
      "      require.config({\n",
      "        baseUrl: \"//static.trulia-cdn.com/javascript/0871ec4/include/js/_built/\"\n",
      "      });\n",
      "\n",
      "      window.globals = {\n",
      "        site_root: \"/\",\n",
      "        isUserLoggedIn: false,\n",
      "        isPro: false,\n",
      "        recaptchaKey: '6Ld6hB0TAAAAAIKpxK6nUyypugc0VR142c19gaqB'\n",
      "      };\n",
      "\n",
      "      define('globals', function() {\n",
      "        return window.globals;\n",
      "      });\n",
      "     \n",
      "  \n",
      "\n",
      "  \n",
      "     \n",
      "     \n",
      "     \n",
      "  \n",
      "\n",
      "  \n",
      " \n",
      "\n",
      "\n",
      "\n",
      "trulia.ads_targets.push(function addTopSpanAdABTestTrackingTargeting(ad)\n",
      "{\n",
      "  if (!ad.setTargeting) return;\n",
      "\n",
      "  if (typeof test_ads_topspan == 'string')\n",
      "  {\n",
      "    ad.setTargeting('vers', test_ads_topspan);\n",
      "  }\n",
      "});\n",
      " \n",
      "\n",
      "\n",
      "  \n",
      "     \n",
      "      \n",
      "\n",
      "(function(i,s,o,g,r,a,m){i['GoogleAnalyticsObject']=r;i[r]=i[r]||function()\n",
      "{ (i[r].q=i[r].q||[]).push(arguments)}\n",
      ",i[r].l=1*new Date();a=s.createElement(o),\n",
      "m=s.getElementsByTagName(o)[0];a.async=1;a.src=g;m.parentNode.insertBefore(a,m)\n",
      "})(window,document,'script','//www.google-analytics.com/analytics.js','ga');\n",
      "ga('create', 'UA-47944506-1', 'trulia.com');\n",
      "ga('send', 'pageview');\n",
      "\n",
      "     \n",
      "  \n",
      "\n",
      "  \n",
      "   \n",
      "    window.loadOmniFromDTM = true;\n",
      "   \n",
      "\n",
      "  \n",
      "  \n",
      "                    \n",
      "            \n",
      "\n",
      " \n",
      " \n",
      "  \n",
      "\n",
      "  <div class=\"\n",
      "    headerContainer\n",
      "    positionRelative\n",
      "    zIndexNavigation\n",
      "         newNavbar         \">\n",
      "     \n",
      "\n",
      "        \n",
      "\n",
      "      \n",
      "              \n",
      "\n",
      "      \n",
      "   \n",
      "                                                     Buy   New York City  Homes for Sale  Open Houses  New Homes  Recently Sold    See Newest Listings       Rent   New York City  All Rentals  Apartments for Rent  Houses for Rent  Rooms for Rent    See Newest Listings    Post A Rental Listing       Mortgage   New York City  Mortgage Overview  Get Pre-Qualified  Mortgage Rates  Refinance Rates    Mortgage Calculator  Affordability Calculator  Rent vs Buy Calculator  Refinance Calculator           Saved Homes      Saved Searches     Sign up or Log in                    \n",
      "     \n",
      "  \n",
      "\n",
      "    \n",
      "                             \n",
      "   \n",
      "     \n",
      "      \n",
      "      \n",
      "      \n",
      "      \n",
      "      \n",
      "                  <div id=\"global_nav_searchbox\" class=\"col\n",
      "                          cols10 ptm\n",
      "                        pbn pln \">\n",
      "         \n",
      "           \n",
      "           \n",
      "           \n",
      "           \n",
      "           \n",
      "           \n",
      "           \n",
      "           \n",
      "\n",
      "          <div class=\"col\n",
      "                                      cols21\n",
      "                                    field man pln\">\n",
      "            \n",
      "                         \n",
      "               \n",
      "              <input\n",
      "                id=\"globalNavSearchInput\"\n",
      "                type=\"text\"\n",
      "                aria-labelledby=\"searchButton\"\n",
      "                class=\"searchInput text searchByLocation h6 typeWeightNormal man\"\n",
      "                name=\"search\"\n",
      "                autocomplete=\"off\"\n",
      "                placeholder=\"Search by neighborhood, city, zip or address\"\n",
      "                value=\"New York City, NY\"\n",
      "                data-role=\"global_nav_search_field global_nav_search_by_location\"> \n",
      "                    \n",
      "                 \n",
      "             \n",
      "            \n",
      "             \n",
      "               \n",
      "                  \n",
      "                               \n",
      "             \n",
      "\n",
      "            \n",
      "           \n",
      "           \n",
      "            \n",
      "            \n",
      "           \n",
      "         \n",
      "       \n",
      "\n",
      "            \n",
      "       \n",
      "\t  \n",
      " \n",
      "\n",
      "\n",
      "\n",
      " \n",
      "   \" data-value=\" \" data-location-id=\" \" data-pid=\" \" data-property-Index=\" \" data-ac_index=\" \" data-location-type=\" \" data-bed-Filter=\" \" data-bath-Filter=\" \" data-property-Filter=\" \">\n",
      "     \n",
      "    \t\t \n",
      "    \t\t\t \n",
      "    \t\t \n",
      "    \t   \n",
      "     \n",
      "   \n",
      " \n",
      "\n",
      "     \n",
      "   \n",
      " \n",
      "              \n",
      "    \n",
      "  \n",
      "    \n",
      "\n",
      "\n",
      "     \n",
      "   \n",
      "\n",
      "\n",
      "  \n",
      "  \n",
      "   \n",
      "       \n",
      "           \n",
      "   Sorry! Your search returned no results. \n",
      " \n",
      " Please refine your search in the box above. \n",
      "\n",
      "       \n",
      "   \n",
      "\n",
      "\n",
      "  \n",
      "    \n",
      " \n",
      "  \n",
      "      \n",
      "\n",
      "         \n",
      "     \n",
      "       \n",
      "                                 \n",
      "                Real Estate Markets  \n",
      " \n",
      "           \n",
      "       Alabama Real Estate   |  \n",
      "     \n",
      "             \n",
      "       Alaska Real Estate   |  \n",
      "     \n",
      "             \n",
      "       Arizona Real Estate   |  \n",
      "     \n",
      "             \n",
      "       Arkansas Real Estate   |  \n",
      "     \n",
      "             \n",
      "         \n",
      "       California Real Estate   |  \n",
      "     \n",
      "             \n",
      "       Colorado Real Estate   |  \n",
      "     \n",
      "             \n",
      "       Connecticut Real Estate   |  \n",
      "     \n",
      "             \n",
      "       Delaware Real Estate   |  \n",
      "     \n",
      "             \n",
      "       District Of Columbia Real Estate   |  \n",
      "     \n",
      "             \n",
      "       Florida Real Estate   |  \n",
      "     \n",
      "             \n",
      "       Georgia Real Estate   |  \n",
      "     \n",
      "             \n",
      "       Hawaii Real Estate   |  \n",
      "     \n",
      "             \n",
      "       Idaho Real Estate   |  \n",
      "     \n",
      "             \n",
      "       Illinois Real Estate   |  \n",
      "     \n",
      "             \n",
      "       Indiana Real Estate   |  \n",
      "     \n",
      "             \n",
      "       Iowa Real Estate   |  \n",
      "     \n",
      "             \n",
      "       Kansas Real Estate   |  \n",
      "     \n",
      "             \n",
      "       Kentucky Real Estate   |  \n",
      "     \n",
      "             \n",
      "       Louisiana Real Estate   |  \n",
      "     \n",
      "             \n",
      "       Maine Real Estate   |  \n",
      "     \n",
      "             \n",
      "       Maryland Real Estate   |  \n",
      "     \n",
      "             \n",
      "       Massachusetts Real Estate   |  \n",
      "     \n",
      "             \n",
      "       Michigan Real Estate   |  \n",
      "     \n",
      "             \n",
      "       Minnesota Real Estate   |  \n",
      "     \n",
      "             \n",
      "       Mississippi Real Estate   |  \n",
      "     \n",
      "             \n",
      "       Missouri Real Estate   |  \n",
      "     \n",
      "             \n",
      "       Montana Real Estate   |  \n",
      "     \n",
      "             \n",
      "       Nebraska Real Estate   |  \n",
      "     \n",
      "             \n",
      "       Nevada Real Estate   |  \n",
      "     \n",
      "             \n",
      "       New Hampshire Real Estate   |  \n",
      "     \n",
      "             \n",
      "       New Jersey Real Estate   |  \n",
      "     \n",
      "             \n",
      "       New Mexico Real Estate   |  \n",
      "     \n",
      "             \n",
      "       New York Real Estate   |  \n",
      "     \n",
      "             \n",
      "       North Carolina Real Estate   |  \n",
      "     \n",
      "             \n",
      "       North Dakota Real Estate   |  \n",
      "     \n",
      "             \n",
      "       Ohio Real Estate   |  \n",
      "     \n",
      "             \n",
      "       Oklahoma Real Estate   |  \n",
      "     \n",
      "             \n",
      "       Oregon Real Estate   |  \n",
      "     \n",
      "             \n",
      "       Pennsylvania Real Estate   |  \n",
      "     \n",
      "             \n",
      "       Rhode Island Real Estate   |  \n",
      "     \n",
      "             \n",
      "       South Carolina Real Estate   |  \n",
      "     \n",
      "             \n",
      "       South Dakota Real Estate   |  \n",
      "     \n",
      "             \n",
      "       Tennessee Real Estate   |  \n",
      "     \n",
      "             \n",
      "       Texas Real Estate   |  \n",
      "     \n",
      "             \n",
      "       Utah Real Estate   |  \n",
      "     \n",
      "             \n",
      "       Vermont Real Estate   |  \n",
      "     \n",
      "             \n",
      "       Virginia Real Estate   |  \n",
      "     \n",
      "             \n",
      "       Washington Real Estate   |  \n",
      "     \n",
      "             \n",
      "       West Virginia Real Estate   |  \n",
      "     \n",
      "             \n",
      "       Wisconsin Real Estate   |  \n",
      "     \n",
      "             \n",
      "       Wyoming Real Estate   |  \n",
      "     \n",
      "  \n",
      "   \n",
      "   More    \n",
      " \n",
      "             \n",
      "                                           \n",
      "                Rental Markets  \n",
      " \n",
      "           \n",
      "       Alabama Rentals   |  \n",
      "     \n",
      "             \n",
      "       Alaska Rentals   |  \n",
      "     \n",
      "             \n",
      "       Arizona Rentals   |  \n",
      "     \n",
      "             \n",
      "       Arkansas Rentals   |  \n",
      "     \n",
      "             \n",
      "         \n",
      "       California Rentals   |  \n",
      "     \n",
      "             \n",
      "       Colorado Rentals   |  \n",
      "     \n",
      "             \n",
      "       Connecticut Rentals   |  \n",
      "     \n",
      "             \n",
      "       Delaware Rentals   |  \n",
      "     \n",
      "             \n",
      "       District Of Columbia Rentals   |  \n",
      "     \n",
      "             \n",
      "       Florida Rentals   |  \n",
      "     \n",
      "             \n",
      "       Georgia Rentals   |  \n",
      "     \n",
      "             \n",
      "       Hawaii Rentals   |  \n",
      "     \n",
      "             \n",
      "       Idaho Rentals   |  \n",
      "     \n",
      "             \n",
      "       Illinois Rentals   |  \n",
      "     \n",
      "             \n",
      "       Indiana Rentals   |  \n",
      "     \n",
      "             \n",
      "       Iowa Rentals   |  \n",
      "     \n",
      "             \n",
      "       Kansas Rentals   |  \n",
      "     \n",
      "             \n",
      "       Kentucky Rentals   |  \n",
      "     \n",
      "             \n",
      "       Louisiana Rentals   |  \n",
      "     \n",
      "             \n",
      "       Maine Rentals   |  \n",
      "     \n",
      "             \n",
      "       Maryland Rentals   |  \n",
      "     \n",
      "             \n",
      "       Massachusetts Rentals   |  \n",
      "     \n",
      "             \n",
      "       Michigan Rentals   |  \n",
      "     \n",
      "             \n",
      "       Minnesota Rentals   |  \n",
      "     \n",
      "             \n",
      "       Mississippi Rentals   |  \n",
      "     \n",
      "             \n",
      "       Missouri Rentals   |  \n",
      "     \n",
      "             \n",
      "       Montana Rentals   |  \n",
      "     \n",
      "             \n",
      "       Nebraska Rentals   |  \n",
      "     \n",
      "             \n",
      "       Nevada Rentals   |  \n",
      "     \n",
      "             \n",
      "       New Hampshire Rentals   |  \n",
      "     \n",
      "             \n",
      "       New Jersey Rentals   |  \n",
      "     \n",
      "             \n",
      "       New Mexico Rentals   |  \n",
      "     \n",
      "             \n",
      "       New York Rentals   |  \n",
      "     \n",
      "             \n",
      "       North Carolina Rentals   |  \n",
      "     \n",
      "             \n",
      "       North Dakota Rentals   |  \n",
      "     \n",
      "             \n",
      "       Ohio Rentals   |  \n",
      "     \n",
      "             \n",
      "       Oklahoma Rentals   |  \n",
      "     \n",
      "             \n",
      "       Oregon Rentals   |  \n",
      "     \n",
      "             \n",
      "       Pennsylvania Rentals   |  \n",
      "     \n",
      "             \n",
      "       Rhode Island Rentals   |  \n",
      "     \n",
      "             \n",
      "       South Carolina Rentals   |  \n",
      "     \n",
      "             \n",
      "       South Dakota Rentals   |  \n",
      "     \n",
      "             \n",
      "       Tennessee Rentals   |  \n",
      "     \n",
      "             \n",
      "       Texas Rentals   |  \n",
      "     \n",
      "             \n",
      "       Utah Rentals   |  \n",
      "     \n",
      "             \n",
      "       Vermont Rentals   |  \n",
      "     \n",
      "             \n",
      "       Virginia Rentals   |  \n",
      "     \n",
      "             \n",
      "       Washington Rentals   |  \n",
      "     \n",
      "             \n",
      "       West Virginia Rentals   |  \n",
      "     \n",
      "             \n",
      "       Wisconsin Rentals   |  \n",
      "     \n",
      "             \n",
      "       Wyoming Rentals   |  \n",
      "     \n",
      "  \n",
      "   \n",
      "   More    \n",
      " \n",
      "             \n",
      "                                           \n",
      "               Explore Trulia \n",
      " \n",
      "           \n",
      "       Facebook   |  \n",
      "     \n",
      "             \n",
      "       Twitter   |  \n",
      "     \n",
      "             \n",
      "       Instagram   |  \n",
      "     \n",
      "             \n",
      "       Pinterest   |  \n",
      "     \n",
      "             \n",
      "         \n",
      "       Homes for Sale   |  \n",
      "     \n",
      "             \n",
      "       Rentals   |  \n",
      "     \n",
      "             \n",
      "       Houses for Rent   |  \n",
      "     \n",
      "             \n",
      "       Apartments for Rent   |  \n",
      "     \n",
      "             \n",
      "       Rooms for Rent   |  \n",
      "     \n",
      "             \n",
      "       Rent Near Universities   |  \n",
      "     \n",
      "             \n",
      "       Real Estate Advice   |  \n",
      "     \n",
      "             \n",
      "       Real Estate Apps   |  \n",
      "     \n",
      "             \n",
      "       Trulia Estimates   |  \n",
      "     \n",
      "             \n",
      "       Community Sitemap   |  \n",
      "     \n",
      "             \n",
      "       Neighborhood Sitemap   |  \n",
      "     \n",
      "             \n",
      "       Neighborhood Guides   |  \n",
      "     \n",
      "             \n",
      "       Trulia Sitemap   |  \n",
      "     \n",
      "             \n",
      "       All Real Estate Markets   |  \n",
      "     \n",
      "             \n",
      "       All Rental Markets   |  \n",
      "     \n",
      "  \n",
      "   \n",
      "   More    \n",
      " \n",
      "             \n",
      "                                           \n",
      "               For Professionals \n",
      " \n",
      "           \n",
      "       Stats & Trends   |  \n",
      "     \n",
      "             \n",
      "       U.S. Property Records   |  \n",
      "     \n",
      "             \n",
      "       Popular Counties   |  \n",
      "     \n",
      "             \n",
      "       Rental Communities   |  \n",
      "     \n",
      "             \n",
      "         \n",
      "       Submit your listings   |  \n",
      "     \n",
      "             \n",
      "       Real Estate Leads   |  \n",
      "     \n",
      "  \n",
      "   \n",
      "   More    \n",
      " \n",
      "             \n",
      "                           \n",
      "     \n",
      "   \n",
      "\n",
      "      \n",
      "\n",
      "\n",
      " \n",
      "       \n",
      "               \n",
      "           About Trulia  \n",
      "         \n",
      "               \n",
      "           About Zillow Group  \n",
      "         \n",
      "               \n",
      "           Careers  \n",
      "         \n",
      "               \n",
      "           Newsroom  \n",
      "         \n",
      "               \n",
      "           Investor Relations  \n",
      "         \n",
      "               \n",
      "           Advertising Terms  \n",
      "         \n",
      "               \n",
      "           Privacy  \n",
      "         \n",
      "               \n",
      "           Terms of Use  \n",
      "         \n",
      "               \n",
      "           Listings Quality Policy  \n",
      "         \n",
      "               \n",
      "           Subscription Terms  \n",
      "         \n",
      "               \n",
      "           Help  \n",
      "         \n",
      "             \n",
      "         Ad Choice  \n",
      "       \n",
      "     \n",
      "  \n",
      "    Copyright &copy; 2019 Trulia, LLC. All rights reserved.    Equal Housing Opportunity.  \n",
      " \n",
      " \n",
      "\n",
      "\n",
      "   \n",
      "\n",
      " \n",
      "  if (typeof $ !== 'undefined') {\n",
      "    $(document).ready(function () {\n",
      "      $('.toggle').truliaToggle();\n",
      "    });\n",
      "  }\n",
      " \n",
      "\n",
      "  \n",
      "   \n",
      "    // TODO: return function ready to repopulate the page\n",
      "(function()\n",
      "{\n",
      "  var el, data, attr, newEl, parent, children;\n",
      "\n",
      "  function getAttr(el, name)\n",
      "  {\n",
      "    if (navigator.userAgent.match(/MSIE/))\n",
      "    {\n",
      "        var item = el.attributes.getNamedItem(name);\n",
      "        return (!item || !item.value) ? null : item.value;\n",
      "    }\n",
      "    return el.getAttribute(name);\n",
      "  }\n",
      "  function setAttr(el, name, value)\n",
      "  {\n",
      "    if (navigator.userAgent.match(/MSIE/))\n",
      "    {\n",
      "      var item = document.createAttribute(name);\n",
      "      item.value = value;\n",
      "      return el.attributes.setNamedItem(item);\n",
      "    }\n",
      "    return el.setAttribute(name, value);\n",
      "  }\n",
      "\n",
      "  // construct seo data object\n",
      "  var PageData = {};\n",
      "\n",
      "  // process seo data object\n",
      "  for (var id in PageData)\n",
      "  {\n",
      "    if (typeof PageData[id] == 'object')\n",
      "    {\n",
      "      data = {};\n",
      "      for (var key in PageData[id])\n",
      "      {\n",
      "        data[key] = unescape(PageData[id][key]);\n",
      "      }\n",
      "    }\n",
      "    else\n",
      "    {\n",
      "      data = unescape(PageData[id]);\n",
      "    }\n",
      "\n",
      "    if (el = document.getElementById(id))\n",
      "    {\n",
      "\n",
      "      if (attr = getAttr(el, 'data-transform'))\n",
      "      {\n",
      "        newEl = document.createElement(attr);\n",
      "        parent = el.parentNode;\n",
      "        parent.insertBefore(newEl, el);\n",
      "        newEl.innerHTML = el.innerHTML;\n",
      "        parent.removeChild(el);\n",
      "        // copy id, class and title for now\n",
      "        if (getAttr(el, 'id')) setAttr(newEl, 'id', getAttr(el, 'id'));\n",
      "        if (getAttr(el, 'class')) setAttr(newEl, 'class', getAttr(el, 'class'));\n",
      "        if (getAttr(el, 'title')) setAttr(newEl, 'title', getAttr(el, 'title'));\n",
      "        el = newEl;\n",
      "      }\n",
      "\n",
      "      switch (el.tagName)\n",
      "      {\n",
      "        case 'INPUT':\n",
      "          el.value = data;\n",
      "          break;\n",
      "\n",
      "        case 'A':\n",
      "          if (typeof data == 'object')\n",
      "          {\n",
      "            if ('href' in data) setAttr(el, 'href', data['href']);\n",
      "            if ('text' in data) el.innerHTML = data['text'];\n",
      "          }\n",
      "          else\n",
      "          {\n",
      "            setAttr(el, 'href', data);\n",
      "          }\n",
      "          break;\n",
      "\n",
      "        default:\n",
      "          el.innerHTML = data;\n",
      "      }\n",
      "    }\n",
      "  }\n",
      "\n",
      "})();\n",
      "   \n",
      "\n",
      "\n",
      "  \n",
      "  \n",
      "  \n",
      "\n",
      "  \n",
      "     \n",
      "                                                    var _supports_my_trulia = 1;\n",
      "                                var site_root = \"/\";\n",
      "                                var _SITE_ROOT = \"/\";\n",
      "                                var _IMAGE_SERVER_ROOT = \"//static.trulia-cdn.com\";\n",
      "                                var _ENVIRONMENT = \"PROD\";\n",
      "                                var _IS_SHOWING_MODAL = false;\n",
      "                                var _MIN_PASSWORD_LENGTH = 5;\n",
      "                                var _MAX_PASSWORD_LENGTH = 50;\n",
      "                                var _z_api_host = \"mortgageapi.zillow.com\";\n",
      "              \n",
      "      \n",
      "        var qpn_NAMES =\n",
      "    {\n",
      "      'site':                'Trulia',\n",
      "      'site_possessive':     'Trulia\\'s',\n",
      "      'mytrulia':            'My Trulia',\n",
      "      'email_domain':        'trulia.com',\n",
      "      'truliamap':           'TruliaMap',\n",
      "      'voices':              'Trulia Voices',\n",
      "      'account_source':      'trulia',\n",
      "      'secondary_subdomain': ''\n",
      "    },\n",
      "    _js_server_root       = '//static.trulia-cdn.com/javascript/0871ec4/',\n",
      "    _release_version_tab  = 'release-2019.13.2',\n",
      "    _fb_app_id            = '183577541666001';\n",
      "    _fb_permissions       = 'email,user_location';\n",
      "    _google_client_id     = '487011081137-peeju6k4k30q731m6oo3k0kas0mqa5a3.apps.googleusercontent.com';\n",
      "\n",
      "var trulia = (typeof(trulia) !== \"undefined\") ? trulia : {};\n",
      "    trulia.tracking = trulia.tracking || {};\n",
      "    trulia.tracking.omniture_id = 'truliacom';\n",
      "      \n",
      "     \n",
      "\n",
      "    \n",
      "   \n",
      "    window.trulia = window.trulia || {};\n",
      "    window.trulia.errorpage = window.trulia.errorpage || {};\n",
      "    window.trulia.errorpage.bootstrap = [[]];\n",
      "    window.trulia.errorpage.bootstrap.baseUrl = window.site_root || '/';\n",
      "    window.trulia.errorpage.bootstrap.city = '';\n",
      "    window.trulia.errorpage.bootstrap.searchLocation = 'New York, NY';\n",
      "    window.trulia.errorpage.bootstrap.stateCode = '';\n",
      "    window.trulia.errorpage.bootstrap.truliaLifetimeId = '190329pp4m276987g0pmkwbx7i0ww202';\n",
      "    window.trulia.errorpage.bootstrap.homepageApiHost = 'https://external-elb.zgtkong-prod.trulia-cdn.net/homepage-api-prod/';\n",
      "    window.trulia.errorpage.bootstrap.analyticsDataLayer = {\"codebase\":\"www|release-2019.13.2\",\"siteSection\":\"misc\",\"pageType\":\"error\",\"pageDetails\":\"404\",\"pageName\":null,\"truliaUserID\":null,\"anonymousUserId\":\"190329pp4m276987g0pmkwbx7i0ww202\",\"userStatus\":\"\",\"userType\":\"\",\"userLoginStatus\":\"logged out\",\"pageTitle\":null,\"automaticTrackState\":false,\"devicePermissions\":\"push notifications|disabled\",\"server_id\":\"202\"} || {};\n",
      "    window.trulia.errorpage.bootstrap.analyticsDataConstants = {\"page_details\":{\"OVERVIEW\":\"overview\",\"SRP_LIST\":\"list\",\"SRP_MAP\":\"map\",\"SRP_HYBRID\":\"hybrid\",\"BOARD\":\"board\",\"BOARD_EDIT\":\"board:edit board\",\"BOARD_EMAIL_ALERTS\":\"board:email alerts\",\"NEARBY_CRIMES\":\"nearby crimes\",\"NEARBY_SCHOOLS\":\"nearby schools\",\"LONG_FORM_BUYER_TYPE\":\"long form:buyer type\",\"CHANGE_PASSWORD\":\"change password\",\"ENTER_EMAIL\":\"enter email\",\"CHOOSE_PASSWORD\":\"choose password\",\"ENTER_PASSWORD\":\"enter password\",\"BOARD_SHARED\":\"shared board\",\"ALL\":\"all\",\"BOARD_LIST\":\"board list\",\"BOARD_HYBRID\":\"board hybrid\",\"BUY\":\"buy\",\"RENT\":\"rent\",\"PROPERTY_ADDRESS\":\"property address\",\"LEASE_LENGTH\":\"lease length\",\"MOVE_IN_DATE\":\"move in date\",\"RENT_AND_UTILITIES\":\"rent and utilities\",\"UPLOAD_PHOTO\":\"upload photo\",\"BEDROOMS_AND_BATHROOMS\":\"bedrooms and bathrooms\",\"DESCRIPTION\":\"description\",\"NUMBER_OF_OCCUPANTS\":\"number of occupants\",\"ABOUT_YOU\":\"about you\",\"PREVIEW\":\"preview\",\"CONFIRM_YOUR_PHONE\":\"confirm your phone\",\"ENTER_CONFIRMATION_CODE\":\"enter confirmation code\",\"CONTACT_PREFERENCE\":\"contact preference\",\"THANK_YOU\":\"thank you\",\"LISTING_DEACTIVATE\":\"listing:deactivate\",\"LISTING_EDIT\":\"listing:edit\",\"NEAR_YOU\":\"near you\",\"PUSH_NOTIFICATIONS\":\"push notifications\",\"NAME_YOUR_SEARCH\":\"name your search\",\"SAVED_SEARCHES\":\"saved searches\",\"RECENT_SEARCHES\":\"recent searches\",\"CONFIRM_UNSUBSCRIBE\":\"confirm unsubscribe\",\"CONFIRM_DELETE_SAVED_SEARCH\":\"confirm delete saved search\",\"CONFIRM_INFO_REQUEST\":\"confirm info request\",\"STANDALONE_LEAD_FORM\":\"standalone lead form\",\"MORTGAGE_CALCULATOR\":\"mortgage calculator\",\"LANDING\":\"landing\"},\"page_type\":{\"DISCOVERY\":\"discovery\",\"SRP\":\"srp\",\"PDP\":\"pdp\",\"FEED\":\"feed\",\"BOARDS\":\"my boards\",\"BLOG\":\"blog\",\"INTERSTITIAL\":\"interstitial\",\"OVERLAY\":\"overlay\",\"PROMPT\":\"custom prompt\",\"USER_PROFILE\":\"user profile\",\"RENTAL_RESUME\":\"rental resume\",\"COLLAB\":\"collab\",\"NOTIFICATIONS\":\"notifications\",\"LIST_PROPERTY\":\"list a property\",\"LIST_ROOM\":\"list a room\",\"MY_LISTINGS\":\"my listings\",\"SAVED_SEARCHES\":\"saved searches\",\"SAVED_HOMES\":\"saves\",\"EDIT_PROFILE\":\"edit profile\",\"EMAIL_PREFERENCES\":\"email preferences\",\"CALCULATORS\":\"calculators\",\"LONG_FORM\":\"long form\"},\"site_section\":{\"HOME\":\"home\",\"BUY\":\"buy\",\"SOLD\":\"sold\",\"SELL\":\"sell\",\"RENT\":\"rent\",\"MORTGAGE\":\"mortgage\",\"FIND_AGENT\":\"find agent\",\"MORE\":\"more\",\"ACCOUNT\":\"account\",\"FOR_PROFESSIONALS\":\"for pros\",\"MICROSITE\":\"microsite\",\"ACTIVITY\":\"activity\"}} || {};\n",
      "   \n",
      "    \n",
      "    \n",
      "    \n",
      "\n",
      "\n",
      "    \n",
      "         \n",
      "    window.trulia = window.trulia || {};\n",
      "    window.trulia.navbar = {\"abTests\":[\"1040a\"],\"links\":[{\"label\":\"Buy\",\"uri\":\"\\/NY\\/New_York\\/\",\"tracking_string\":\"Buy\",\"children\":[{\"group\":{\"heading\":\"New York City\",\"links\":[{\"label\":\"Homes for Sale\",\"uri\":\"\\/NY\\/New_York\\/\",\"tracking_string\":\"Buy|City|HomesForSale\"},{\"label\":\"Open Houses\",\"uri\":\"\\/for_sale\\/New_York,NY\\/p_oh\\/\",\"tracking_string\":\"Buy|City|OpenHouse\"},{\"label\":\"New Homes\",\"uri\":\"\\/for_sale\\/New_York,NY\\/new_homes_lt\\/\",\"tracking_string\":\"Buy|City|NewHome\"},{\"label\":\"Recently Sold\",\"uri\":\"\\/sold\\/New_York,NY\\/\",\"tracking_string\":\"Buy|City|RecentlySold\"},{\"divider\":true}]}},{\"label\":\"See Newest Listings\",\"uri\":\"\\/new-for-sale-properties\\/NY\\/\",\"tracking_string\":\"Buy|Newest\"}]},{\"label\":\"Rent\",\"uri\":\"\\/for_rent\\/New_York,NY\\/\",\"tracking_string\":\"Rent\",\"children\":[{\"group\":{\"heading\":\"New York City\",\"links\":[{\"label\":\"All Rentals\",\"uri\":\"\\/for_rent\\/New_York,NY\\/\",\"tracking_string\":\"Rent|City|All\"},{\"label\":\"Apartments for Rent\",\"uri\":\"\\/for_rent\\/New_York,NY\\/APARTMENT,APARTMENT_COMMUNITY,APARTMENT%7CCONDO%7CTOWNHOUSE,CONDO,COOP,LOFT,TIC_type\\/\",\"tracking_string\":\"Rent|City|Apartment\"},{\"label\":\"Houses for Rent\",\"uri\":\"\\/for_rent\\/New_York,NY\\/SINGLE-FAMILY_HOME_type\\/\",\"tracking_string\":\"Rent|City|Home\"},{\"label\":\"Rooms for Rent\",\"uri\":\"\\/for_rent\\/New_York,NY\\/ROOM_FOR_RENT_type\\/\",\"tracking_string\":\"Rent|City|Room\"},{\"divider\":true}]}},{\"label\":\"See Newest Listings\",\"uri\":\"\\/new-for-rent-properties\\/NY\\/\",\"tracking_string\":\"Rent|Newest\"},{\"divider\":true},{\"label\":\"Post A Rental Listing\",\"uri\":\"\\/post-rental\\/\",\"tracking_string\":\"Rent|SLS\"}]},{\"label\":\"Mortgage\",\"uri\":\"\\/mortgages\\/\",\"tracking_string\":\"Mortgage\",\"children\":[{\"group\":{\"heading\":\"New York City\",\"links\":[{\"label\":\"Mortgage Overview\",\"uri\":\"\\/mortgages\\/\",\"tracking_string\":\"Mortgage\"},{\"label\":\"Get Pre-Qualified\",\"uri\":\"\\/mortgages\\/pre-approval?omni_src=mortgage%7Cglobal_nav\",\"tracking_string\":\"Mortgage|Preapproval\"},{\"label\":\"Mortgage Rates\",\"uri\":\"\\/mortgage-rates\\/New_York,NY\\/\",\"tracking_string\":\"Mortgage|Mortgage\"},{\"label\":\"Refinance Rates\",\"uri\":\"\\/refinance-rates\\/New_York,NY\\/\",\"tracking_string\":\"Mortgage|Refinance\"}]}},{\"divider\":true},{\"label\":\"Mortgage Calculator\",\"uri\":\"\\/mortgage-payment-calculator\\/\",\"tracking_string\":\"Mortgage|Calculators\"},{\"label\":\"Affordability Calculator\",\"uri\":\"\\/house-affordability-calculator\\/\",\"tracking_string\":\"Mortgage|Calculators\"},{\"label\":\"Rent vs Buy Calculator\",\"uri\":\"\\/rent_vs_buy\\/\",\"tracking_string\":\"Mortgage|Calculators\"},{\"label\":\"Refinance Calculator\",\"uri\":\"\\/home-loan-refinance-calculator\\/\",\"tracking_string\":\"Mortgage|Calculators\"}]},{\"label\":\"Local Info\",\"uri\":\"\\/real_estate\\/New_York-New_York\\/\",\"tracking_string\":\"LocalInfo\",\"children\":[{\"group\":{\"heading\":\"New York City\",\"links\":[{\"label\":\"Real Estate Overview\",\"uri\":\"\\/real_estate\\/New_York-New_York\\/\",\"tracking_string\":\"LocalInfo|Local|Home|City|Overview\"},{\"label\":\"Market Trends\",\"uri\":\"\\/real_estate\\/New_York-New_York\\/market-trends\\/\",\"tracking_string\":\"LocalInfo|Local|Home|City|Trends\"},{\"label\":\"Schools\",\"uri\":\"\\/real_estate\\/New_York-New_York\\/schools\\/\",\"tracking_string\":\"LocalInfo|Local|Home|City|Schools\"},{\"label\":\"Crime\",\"uri\":\"\\/real_estate\\/New_York-New_York\\/crime\\/\",\"tracking_string\":\"LocalInfo|Local|Home|City|Crime\"}]}},{\"divider\":true},{\"label\":\"All Trulia Neighborhood Guides\",\"uri\":\"\\/local-info\\/cities\",\"tracking_string\":\"LocalInfo|Neighborhood_Guides\"},{\"label\":\"Maps by Trulia\",\"uri\":\"\\/local\\/\",\"tracking_string\":\"LocalInfo|Local|Maps\"}]},{\"label\":\"Additional Resources\",\"tracking_string\":\"AdditionalResources\",\"children\":[{\"label\":\"Trulia Blogs\",\"uri\":\"\\/blog\\/\",\"tracking_string\":\"AdditionalResources|Blog\"},{\"label\":\"Go Mobile with Trulia\",\"uri\":\"\\/mobile\\/\",\"tracking_string\":\"AdditionalResources|Mobile\"},{\"label\":\"Advice\",\"uri\":\"\\/voices\\/New_York---26969\\/\",\"tracking_string\":\"AdditionalResources|Voices\",\"children\":[{\"label\":\"New York City Q&A\",\"uri\":\"\\/voices\\/New_York---26969\\/\",\"tracking_string\":\"AdditionalResources|Voices|LocationQA\"},{\"label\":\"Trulia Guides\",\"uri\":\"\\/guides\\/\",\"tracking_string\":\"AdditionalResources|Voices|Guides\"}]},{\"label\":\"Ask a Question\",\"uri\":\"\\/ask\\/\",\"tracking_string\":\"AdditionalResources|Ask\"},{\"label\":\"Help Center\",\"uri\":\"\\/help\\/\",\"tracking_string\":\"AdditionalResources|Help\"},{\"group\":{\"heading\":\"For Professionals\",\"links\":[{\"label\":\"Get Leads by ZIP\",\"uri\":\"\\/real-estate-leads\\/\",\"tracking_string\":\"AdditionalResources|PremierAgent\",\"nofollow\":true},{\"label\":\"Get Mortgage Leads\",\"uri\":\"\\/advertising\\/mortgage-leads\\/\",\"tracking_string\":\"AdditionalResources|professional lender advertising\"},{\"label\":\"Submit Listings\",\"uri\":\"\\/submit_listings\\/\",\"tracking_string\":\"AdditionalResources|Listings\",\"nofollow\":true}]}}]}],\"location_display_name\":\"New York City, NY\",\"location_city_state_display\":\"New York, NY\"};\n",
      "    window.trulia.isSearchBySchoolsEnabled = true;\n",
      "    window.trulia.isMobileUser = false;\n",
      "   \n",
      "\n",
      "    \n",
      "    \n",
      "\n",
      "  \n",
      "\n",
      "  \n",
      "  \n",
      "\n",
      "\n",
      "  \n",
      "          \n",
      " \n",
      "\n",
      "  function is_rentals_srp() {\n",
      "    return typeof appState !== 'undefined' && \n",
      "    appState.search && \n",
      "    appState.search.details && \n",
      "    appState.search.details.searchType &&  \n",
      "    appState.search.details.searchType == \"for_rent\";\n",
      "  }\n",
      "\n",
      "  function is_rentals_pdp() {\n",
      "    return typeof rentalPropertyWeb !== 'undefined';\n",
      "  }\n",
      "\n",
      "  var runBeacon = function ()\n",
      "  {\n",
      "    try {\n",
      "      var tempurl = window.location.href;\n",
      "      var regex = new RegExp(\"((http|https)://)([a-zA-Z0-9]+\\.)(.*)\");\n",
      "      var comurl = tempurl.match(regex);\n",
      "      var beacon_url = comurl[3]+comurl[4];\n",
      "\n",
      "      try {\n",
      "        var id = getCookie('tlftmusr');\n",
      "      } catch (e) {\n",
      "        var id = '';\n",
      "      }\n",
      "\n",
      "      var beaconOpts = {\n",
      "        c1:2,\n",
      "        c2:6036206,\n",
      "        c3:\"\",\n",
      "        c4:beacon_url,\n",
      "        c5:\"\",\n",
      "        c6:\"\",\n",
      "        c15:id\n",
      "      }\n",
      "\n",
      "      if (is_rentals_srp() || is_rentals_pdp()) {\n",
      "        beaconOpts.options = { \n",
      "          url_append:\"comscorekw=truliarentals\" \n",
      "        } \n",
      "      }\n",
      "\n",
      "      COMSCORE.beacon(beaconOpts);\n",
      "    } catch (e) {}\n",
      "  };\n",
      "\n",
      "  if (typeof COMSCORE == 'undefined') {\n",
      "    var protocol = document.location.protocol === 'https:' ? 'https://sb' : 'http://b'\n",
      "    var comscore = document.createElement('script');\n",
      "    comscore.onload = function () {\n",
      "      runBeacon();\n",
      "    };\n",
      "    comscore.src = protocol + \".scorecardresearch.com/beacon.js\";\n",
      "    document.head.appendChild(comscore); \n",
      "  }\n",
      " \n",
      "\n",
      " \n",
      "   \n",
      " \n",
      "\n",
      "      \n",
      "\n",
      "  \n",
      "      \n",
      "  \n",
      "\n",
      "  \n",
      "  \n",
      "     \n",
      "  trulia.PixelTracking.firePixel(trulia.PixelTracking.TYPE_GLOBAL_REMARKETING);\n",
      "trulia.PixelTracking.firePixel(trulia.PixelTracking.TYPE_UNIQUE_CONVERSION);\n",
      "\n",
      "\n",
      "  Script below Copyright 1997-2004 Omniture, Inc.  \n",
      "  s.channel = unescape('');\n",
      "  s.events = unescape('event5');\n",
      "  s.pageName = unescape('Error%200');\n",
      "  s.prop58 = unescape('Error%200');\n",
      "  s.eVar58 = unescape('Error%200');\n",
      "  s.eVar15 = unescape('202');\n",
      "  s.eVar19 = unescape('cbs000');\n",
      "  s.eVar6 = unescape('2019.13');\n",
      "  s.eVar18 = unescape('it1jj1s33lnadmtd59fd6ro6m4');\n",
      "  s.eVar5 = unescape('190329pp4m276987g0pmkwbx7i0ww202');\n",
      "  s.prop38 = unescape('Error%200%7CUnregistered');\n",
      "  s.eVar25 = unescape('20190329');\n",
      "  s.eVar39 = unescape('NULL');\n",
      "  s.eVar40 = unescape('NULL');\n",
      "  s.eVar41 = unescape('NULL');\n",
      "  s_campaign = unescape('');\n",
      "  s.contextData['trul.testAB'] = unescape('1075b%3B1071_control%3B1081a%3B1120_control%3B1022b%3B1044_control%3B1105a%3B1052a%3B1053a%3B1040a');\n",
      "  s.eVar47 = unescape('https%3A%2F%2Fwww.trulia.com%2F%3Ferror_code%3D0');\n",
      "  s.prop47 = unescape('https%3A%2F%2Fwww.trulia.com%2F%3Ferror_code%3D0');\n",
      "  s.prop60 = unescape('no%20location%20found%200');\n",
      "  s.prop12 = unescape('no%20location%20found%200');\n",
      "  s.eVar9 = unescape('Failed');\n",
      "\n",
      "s.loadOmniFromDTM = true;\n",
      "s_campaign = typeof s_campaign === 'undefined' ? '' : s_campaign;\n",
      "\n",
      "if (typeof s.doPlugins == 'function') {\n",
      "  s.doPlugins(s, s_campaign);\n",
      "}\n",
      "\n",
      "// _satellite is a global object generated by Adobe DTM. See for more info: https://marketing.adobe.com/resources/help/en_US/dtm/object_reference.html\n",
      "if ((typeof _satellite === 'undefined')) {\n",
      "\n",
      "  if (typeof s.t == 'function') {\n",
      "    var s_code = s.t();\n",
      "    if (s_code) {\n",
      "      document.write(s_code);\n",
      "    }\n",
      "  }\n",
      "}\n",
      "\n",
      "\n",
      "\n",
      "\n",
      "var utag_data = {\"page_type\":null,\"page_name\":\"Error 0\",\"campaign\":\"\",\"site_section\":null,\"server_code\":\"202\",\"session_id\":\"it1jj1s33lnadmtd59fd6ro6m4\",\"cobrand_site\":\"cbs000\",\"date_first_visit\":\"20190329\",\"page_reg_status\":\"Error 0|Unregistered\",\"user_id\":\"190329pp4m276987g0pmkwbx7i0ww202\",\"user_type\":\"NULL\",\"user_sub_type\":\"NULL\"};\n",
      "\n",
      "\n",
      " \n",
      "\n",
      "     \n",
      "      var analyticsDatalayer = {\"codebase\":\"www|release-2019.13.2\",\"siteSection\":\"misc\",\"pageType\":\"error\",\"pageDetails\":\"404\",\"pageName\":null,\"truliaUserID\":null,\"anonymousUserId\":\"190329pp4m276987g0pmkwbx7i0ww202\",\"userStatus\":\"\",\"userType\":\"\",\"userLoginStatus\":\"logged out\",\"pageTitle\":null,\"automaticTrackState\":false,\"devicePermissions\":\"push notifications|disabled\",\"server_id\":\"202\"};\n",
      "      if (typeof (localStorage) !== 'undefined') {\n",
      "        var pushPermissionGranted = localStorage.getItem('isPushNotificationsEnabled') || '';\n",
      "        if (pushPermissionGranted === 'enabled') {\n",
      "          analyticsDatalayer['devicePermissions'] = 'push notifications|enabled';\n",
      "        }\n",
      "      }\n",
      "      trulia.dataLayer && trulia.dataLayer.loadDataLayerClient(\n",
      "        analyticsDatalayer,\n",
      "        {\"page_details\":{\"OVERVIEW\":\"overview\",\"SRP_LIST\":\"list\",\"SRP_MAP\":\"map\",\"SRP_HYBRID\":\"hybrid\",\"BOARD\":\"board\",\"BOARD_EDIT\":\"board:edit board\",\"BOARD_EMAIL_ALERTS\":\"board:email alerts\",\"NEARBY_CRIMES\":\"nearby crimes\",\"NEARBY_SCHOOLS\":\"nearby schools\",\"LONG_FORM_BUYER_TYPE\":\"long form:buyer type\",\"CHANGE_PASSWORD\":\"change password\",\"ENTER_EMAIL\":\"enter email\",\"CHOOSE_PASSWORD\":\"choose password\",\"ENTER_PASSWORD\":\"enter password\",\"BOARD_SHARED\":\"shared board\",\"ALL\":\"all\",\"BOARD_LIST\":\"board list\",\"BOARD_HYBRID\":\"board hybrid\",\"BUY\":\"buy\",\"RENT\":\"rent\",\"PROPERTY_ADDRESS\":\"property address\",\"LEASE_LENGTH\":\"lease length\",\"MOVE_IN_DATE\":\"move in date\",\"RENT_AND_UTILITIES\":\"rent and utilities\",\"UPLOAD_PHOTO\":\"upload photo\",\"BEDROOMS_AND_BATHROOMS\":\"bedrooms and bathrooms\",\"DESCRIPTION\":\"description\",\"NUMBER_OF_OCCUPANTS\":\"number of occupants\",\"ABOUT_YOU\":\"about you\",\"PREVIEW\":\"preview\",\"CONFIRM_YOUR_PHONE\":\"confirm your phone\",\"ENTER_CONFIRMATION_CODE\":\"enter confirmation code\",\"CONTACT_PREFERENCE\":\"contact preference\",\"THANK_YOU\":\"thank you\",\"LISTING_DEACTIVATE\":\"listing:deactivate\",\"LISTING_EDIT\":\"listing:edit\",\"NEAR_YOU\":\"near you\",\"PUSH_NOTIFICATIONS\":\"push notifications\",\"NAME_YOUR_SEARCH\":\"name your search\",\"SAVED_SEARCHES\":\"saved searches\",\"RECENT_SEARCHES\":\"recent searches\",\"CONFIRM_UNSUBSCRIBE\":\"confirm unsubscribe\",\"CONFIRM_DELETE_SAVED_SEARCH\":\"confirm delete saved search\",\"CONFIRM_INFO_REQUEST\":\"confirm info request\",\"STANDALONE_LEAD_FORM\":\"standalone lead form\",\"MORTGAGE_CALCULATOR\":\"mortgage calculator\",\"LANDING\":\"landing\"},\"page_type\":{\"DISCOVERY\":\"discovery\",\"SRP\":\"srp\",\"PDP\":\"pdp\",\"FEED\":\"feed\",\"BOARDS\":\"my boards\",\"BLOG\":\"blog\",\"INTERSTITIAL\":\"interstitial\",\"OVERLAY\":\"overlay\",\"PROMPT\":\"custom prompt\",\"USER_PROFILE\":\"user profile\",\"RENTAL_RESUME\":\"rental resume\",\"COLLAB\":\"collab\",\"NOTIFICATIONS\":\"notifications\",\"LIST_PROPERTY\":\"list a property\",\"LIST_ROOM\":\"list a room\",\"MY_LISTINGS\":\"my listings\",\"SAVED_SEARCHES\":\"saved searches\",\"SAVED_HOMES\":\"saves\",\"EDIT_PROFILE\":\"edit profile\",\"EMAIL_PREFERENCES\":\"email preferences\",\"CALCULATORS\":\"calculators\",\"LONG_FORM\":\"long form\"},\"site_section\":{\"HOME\":\"home\",\"BUY\":\"buy\",\"SOLD\":\"sold\",\"SELL\":\"sell\",\"RENT\":\"rent\",\"MORTGAGE\":\"mortgage\",\"FIND_AGENT\":\"find agent\",\"MORE\":\"more\",\"ACCOUNT\":\"account\",\"FOR_PROFESSIONALS\":\"for pros\",\"MICROSITE\":\"microsite\",\"ACTIVITY\":\"activity\"}}\n",
      "      );\n",
      "     \n",
      "\n",
      "     \n",
      "    trulia.data = trulia.data || {};\n",
      "\n",
      "    trulia.data.user = {\"userId\":\"\",\"secondaryId\":\"190329pp4m276987g0pmkwbx7i0ww202\",\"sessionId\":\"it1jj1s33lnadmtd59fd6ro6m4\"};\n",
      " \n",
      "    \n",
      "    \n",
      "     \n",
      "\n",
      "\n",
      "  \n",
      "    \n",
      "  \n",
      "\n",
      "  \n",
      "  \n",
      "  \n",
      "     \n",
      "      window.isDtmAsync = true;\n",
      "\n",
      "      \n",
      "      if (typeof _satellite !== 'undefined') {\n",
      "        if (!window.isDtmAsync) {\n",
      "          _satellite.pageBottom();\n",
      "          _satellite.setVar('loadDelayedCode', 'all');\n",
      "        }\n",
      "      }\n",
      "     \n",
      "  \n",
      "  \n",
      "  \n",
      " window.NREUM||(NREUM={});NREUM.info={\"beacon\":\"bam.nr-data.net\",\"licenseKey\":\"28d67b3a7a\",\"applicationID\":\"42755462\",\"transactionName\":\"ZANTYEFXXBIFVE1cDl1JckFAQl0MS3JLRw5BNlBTVnVdDxBFVlkNVhQLDlZOVwIRQ1xqCF0CVEw=\",\"queueTime\":0,\"applicationTime\":673,\"atts\":\"SEREFglNT01GVhsPGk4b\",\"errorBeacon\":\"bam.nr-data.net\",\"agent\":\"\"}  \n",
      " \n",
      "\n",
      " \n"
     ]
    }
   ],
   "source": [
    "f = urllib.request.urlopen(req)\n",
    "html = f.read().decode('utf-8')\n",
    "html = re.sub(r'<.*?>', ' ', html)\n",
    "print(html)"
   ]
  },
  {
   "cell_type": "markdown",
   "metadata": {},
   "source": [
    "С помощью **urllib.parse** можно делать разбор URL:"
   ]
  },
  {
   "cell_type": "code",
   "execution_count": 61,
   "metadata": {},
   "outputs": [
    {
     "name": "stdout",
     "output_type": "stream",
     "text": [
      "ParseResult(scheme='https', netloc='docs.djangoproject.com', path='/en/1.5/intro/overview/', params='', query='', fragment='design-your-model')\n",
      "ParseResult(scheme='https', netloc='docs.djangoproject.com', path='/search/', params='', query='q=admin&release=7', fragment='')\n"
     ]
    }
   ],
   "source": [
    "from urllib.parse import urlparse\n",
    "url = 'https://docs.djangoproject.com/en/1.5/intro/overview/#design-your-model'\n",
    "print(urlparse(url))\n",
    "\n",
    "url = 'https://docs.djangoproject.com/search/?q=admin&release=7'\n",
    "print(urlparse(url))"
   ]
  }
 ],
 "metadata": {
  "kernelspec": {
   "display_name": "Python 3",
   "language": "python",
   "name": "python3"
  },
  "language_info": {
   "codemirror_mode": {
    "name": "ipython",
    "version": 3
   },
   "file_extension": ".py",
   "mimetype": "text/x-python",
   "name": "python",
   "nbconvert_exporter": "python",
   "pygments_lexer": "ipython3",
   "version": "3.5.4"
  }
 },
 "nbformat": 4,
 "nbformat_minor": 2
}
