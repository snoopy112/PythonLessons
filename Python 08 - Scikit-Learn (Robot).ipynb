{
 "cells": [
  {
   "cell_type": "markdown",
   "metadata": {},
   "source": [
    "# Уроки по Python3\n",
    "## Введение в машинное обучение. Работа с библиотекой Scikit-Learn"
   ]
  },
  {
   "cell_type": "markdown",
   "metadata": {},
   "source": [
    "### Чтение тренировочного датасета, анализ, подготовка и визуализация"
   ]
  },
  {
   "cell_type": "code",
   "execution_count": 1,
   "metadata": {},
   "outputs": [],
   "source": [
    "import numpy as np\n",
    "import pandas as pd\n",
    "%matplotlib inline\n",
    "import matplotlib.pyplot as plt"
   ]
  },
  {
   "cell_type": "code",
   "execution_count": 2,
   "metadata": {},
   "outputs": [
    {
     "data": {
      "text/html": [
       "<div>\n",
       "<style scoped>\n",
       "    .dataframe tbody tr th:only-of-type {\n",
       "        vertical-align: middle;\n",
       "    }\n",
       "\n",
       "    .dataframe tbody tr th {\n",
       "        vertical-align: top;\n",
       "    }\n",
       "\n",
       "    .dataframe thead th {\n",
       "        text-align: right;\n",
       "    }\n",
       "</style>\n",
       "<table border=\"1\" class=\"dataframe\">\n",
       "  <thead>\n",
       "    <tr style=\"text-align: right;\">\n",
       "      <th></th>\n",
       "      <th>year</th>\n",
       "      <th>robot_gear_compression_diff_1</th>\n",
       "      <th>sensor_robot_controller_index_2</th>\n",
       "      <th>robot_gear_compression_diff_3</th>\n",
       "      <th>robot_gear_compression_diff_4</th>\n",
       "      <th>sensor_robot_arm_right_1</th>\n",
       "      <th>robot_gear_compression_diff_6</th>\n",
       "      <th>robot_gear_compression_diff_7</th>\n",
       "      <th>robot_gear_compression_diff_8</th>\n",
       "      <th>robot_gear_compression_diff_9</th>\n",
       "      <th>...</th>\n",
       "      <th>robot_probe_temperature_5</th>\n",
       "      <th>robot_probe_temperature_6</th>\n",
       "      <th>robot_probe_temperature_7</th>\n",
       "      <th>robot_probe_temperature_8</th>\n",
       "      <th>robot_probe_temperature_9</th>\n",
       "      <th>sensor_robot_eye_laser_range_1</th>\n",
       "      <th>sensor_robot_arm_left_4</th>\n",
       "      <th>sensor_robot_arm_left_2</th>\n",
       "      <th>gamma_ray</th>\n",
       "      <th>target</th>\n",
       "    </tr>\n",
       "  </thead>\n",
       "  <tbody>\n",
       "    <tr>\n",
       "      <th>0</th>\n",
       "      <td>2019</td>\n",
       "      <td>10.679910</td>\n",
       "      <td>15.091173</td>\n",
       "      <td>14.274428</td>\n",
       "      <td>-11.045572</td>\n",
       "      <td>-4.783722</td>\n",
       "      <td>8.581814</td>\n",
       "      <td>13.683193</td>\n",
       "      <td>5.829388</td>\n",
       "      <td>-46.055115</td>\n",
       "      <td>...</td>\n",
       "      <td>-19.814141</td>\n",
       "      <td>-25.839817</td>\n",
       "      <td>0.970255</td>\n",
       "      <td>3.238174</td>\n",
       "      <td>1.817238</td>\n",
       "      <td>1.474627</td>\n",
       "      <td>-28.059812</td>\n",
       "      <td>15.631746</td>\n",
       "      <td>low</td>\n",
       "      <td>19.993461</td>\n",
       "    </tr>\n",
       "    <tr>\n",
       "      <th>1</th>\n",
       "      <td>2020</td>\n",
       "      <td>10.611032</td>\n",
       "      <td>14.906948</td>\n",
       "      <td>13.773004</td>\n",
       "      <td>-11.169123</td>\n",
       "      <td>-6.077731</td>\n",
       "      <td>8.336961</td>\n",
       "      <td>13.633622</td>\n",
       "      <td>5.345224</td>\n",
       "      <td>-50.708744</td>\n",
       "      <td>...</td>\n",
       "      <td>-0.198837</td>\n",
       "      <td>-7.075529</td>\n",
       "      <td>0.728076</td>\n",
       "      <td>3.004283</td>\n",
       "      <td>1.586136</td>\n",
       "      <td>1.281429</td>\n",
       "      <td>-27.609630</td>\n",
       "      <td>15.848169</td>\n",
       "      <td>low</td>\n",
       "      <td>19.904883</td>\n",
       "    </tr>\n",
       "    <tr>\n",
       "      <th>2</th>\n",
       "      <td>2021</td>\n",
       "      <td>10.186666</td>\n",
       "      <td>14.807848</td>\n",
       "      <td>13.861197</td>\n",
       "      <td>-12.261832</td>\n",
       "      <td>-5.385449</td>\n",
       "      <td>8.208332</td>\n",
       "      <td>14.534426</td>\n",
       "      <td>5.352057</td>\n",
       "      <td>-53.471611</td>\n",
       "      <td>...</td>\n",
       "      <td>0.142533</td>\n",
       "      <td>-4.374839</td>\n",
       "      <td>0.397508</td>\n",
       "      <td>3.050232</td>\n",
       "      <td>2.093176</td>\n",
       "      <td>1.791260</td>\n",
       "      <td>-25.408680</td>\n",
       "      <td>16.064592</td>\n",
       "      <td>low</td>\n",
       "      <td>20.422236</td>\n",
       "    </tr>\n",
       "    <tr>\n",
       "      <th>3</th>\n",
       "      <td>2022</td>\n",
       "      <td>10.439354</td>\n",
       "      <td>14.780703</td>\n",
       "      <td>13.735109</td>\n",
       "      <td>-12.940010</td>\n",
       "      <td>-3.136724</td>\n",
       "      <td>8.093524</td>\n",
       "      <td>14.911227</td>\n",
       "      <td>7.367078</td>\n",
       "      <td>-42.954456</td>\n",
       "      <td>...</td>\n",
       "      <td>-0.881582</td>\n",
       "      <td>-3.638186</td>\n",
       "      <td>2.683104</td>\n",
       "      <td>3.133879</td>\n",
       "      <td>1.799235</td>\n",
       "      <td>1.588151</td>\n",
       "      <td>-23.169179</td>\n",
       "      <td>16.281016</td>\n",
       "      <td>low</td>\n",
       "      <td>19.872086</td>\n",
       "    </tr>\n",
       "    <tr>\n",
       "      <th>4</th>\n",
       "      <td>2023</td>\n",
       "      <td>10.537853</td>\n",
       "      <td>14.761712</td>\n",
       "      <td>14.112636</td>\n",
       "      <td>-11.648818</td>\n",
       "      <td>-1.120589</td>\n",
       "      <td>8.359302</td>\n",
       "      <td>14.660116</td>\n",
       "      <td>7.028476</td>\n",
       "      <td>-49.266612</td>\n",
       "      <td>...</td>\n",
       "      <td>2.963216</td>\n",
       "      <td>-2.100919</td>\n",
       "      <td>0.409917</td>\n",
       "      <td>3.240069</td>\n",
       "      <td>1.315912</td>\n",
       "      <td>0.893747</td>\n",
       "      <td>-22.344542</td>\n",
       "      <td>16.497439</td>\n",
       "      <td>low</td>\n",
       "      <td>19.118784</td>\n",
       "    </tr>\n",
       "  </tbody>\n",
       "</table>\n",
       "<p>5 rows × 146 columns</p>\n",
       "</div>"
      ],
      "text/plain": [
       "   year  robot_gear_compression_diff_1  sensor_robot_controller_index_2  \\\n",
       "0  2019                      10.679910                        15.091173   \n",
       "1  2020                      10.611032                        14.906948   \n",
       "2  2021                      10.186666                        14.807848   \n",
       "3  2022                      10.439354                        14.780703   \n",
       "4  2023                      10.537853                        14.761712   \n",
       "\n",
       "   robot_gear_compression_diff_3  robot_gear_compression_diff_4  \\\n",
       "0                      14.274428                     -11.045572   \n",
       "1                      13.773004                     -11.169123   \n",
       "2                      13.861197                     -12.261832   \n",
       "3                      13.735109                     -12.940010   \n",
       "4                      14.112636                     -11.648818   \n",
       "\n",
       "   sensor_robot_arm_right_1  robot_gear_compression_diff_6  \\\n",
       "0                 -4.783722                       8.581814   \n",
       "1                 -6.077731                       8.336961   \n",
       "2                 -5.385449                       8.208332   \n",
       "3                 -3.136724                       8.093524   \n",
       "4                 -1.120589                       8.359302   \n",
       "\n",
       "   robot_gear_compression_diff_7  robot_gear_compression_diff_8  \\\n",
       "0                      13.683193                       5.829388   \n",
       "1                      13.633622                       5.345224   \n",
       "2                      14.534426                       5.352057   \n",
       "3                      14.911227                       7.367078   \n",
       "4                      14.660116                       7.028476   \n",
       "\n",
       "   robot_gear_compression_diff_9    ...      robot_probe_temperature_5  \\\n",
       "0                     -46.055115    ...                     -19.814141   \n",
       "1                     -50.708744    ...                      -0.198837   \n",
       "2                     -53.471611    ...                       0.142533   \n",
       "3                     -42.954456    ...                      -0.881582   \n",
       "4                     -49.266612    ...                       2.963216   \n",
       "\n",
       "   robot_probe_temperature_6  robot_probe_temperature_7  \\\n",
       "0                 -25.839817                   0.970255   \n",
       "1                  -7.075529                   0.728076   \n",
       "2                  -4.374839                   0.397508   \n",
       "3                  -3.638186                   2.683104   \n",
       "4                  -2.100919                   0.409917   \n",
       "\n",
       "   robot_probe_temperature_8  robot_probe_temperature_9  \\\n",
       "0                   3.238174                   1.817238   \n",
       "1                   3.004283                   1.586136   \n",
       "2                   3.050232                   2.093176   \n",
       "3                   3.133879                   1.799235   \n",
       "4                   3.240069                   1.315912   \n",
       "\n",
       "   sensor_robot_eye_laser_range_1  sensor_robot_arm_left_4  \\\n",
       "0                        1.474627               -28.059812   \n",
       "1                        1.281429               -27.609630   \n",
       "2                        1.791260               -25.408680   \n",
       "3                        1.588151               -23.169179   \n",
       "4                        0.893747               -22.344542   \n",
       "\n",
       "   sensor_robot_arm_left_2  gamma_ray     target  \n",
       "0                15.631746        low  19.993461  \n",
       "1                15.848169        low  19.904883  \n",
       "2                16.064592        low  20.422236  \n",
       "3                16.281016        low  19.872086  \n",
       "4                16.497439        low  19.118784  \n",
       "\n",
       "[5 rows x 146 columns]"
      ]
     },
     "execution_count": 2,
     "metadata": {},
     "output_type": "execute_result"
    }
   ],
   "source": [
    "df = pd.read_csv('data/robot_data/train_data.csv')\n",
    "# pd.set_option('precision', 2)\n",
    "df = df.sort_values('year')\n",
    "df.head()"
   ]
  },
  {
   "cell_type": "code",
   "execution_count": 3,
   "metadata": {},
   "outputs": [
    {
     "data": {
      "text/plain": [
       "(3263, 146)"
      ]
     },
     "execution_count": 3,
     "metadata": {},
     "output_type": "execute_result"
    }
   ],
   "source": [
    "df.shape"
   ]
  },
  {
   "cell_type": "code",
   "execution_count": 4,
   "metadata": {},
   "outputs": [
    {
     "data": {
      "text/plain": [
       "Index(['year', 'robot_gear_compression_diff_1',\n",
       "       'sensor_robot_controller_index_2', 'robot_gear_compression_diff_3',\n",
       "       'robot_gear_compression_diff_4', 'sensor_robot_arm_right_1',\n",
       "       'robot_gear_compression_diff_6', 'robot_gear_compression_diff_7',\n",
       "       'robot_gear_compression_diff_8', 'robot_gear_compression_diff_9',\n",
       "       ...\n",
       "       'robot_probe_temperature_5', 'robot_probe_temperature_6',\n",
       "       'robot_probe_temperature_7', 'robot_probe_temperature_8',\n",
       "       'robot_probe_temperature_9', 'sensor_robot_eye_laser_range_1',\n",
       "       'sensor_robot_arm_left_4', 'sensor_robot_arm_left_2', 'gamma_ray',\n",
       "       'target'],\n",
       "      dtype='object', length=146)"
      ]
     },
     "execution_count": 4,
     "metadata": {},
     "output_type": "execute_result"
    }
   ],
   "source": [
    "df.columns"
   ]
  },
  {
   "cell_type": "code",
   "execution_count": 5,
   "metadata": {},
   "outputs": [
    {
     "data": {
      "text/html": [
       "<div>\n",
       "<style scoped>\n",
       "    .dataframe tbody tr th:only-of-type {\n",
       "        vertical-align: middle;\n",
       "    }\n",
       "\n",
       "    .dataframe tbody tr th {\n",
       "        vertical-align: top;\n",
       "    }\n",
       "\n",
       "    .dataframe thead th {\n",
       "        text-align: right;\n",
       "    }\n",
       "</style>\n",
       "<table border=\"1\" class=\"dataframe\">\n",
       "  <thead>\n",
       "    <tr style=\"text-align: right;\">\n",
       "      <th></th>\n",
       "      <th>year</th>\n",
       "      <th>robot_gear_compression_diff_1</th>\n",
       "      <th>sensor_robot_controller_index_2</th>\n",
       "      <th>robot_gear_compression_diff_3</th>\n",
       "      <th>robot_gear_compression_diff_4</th>\n",
       "      <th>sensor_robot_arm_right_1</th>\n",
       "      <th>robot_gear_compression_diff_6</th>\n",
       "      <th>robot_gear_compression_diff_7</th>\n",
       "      <th>robot_gear_compression_diff_8</th>\n",
       "      <th>robot_gear_compression_diff_9</th>\n",
       "      <th>...</th>\n",
       "      <th>sensor_robot_eye_laser_sensor_4</th>\n",
       "      <th>robot_probe_temperature_5</th>\n",
       "      <th>robot_probe_temperature_6</th>\n",
       "      <th>robot_probe_temperature_7</th>\n",
       "      <th>robot_probe_temperature_8</th>\n",
       "      <th>robot_probe_temperature_9</th>\n",
       "      <th>sensor_robot_eye_laser_range_1</th>\n",
       "      <th>sensor_robot_arm_left_4</th>\n",
       "      <th>sensor_robot_arm_left_2</th>\n",
       "      <th>target</th>\n",
       "    </tr>\n",
       "  </thead>\n",
       "  <tbody>\n",
       "    <tr>\n",
       "      <th>count</th>\n",
       "      <td>3263.000000</td>\n",
       "      <td>3263.000000</td>\n",
       "      <td>3263.000000</td>\n",
       "      <td>3263.000000</td>\n",
       "      <td>3263.000000</td>\n",
       "      <td>3263.000000</td>\n",
       "      <td>3263.000000</td>\n",
       "      <td>3263.000000</td>\n",
       "      <td>3263.000000</td>\n",
       "      <td>3263.000000</td>\n",
       "      <td>...</td>\n",
       "      <td>3263.000000</td>\n",
       "      <td>3263.000000</td>\n",
       "      <td>3263.000000</td>\n",
       "      <td>3263.000000</td>\n",
       "      <td>3263.000000</td>\n",
       "      <td>3263.000000</td>\n",
       "      <td>3263.000000</td>\n",
       "      <td>3263.000000</td>\n",
       "      <td>3263.000000</td>\n",
       "      <td>3263.000000</td>\n",
       "    </tr>\n",
       "    <tr>\n",
       "      <th>mean</th>\n",
       "      <td>3650.000000</td>\n",
       "      <td>4.743382</td>\n",
       "      <td>4.711188</td>\n",
       "      <td>4.150240</td>\n",
       "      <td>0.735772</td>\n",
       "      <td>0.356302</td>\n",
       "      <td>3.980784</td>\n",
       "      <td>4.795702</td>\n",
       "      <td>3.489475</td>\n",
       "      <td>-11.762066</td>\n",
       "      <td>...</td>\n",
       "      <td>-0.314341</td>\n",
       "      <td>-1.619153</td>\n",
       "      <td>-1.227771</td>\n",
       "      <td>-0.368780</td>\n",
       "      <td>-0.966306</td>\n",
       "      <td>-0.351048</td>\n",
       "      <td>-0.102309</td>\n",
       "      <td>-3.162996</td>\n",
       "      <td>-5.764416</td>\n",
       "      <td>3.974753</td>\n",
       "    </tr>\n",
       "    <tr>\n",
       "      <th>std</th>\n",
       "      <td>942.091291</td>\n",
       "      <td>11.971591</td>\n",
       "      <td>12.600201</td>\n",
       "      <td>15.414344</td>\n",
       "      <td>32.491776</td>\n",
       "      <td>21.249066</td>\n",
       "      <td>11.971590</td>\n",
       "      <td>21.787280</td>\n",
       "      <td>23.439238</td>\n",
       "      <td>39.628929</td>\n",
       "      <td>...</td>\n",
       "      <td>13.785414</td>\n",
       "      <td>15.729530</td>\n",
       "      <td>15.046405</td>\n",
       "      <td>11.752485</td>\n",
       "      <td>52.007397</td>\n",
       "      <td>25.875938</td>\n",
       "      <td>19.137775</td>\n",
       "      <td>13.069460</td>\n",
       "      <td>48.923364</td>\n",
       "      <td>21.058748</td>\n",
       "    </tr>\n",
       "    <tr>\n",
       "      <th>min</th>\n",
       "      <td>2019.000000</td>\n",
       "      <td>-41.222606</td>\n",
       "      <td>-50.708097</td>\n",
       "      <td>-85.115629</td>\n",
       "      <td>-237.802677</td>\n",
       "      <td>-62.005399</td>\n",
       "      <td>-20.918665</td>\n",
       "      <td>-37.047343</td>\n",
       "      <td>-30.209884</td>\n",
       "      <td>-129.428980</td>\n",
       "      <td>...</td>\n",
       "      <td>-260.782205</td>\n",
       "      <td>-204.598022</td>\n",
       "      <td>-267.461044</td>\n",
       "      <td>-171.454268</td>\n",
       "      <td>-700.034237</td>\n",
       "      <td>-350.057140</td>\n",
       "      <td>-259.983389</td>\n",
       "      <td>-45.065021</td>\n",
       "      <td>-260.177848</td>\n",
       "      <td>-222.068373</td>\n",
       "    </tr>\n",
       "    <tr>\n",
       "      <th>25%</th>\n",
       "      <td>2834.500000</td>\n",
       "      <td>-4.347614</td>\n",
       "      <td>-5.053198</td>\n",
       "      <td>-5.476476</td>\n",
       "      <td>-11.600617</td>\n",
       "      <td>-14.192575</td>\n",
       "      <td>-3.085307</td>\n",
       "      <td>-7.531737</td>\n",
       "      <td>-7.319708</td>\n",
       "      <td>-37.700655</td>\n",
       "      <td>...</td>\n",
       "      <td>0.528241</td>\n",
       "      <td>-2.906805</td>\n",
       "      <td>-1.409485</td>\n",
       "      <td>-0.300321</td>\n",
       "      <td>3.006966</td>\n",
       "      <td>1.331924</td>\n",
       "      <td>1.089518</td>\n",
       "      <td>-12.711290</td>\n",
       "      <td>-21.939303</td>\n",
       "      <td>-6.439736</td>\n",
       "    </tr>\n",
       "    <tr>\n",
       "      <th>50%</th>\n",
       "      <td>3650.000000</td>\n",
       "      <td>10.982071</td>\n",
       "      <td>11.185722</td>\n",
       "      <td>12.667528</td>\n",
       "      <td>2.585477</td>\n",
       "      <td>6.194435</td>\n",
       "      <td>6.779509</td>\n",
       "      <td>10.790315</td>\n",
       "      <td>3.339351</td>\n",
       "      <td>-15.966160</td>\n",
       "      <td>...</td>\n",
       "      <td>0.813811</td>\n",
       "      <td>4.115493</td>\n",
       "      <td>2.352888</td>\n",
       "      <td>0.757984</td>\n",
       "      <td>3.105589</td>\n",
       "      <td>1.690868</td>\n",
       "      <td>1.386072</td>\n",
       "      <td>-2.944265</td>\n",
       "      <td>-2.201517</td>\n",
       "      <td>10.087139</td>\n",
       "    </tr>\n",
       "    <tr>\n",
       "      <th>75%</th>\n",
       "      <td>4465.500000</td>\n",
       "      <td>14.536056</td>\n",
       "      <td>15.194974</td>\n",
       "      <td>15.871684</td>\n",
       "      <td>23.110990</td>\n",
       "      <td>17.123009</td>\n",
       "      <td>11.240535</td>\n",
       "      <td>16.412493</td>\n",
       "      <td>13.688108</td>\n",
       "      <td>16.612456</td>\n",
       "      <td>...</td>\n",
       "      <td>0.956559</td>\n",
       "      <td>6.543507</td>\n",
       "      <td>4.231996</td>\n",
       "      <td>1.647482</td>\n",
       "      <td>3.193184</td>\n",
       "      <td>2.047907</td>\n",
       "      <td>1.675096</td>\n",
       "      <td>6.607371</td>\n",
       "      <td>18.228823</td>\n",
       "      <td>17.292415</td>\n",
       "    </tr>\n",
       "    <tr>\n",
       "      <th>max</th>\n",
       "      <td>5281.000000</td>\n",
       "      <td>16.485844</td>\n",
       "      <td>17.096144</td>\n",
       "      <td>20.793896</td>\n",
       "      <td>65.593323</td>\n",
       "      <td>126.019083</td>\n",
       "      <td>122.988116</td>\n",
       "      <td>242.904661</td>\n",
       "      <td>308.146334</td>\n",
       "      <td>112.222819</td>\n",
       "      <td>...</td>\n",
       "      <td>1.813343</td>\n",
       "      <td>17.959283</td>\n",
       "      <td>12.010494</td>\n",
       "      <td>3.795320</td>\n",
       "      <td>6.940355</td>\n",
       "      <td>4.374593</td>\n",
       "      <td>51.588361</td>\n",
       "      <td>30.050211</td>\n",
       "      <td>98.218800</td>\n",
       "      <td>25.643372</td>\n",
       "    </tr>\n",
       "  </tbody>\n",
       "</table>\n",
       "<p>8 rows × 145 columns</p>\n",
       "</div>"
      ],
      "text/plain": [
       "              year  robot_gear_compression_diff_1  \\\n",
       "count  3263.000000                    3263.000000   \n",
       "mean   3650.000000                       4.743382   \n",
       "std     942.091291                      11.971591   \n",
       "min    2019.000000                     -41.222606   \n",
       "25%    2834.500000                      -4.347614   \n",
       "50%    3650.000000                      10.982071   \n",
       "75%    4465.500000                      14.536056   \n",
       "max    5281.000000                      16.485844   \n",
       "\n",
       "       sensor_robot_controller_index_2  robot_gear_compression_diff_3  \\\n",
       "count                      3263.000000                    3263.000000   \n",
       "mean                          4.711188                       4.150240   \n",
       "std                          12.600201                      15.414344   \n",
       "min                         -50.708097                     -85.115629   \n",
       "25%                          -5.053198                      -5.476476   \n",
       "50%                          11.185722                      12.667528   \n",
       "75%                          15.194974                      15.871684   \n",
       "max                          17.096144                      20.793896   \n",
       "\n",
       "       robot_gear_compression_diff_4  sensor_robot_arm_right_1  \\\n",
       "count                    3263.000000               3263.000000   \n",
       "mean                        0.735772                  0.356302   \n",
       "std                        32.491776                 21.249066   \n",
       "min                      -237.802677                -62.005399   \n",
       "25%                       -11.600617                -14.192575   \n",
       "50%                         2.585477                  6.194435   \n",
       "75%                        23.110990                 17.123009   \n",
       "max                        65.593323                126.019083   \n",
       "\n",
       "       robot_gear_compression_diff_6  robot_gear_compression_diff_7  \\\n",
       "count                    3263.000000                    3263.000000   \n",
       "mean                        3.980784                       4.795702   \n",
       "std                        11.971590                      21.787280   \n",
       "min                       -20.918665                     -37.047343   \n",
       "25%                        -3.085307                      -7.531737   \n",
       "50%                         6.779509                      10.790315   \n",
       "75%                        11.240535                      16.412493   \n",
       "max                       122.988116                     242.904661   \n",
       "\n",
       "       robot_gear_compression_diff_8  robot_gear_compression_diff_9  \\\n",
       "count                    3263.000000                    3263.000000   \n",
       "mean                        3.489475                     -11.762066   \n",
       "std                        23.439238                      39.628929   \n",
       "min                       -30.209884                    -129.428980   \n",
       "25%                        -7.319708                     -37.700655   \n",
       "50%                         3.339351                     -15.966160   \n",
       "75%                        13.688108                      16.612456   \n",
       "max                       308.146334                     112.222819   \n",
       "\n",
       "          ...       sensor_robot_eye_laser_sensor_4  \\\n",
       "count     ...                           3263.000000   \n",
       "mean      ...                             -0.314341   \n",
       "std       ...                             13.785414   \n",
       "min       ...                           -260.782205   \n",
       "25%       ...                              0.528241   \n",
       "50%       ...                              0.813811   \n",
       "75%       ...                              0.956559   \n",
       "max       ...                              1.813343   \n",
       "\n",
       "       robot_probe_temperature_5  robot_probe_temperature_6  \\\n",
       "count                3263.000000                3263.000000   \n",
       "mean                   -1.619153                  -1.227771   \n",
       "std                    15.729530                  15.046405   \n",
       "min                  -204.598022                -267.461044   \n",
       "25%                    -2.906805                  -1.409485   \n",
       "50%                     4.115493                   2.352888   \n",
       "75%                     6.543507                   4.231996   \n",
       "max                    17.959283                  12.010494   \n",
       "\n",
       "       robot_probe_temperature_7  robot_probe_temperature_8  \\\n",
       "count                3263.000000                3263.000000   \n",
       "mean                   -0.368780                  -0.966306   \n",
       "std                    11.752485                  52.007397   \n",
       "min                  -171.454268                -700.034237   \n",
       "25%                    -0.300321                   3.006966   \n",
       "50%                     0.757984                   3.105589   \n",
       "75%                     1.647482                   3.193184   \n",
       "max                     3.795320                   6.940355   \n",
       "\n",
       "       robot_probe_temperature_9  sensor_robot_eye_laser_range_1  \\\n",
       "count                3263.000000                     3263.000000   \n",
       "mean                   -0.351048                       -0.102309   \n",
       "std                    25.875938                       19.137775   \n",
       "min                  -350.057140                     -259.983389   \n",
       "25%                     1.331924                        1.089518   \n",
       "50%                     1.690868                        1.386072   \n",
       "75%                     2.047907                        1.675096   \n",
       "max                     4.374593                       51.588361   \n",
       "\n",
       "       sensor_robot_arm_left_4  sensor_robot_arm_left_2       target  \n",
       "count              3263.000000              3263.000000  3263.000000  \n",
       "mean                 -3.162996                -5.764416     3.974753  \n",
       "std                  13.069460                48.923364    21.058748  \n",
       "min                 -45.065021              -260.177848  -222.068373  \n",
       "25%                 -12.711290               -21.939303    -6.439736  \n",
       "50%                  -2.944265                -2.201517    10.087139  \n",
       "75%                   6.607371                18.228823    17.292415  \n",
       "max                  30.050211                98.218800    25.643372  \n",
       "\n",
       "[8 rows x 145 columns]"
      ]
     },
     "execution_count": 5,
     "metadata": {},
     "output_type": "execute_result"
    }
   ],
   "source": [
    "df.describe()"
   ]
  },
  {
   "cell_type": "code",
   "execution_count": 6,
   "metadata": {},
   "outputs": [
    {
     "name": "stdout",
     "output_type": "stream",
     "text": [
      "<class 'pandas.core.frame.DataFrame'>\n",
      "Int64Index: 3263 entries, 0 to 3262\n",
      "Columns: 146 entries, year to target\n",
      "dtypes: float64(144), int64(1), object(1)\n",
      "memory usage: 3.7+ MB\n"
     ]
    }
   ],
   "source": [
    "df.info()"
   ]
  },
  {
   "cell_type": "code",
   "execution_count": 7,
   "metadata": {},
   "outputs": [
    {
     "data": {
      "text/plain": [
       "(count    3263.000000\n",
       " mean        3.974753\n",
       " std        21.058748\n",
       " min      -222.068373\n",
       " 25%        -6.439736\n",
       " 50%        10.087139\n",
       " 75%        17.292415\n",
       " max        25.643372\n",
       " Name: target, dtype: float64, 0    19.993461\n",
       " 1    19.904883\n",
       " 2    20.422236\n",
       " 3    19.872086\n",
       " 4    19.118784\n",
       " Name: target, dtype: float64)"
      ]
     },
     "execution_count": 7,
     "metadata": {},
     "output_type": "execute_result"
    }
   ],
   "source": [
    "target = df['target']\n",
    "\n",
    "target.describe(), target[:5]"
   ]
  },
  {
   "cell_type": "code",
   "execution_count": 8,
   "metadata": {},
   "outputs": [
    {
     "data": {
      "text/html": [
       "<div>\n",
       "<style scoped>\n",
       "    .dataframe tbody tr th:only-of-type {\n",
       "        vertical-align: middle;\n",
       "    }\n",
       "\n",
       "    .dataframe tbody tr th {\n",
       "        vertical-align: top;\n",
       "    }\n",
       "\n",
       "    .dataframe thead th {\n",
       "        text-align: right;\n",
       "    }\n",
       "</style>\n",
       "<table border=\"1\" class=\"dataframe\">\n",
       "  <thead>\n",
       "    <tr style=\"text-align: right;\">\n",
       "      <th></th>\n",
       "      <th>year</th>\n",
       "      <th>robot_gear_compression_diff_1</th>\n",
       "      <th>sensor_robot_controller_index_2</th>\n",
       "      <th>robot_gear_compression_diff_3</th>\n",
       "      <th>robot_gear_compression_diff_4</th>\n",
       "      <th>sensor_robot_arm_right_1</th>\n",
       "      <th>robot_gear_compression_diff_6</th>\n",
       "      <th>robot_gear_compression_diff_7</th>\n",
       "      <th>robot_gear_compression_diff_8</th>\n",
       "      <th>robot_gear_compression_diff_9</th>\n",
       "      <th>...</th>\n",
       "      <th>sensor_robot_eye_laser_sensor_4</th>\n",
       "      <th>robot_probe_temperature_5</th>\n",
       "      <th>robot_probe_temperature_6</th>\n",
       "      <th>robot_probe_temperature_7</th>\n",
       "      <th>robot_probe_temperature_8</th>\n",
       "      <th>robot_probe_temperature_9</th>\n",
       "      <th>sensor_robot_eye_laser_range_1</th>\n",
       "      <th>sensor_robot_arm_left_4</th>\n",
       "      <th>sensor_robot_arm_left_2</th>\n",
       "      <th>gamma_ray</th>\n",
       "    </tr>\n",
       "  </thead>\n",
       "  <tbody>\n",
       "    <tr>\n",
       "      <th>0</th>\n",
       "      <td>2019</td>\n",
       "      <td>10.679910</td>\n",
       "      <td>15.091173</td>\n",
       "      <td>14.274428</td>\n",
       "      <td>-11.045572</td>\n",
       "      <td>-4.783722</td>\n",
       "      <td>8.581814</td>\n",
       "      <td>13.683193</td>\n",
       "      <td>5.829388</td>\n",
       "      <td>-46.055115</td>\n",
       "      <td>...</td>\n",
       "      <td>0.956559</td>\n",
       "      <td>-19.814141</td>\n",
       "      <td>-25.839817</td>\n",
       "      <td>0.970255</td>\n",
       "      <td>3.238174</td>\n",
       "      <td>1.817238</td>\n",
       "      <td>1.474627</td>\n",
       "      <td>-28.059812</td>\n",
       "      <td>15.631746</td>\n",
       "      <td>low</td>\n",
       "    </tr>\n",
       "    <tr>\n",
       "      <th>1</th>\n",
       "      <td>2020</td>\n",
       "      <td>10.611032</td>\n",
       "      <td>14.906948</td>\n",
       "      <td>13.773004</td>\n",
       "      <td>-11.169123</td>\n",
       "      <td>-6.077731</td>\n",
       "      <td>8.336961</td>\n",
       "      <td>13.633622</td>\n",
       "      <td>5.345224</td>\n",
       "      <td>-50.708744</td>\n",
       "      <td>...</td>\n",
       "      <td>0.385419</td>\n",
       "      <td>-0.198837</td>\n",
       "      <td>-7.075529</td>\n",
       "      <td>0.728076</td>\n",
       "      <td>3.004283</td>\n",
       "      <td>1.586136</td>\n",
       "      <td>1.281429</td>\n",
       "      <td>-27.609630</td>\n",
       "      <td>15.848169</td>\n",
       "      <td>low</td>\n",
       "    </tr>\n",
       "    <tr>\n",
       "      <th>2</th>\n",
       "      <td>2021</td>\n",
       "      <td>10.186666</td>\n",
       "      <td>14.807848</td>\n",
       "      <td>13.861197</td>\n",
       "      <td>-12.261832</td>\n",
       "      <td>-5.385449</td>\n",
       "      <td>8.208332</td>\n",
       "      <td>14.534426</td>\n",
       "      <td>5.352057</td>\n",
       "      <td>-53.471611</td>\n",
       "      <td>...</td>\n",
       "      <td>0.528241</td>\n",
       "      <td>0.142533</td>\n",
       "      <td>-4.374839</td>\n",
       "      <td>0.397508</td>\n",
       "      <td>3.050232</td>\n",
       "      <td>2.093176</td>\n",
       "      <td>1.791260</td>\n",
       "      <td>-25.408680</td>\n",
       "      <td>16.064592</td>\n",
       "      <td>low</td>\n",
       "    </tr>\n",
       "    <tr>\n",
       "      <th>3</th>\n",
       "      <td>2022</td>\n",
       "      <td>10.439354</td>\n",
       "      <td>14.780703</td>\n",
       "      <td>13.735109</td>\n",
       "      <td>-12.940010</td>\n",
       "      <td>-3.136724</td>\n",
       "      <td>8.093524</td>\n",
       "      <td>14.911227</td>\n",
       "      <td>7.367078</td>\n",
       "      <td>-42.954456</td>\n",
       "      <td>...</td>\n",
       "      <td>0.813811</td>\n",
       "      <td>-0.881582</td>\n",
       "      <td>-3.638186</td>\n",
       "      <td>2.683104</td>\n",
       "      <td>3.133879</td>\n",
       "      <td>1.799235</td>\n",
       "      <td>1.588151</td>\n",
       "      <td>-23.169179</td>\n",
       "      <td>16.281016</td>\n",
       "      <td>low</td>\n",
       "    </tr>\n",
       "    <tr>\n",
       "      <th>4</th>\n",
       "      <td>2023</td>\n",
       "      <td>10.537853</td>\n",
       "      <td>14.761712</td>\n",
       "      <td>14.112636</td>\n",
       "      <td>-11.648818</td>\n",
       "      <td>-1.120589</td>\n",
       "      <td>8.359302</td>\n",
       "      <td>14.660116</td>\n",
       "      <td>7.028476</td>\n",
       "      <td>-49.266612</td>\n",
       "      <td>...</td>\n",
       "      <td>0.385419</td>\n",
       "      <td>2.963216</td>\n",
       "      <td>-2.100919</td>\n",
       "      <td>0.409917</td>\n",
       "      <td>3.240069</td>\n",
       "      <td>1.315912</td>\n",
       "      <td>0.893747</td>\n",
       "      <td>-22.344542</td>\n",
       "      <td>16.497439</td>\n",
       "      <td>low</td>\n",
       "    </tr>\n",
       "  </tbody>\n",
       "</table>\n",
       "<p>5 rows × 145 columns</p>\n",
       "</div>"
      ],
      "text/plain": [
       "   year  robot_gear_compression_diff_1  sensor_robot_controller_index_2  \\\n",
       "0  2019                      10.679910                        15.091173   \n",
       "1  2020                      10.611032                        14.906948   \n",
       "2  2021                      10.186666                        14.807848   \n",
       "3  2022                      10.439354                        14.780703   \n",
       "4  2023                      10.537853                        14.761712   \n",
       "\n",
       "   robot_gear_compression_diff_3  robot_gear_compression_diff_4  \\\n",
       "0                      14.274428                     -11.045572   \n",
       "1                      13.773004                     -11.169123   \n",
       "2                      13.861197                     -12.261832   \n",
       "3                      13.735109                     -12.940010   \n",
       "4                      14.112636                     -11.648818   \n",
       "\n",
       "   sensor_robot_arm_right_1  robot_gear_compression_diff_6  \\\n",
       "0                 -4.783722                       8.581814   \n",
       "1                 -6.077731                       8.336961   \n",
       "2                 -5.385449                       8.208332   \n",
       "3                 -3.136724                       8.093524   \n",
       "4                 -1.120589                       8.359302   \n",
       "\n",
       "   robot_gear_compression_diff_7  robot_gear_compression_diff_8  \\\n",
       "0                      13.683193                       5.829388   \n",
       "1                      13.633622                       5.345224   \n",
       "2                      14.534426                       5.352057   \n",
       "3                      14.911227                       7.367078   \n",
       "4                      14.660116                       7.028476   \n",
       "\n",
       "   robot_gear_compression_diff_9    ...      sensor_robot_eye_laser_sensor_4  \\\n",
       "0                     -46.055115    ...                             0.956559   \n",
       "1                     -50.708744    ...                             0.385419   \n",
       "2                     -53.471611    ...                             0.528241   \n",
       "3                     -42.954456    ...                             0.813811   \n",
       "4                     -49.266612    ...                             0.385419   \n",
       "\n",
       "   robot_probe_temperature_5  robot_probe_temperature_6  \\\n",
       "0                 -19.814141                 -25.839817   \n",
       "1                  -0.198837                  -7.075529   \n",
       "2                   0.142533                  -4.374839   \n",
       "3                  -0.881582                  -3.638186   \n",
       "4                   2.963216                  -2.100919   \n",
       "\n",
       "   robot_probe_temperature_7  robot_probe_temperature_8  \\\n",
       "0                   0.970255                   3.238174   \n",
       "1                   0.728076                   3.004283   \n",
       "2                   0.397508                   3.050232   \n",
       "3                   2.683104                   3.133879   \n",
       "4                   0.409917                   3.240069   \n",
       "\n",
       "   robot_probe_temperature_9  sensor_robot_eye_laser_range_1  \\\n",
       "0                   1.817238                        1.474627   \n",
       "1                   1.586136                        1.281429   \n",
       "2                   2.093176                        1.791260   \n",
       "3                   1.799235                        1.588151   \n",
       "4                   1.315912                        0.893747   \n",
       "\n",
       "   sensor_robot_arm_left_4  sensor_robot_arm_left_2  gamma_ray  \n",
       "0               -28.059812                15.631746        low  \n",
       "1               -27.609630                15.848169        low  \n",
       "2               -25.408680                16.064592        low  \n",
       "3               -23.169179                16.281016        low  \n",
       "4               -22.344542                16.497439        low  \n",
       "\n",
       "[5 rows x 145 columns]"
      ]
     },
     "execution_count": 8,
     "metadata": {},
     "output_type": "execute_result"
    }
   ],
   "source": [
    "df = df.drop(['target'], axis=1)\n",
    "df.head()"
   ]
  },
  {
   "cell_type": "code",
   "execution_count": 9,
   "metadata": {},
   "outputs": [
    {
     "data": {
      "text/plain": [
       "moderate    1264\n",
       "high        1151\n",
       "low          848\n",
       "Name: gamma_ray, dtype: int64"
      ]
     },
     "execution_count": 9,
     "metadata": {},
     "output_type": "execute_result"
    }
   ],
   "source": [
    "df['gamma_ray'].value_counts()"
   ]
  },
  {
   "cell_type": "code",
   "execution_count": 10,
   "metadata": {},
   "outputs": [
    {
     "data": {
      "text/plain": [
       "2    1264\n",
       "3    1151\n",
       "1     848\n",
       "Name: gamma_ray, dtype: int64"
      ]
     },
     "execution_count": 10,
     "metadata": {},
     "output_type": "execute_result"
    }
   ],
   "source": [
    "d = {'low': 1, 'moderate': 2, 'high': 3, 'very high': 4}\n",
    "\n",
    "df = df.replace(d)\n",
    "df['gamma_ray'].value_counts()"
   ]
  },
  {
   "cell_type": "code",
   "execution_count": 11,
   "metadata": {
    "scrolled": true
   },
   "outputs": [
    {
     "data": {
      "image/png": "[encoded data removed]",
      "text/plain": [
       "<Figure size 432x288 with 1 Axes>"
      ]
     },
     "metadata": {
      "needs_background": "light"
     },
     "output_type": "display_data"
    }
   ],
   "source": [
    "plt.plot(df['year'], df['gamma_ray'], 'o');\n",
    "plt.title('Gamma ray');\n",
    "plt.xlabel('Years');\n",
    "plt.ylabel('Ray level');"
   ]
  },
  {
   "cell_type": "code",
   "execution_count": 12,
   "metadata": {},
   "outputs": [
    {
     "data": {
      "image/png": "[encoded data removed]",
      "text/plain": [
       "<Figure size 432x288 with 1 Axes>"
      ]
     },
     "metadata": {
      "needs_background": "light"
     },
     "output_type": "display_data"
    }
   ],
   "source": [
    "plt.plot(df['year'], target);\n",
    "plt.title('Targets by years');\n",
    "plt.xlabel('Years');\n",
    "plt.ylabel('Targets');"
   ]
  },
  {
   "cell_type": "markdown",
   "metadata": {},
   "source": [
    "____________________________\n",
    "\n",
    "### Линейная  регрессия (Linear Regression)"
   ]
  },
  {
   "cell_type": "code",
   "execution_count": 13,
   "metadata": {},
   "outputs": [],
   "source": [
    "from sklearn.linear_model import LinearRegression\n",
    "from sklearn import metrics\n",
    "from sklearn.model_selection import train_test_split"
   ]
  },
  {
   "cell_type": "code",
   "execution_count": 14,
   "metadata": {},
   "outputs": [
    {
     "data": {
      "text/plain": [
       "((3263, 144), (3263,))"
      ]
     },
     "execution_count": 14,
     "metadata": {},
     "output_type": "execute_result"
    }
   ],
   "source": [
    "X = df.drop(['robot_engine_circulation_6'], axis=1)\n",
    "Y = target\n",
    "\n",
    "X.shape, Y.shape"
   ]
  },
  {
   "cell_type": "code",
   "execution_count": 15,
   "metadata": {},
   "outputs": [],
   "source": [
    "test_size = 0.2\n",
    "X_train, X_test, Y_train, Y_test = train_test_split(X, Y, test_size=test_size, random_state=42)"
   ]
  },
  {
   "cell_type": "code",
   "execution_count": 16,
   "metadata": {},
   "outputs": [],
   "source": [
    "model_LR = LinearRegression(fit_intercept=False, normalize=True, n_jobs=-1)\n",
    "model_LR = model_LR.fit(X_train, Y_train)"
   ]
  },
  {
   "cell_type": "code",
   "execution_count": 17,
   "metadata": {},
   "outputs": [],
   "source": [
    "Z_train = model_LR.predict(X_train)\n",
    "Z_test = model_LR.predict(X_test)"
   ]
  },
  {
   "cell_type": "code",
   "execution_count": 18,
   "metadata": {},
   "outputs": [
    {
     "data": {
      "image/png": "[encoded data removed]",
      "text/plain": [
       "<Figure size 864x360 with 2 Axes>"
      ]
     },
     "metadata": {
      "needs_background": "light"
     },
     "output_type": "display_data"
    }
   ],
   "source": [
    "fig, (ax1, ax2) = plt.subplots(1,2, figsize=(12,5))\n",
    "\n",
    "ax1.plot(X_train['year'], Y_train, 'o');\n",
    "ax1.plot(X_train['year'], Z_train, 'o');\n",
    "ax1.set_title('Prediction on train dataset');\n",
    "ax1.set_xlabel('Years');\n",
    "ax1.set_ylabel('Targets');\n",
    "\n",
    "ax2.plot(X_test['year'], Y_test, 'o');\n",
    "ax2.plot(X_test['year'], Z_test, 'o');\n",
    "ax2.set_title('Testing prediction on train dataset');\n",
    "ax2.set_xlabel('Years');\n",
    "ax2.set_ylabel('Targets');\n",
    "\n",
    "plt.tight_layout()\n",
    "plt.show()"
   ]
  },
  {
   "cell_type": "code",
   "execution_count": 19,
   "metadata": {},
   "outputs": [
    {
     "data": {
      "text/plain": [
       "(-7.026247507183074, -8.65729716865966)"
      ]
     },
     "execution_count": 19,
     "metadata": {},
     "output_type": "execute_result"
    }
   ],
   "source": [
    "Y_test = np.array(Y_test)\n",
    "\n",
    "i = 0\n",
    "Y_test[i], Z_test[i]"
   ]
  },
  {
   "cell_type": "code",
   "execution_count": 20,
   "metadata": {},
   "outputs": [
    {
     "name": "stdout",
     "output_type": "stream",
     "text": [
      "R2 score: 0.9743\n"
     ]
    }
   ],
   "source": [
    "print('R2 score: %.4f' % model_LR.score(X_test, Y_test))"
   ]
  },
  {
   "cell_type": "markdown",
   "metadata": {},
   "source": [
    "____________________________\n",
    "\n",
    "### Случайный лес (Random Forest Regression)"
   ]
  },
  {
   "cell_type": "code",
   "execution_count": 21,
   "metadata": {},
   "outputs": [],
   "source": [
    "from sklearn.ensemble import RandomForestRegressor"
   ]
  },
  {
   "cell_type": "code",
   "execution_count": 22,
   "metadata": {},
   "outputs": [
    {
     "data": {
      "text/plain": [
       "((3263, 144), (3263,))"
      ]
     },
     "execution_count": 22,
     "metadata": {},
     "output_type": "execute_result"
    }
   ],
   "source": [
    "X = df.drop(['robot_engine_circulation_6'], axis=1)\n",
    "Y = target\n",
    "\n",
    "X.shape, Y.shape"
   ]
  },
  {
   "cell_type": "code",
   "execution_count": 23,
   "metadata": {},
   "outputs": [],
   "source": [
    "test_size = 0.2\n",
    "X_train, X_test, Y_train, Y_test = train_test_split(X, Y, test_size=test_size, random_state=42)"
   ]
  },
  {
   "cell_type": "code",
   "execution_count": 24,
   "metadata": {
    "scrolled": true
   },
   "outputs": [
    {
     "data": {
      "text/plain": [
       "RandomForestRegressor(bootstrap=True, criterion='mse', max_depth=None,\n",
       "           max_features='auto', max_leaf_nodes=None,\n",
       "           min_impurity_decrease=0.0, min_impurity_split=None,\n",
       "           min_samples_leaf=1, min_samples_split=2,\n",
       "           min_weight_fraction_leaf=0.0, n_estimators=442, n_jobs=-1,\n",
       "           oob_score=False, random_state=42, verbose=0, warm_start=False)"
      ]
     },
     "execution_count": 24,
     "metadata": {},
     "output_type": "execute_result"
    }
   ],
   "source": [
    "model_RFR = RandomForestRegressor(n_estimators=442, n_jobs=-1, random_state=42, verbose=0)\n",
    "model_RFR.fit(X_train, Y_train)"
   ]
  },
  {
   "cell_type": "code",
   "execution_count": 25,
   "metadata": {},
   "outputs": [
    {
     "name": "stdout",
     "output_type": "stream",
     "text": [
      "0.3502264634872063 2.7229389717449916e-06\n"
     ]
    }
   ],
   "source": [
    "print(max(model_RFR.feature_importances_), min(model_RFR.feature_importances_))"
   ]
  },
  {
   "cell_type": "code",
   "execution_count": 26,
   "metadata": {},
   "outputs": [],
   "source": [
    "Z_train = model_RFR.predict(X_train)\n",
    "Z_test = model_RFR.predict(X_test)"
   ]
  },
  {
   "cell_type": "code",
   "execution_count": 27,
   "metadata": {},
   "outputs": [
    {
     "data": {
      "image/png": "[encoded data removed]",
      "text/plain": [
       "<Figure size 864x360 with 2 Axes>"
      ]
     },
     "metadata": {
      "needs_background": "light"
     },
     "output_type": "display_data"
    }
   ],
   "source": [
    "fig, (ax1, ax2) = plt.subplots(1,2, figsize=(12,5))\n",
    "\n",
    "ax1.plot(X_train['year'], Y_train, 'o');\n",
    "ax1.plot(X_train['year'], Z_train, 'o');\n",
    "ax1.set_title('Prediction on train dataset');\n",
    "ax1.set_xlabel('Years');\n",
    "ax1.set_ylabel('Targets');\n",
    "\n",
    "ax2.plot(X_test['year'], Y_test, 'o');\n",
    "ax2.plot(X_test['year'], Z_test, 'o');\n",
    "ax2.set_title('Testing prediction on train dataset');\n",
    "ax2.set_xlabel('Years');\n",
    "ax2.set_ylabel('Targets');\n",
    "\n",
    "plt.tight_layout()\n",
    "plt.show()"
   ]
  },
  {
   "cell_type": "code",
   "execution_count": 28,
   "metadata": {},
   "outputs": [
    {
     "data": {
      "text/plain": [
       "(-7.026247507183074, -6.705691400211513)"
      ]
     },
     "execution_count": 28,
     "metadata": {},
     "output_type": "execute_result"
    }
   ],
   "source": [
    "Y_test = np.array(Y_test)\n",
    "\n",
    "i = 0\n",
    "Y_test[i], Z_test[i]"
   ]
  },
  {
   "cell_type": "code",
   "execution_count": 29,
   "metadata": {
    "scrolled": false
   },
   "outputs": [
    {
     "name": "stdout",
     "output_type": "stream",
     "text": [
      "R2 score: 0.9811\n"
     ]
    }
   ],
   "source": [
    "print('R2 score: %.4f' % model_RFR.score(X_test, Y_test))"
   ]
  },
  {
   "cell_type": "markdown",
   "metadata": {},
   "source": [
    "____________________________\n",
    "\n",
    "### Метод опорных векторов (Support Vector Regression)"
   ]
  },
  {
   "cell_type": "code",
   "execution_count": 30,
   "metadata": {},
   "outputs": [],
   "source": [
    "from sklearn import svm"
   ]
  },
  {
   "cell_type": "code",
   "execution_count": 31,
   "metadata": {},
   "outputs": [
    {
     "data": {
      "text/plain": [
       "((3263, 144), (3263,))"
      ]
     },
     "execution_count": 31,
     "metadata": {},
     "output_type": "execute_result"
    }
   ],
   "source": [
    "X = df.drop(['robot_engine_circulation_6'], axis=1)\n",
    "Y = target\n",
    "\n",
    "X.shape, Y.shape"
   ]
  },
  {
   "cell_type": "code",
   "execution_count": 32,
   "metadata": {},
   "outputs": [],
   "source": [
    "test_size = 0.2\n",
    "X_train, X_test, Y_train, Y_test = train_test_split(X, Y, test_size=test_size, random_state=42)"
   ]
  },
  {
   "cell_type": "code",
   "execution_count": 33,
   "metadata": {},
   "outputs": [],
   "source": [
    "model_SVR = svm.SVR(kernel='rbf', C=4000, epsilon=1.0, gamma=0.000001)\n",
    "# model_SVR = svm.SVR(kernel='linear', C=200, coef0=0.0, degree=6, epsilon=0.1,\n",
    "#                 gamma=0.1, max_iter=-1, shrinking=True, tol=0.000001)\n",
    "# model_SVR = svm.SVR(kernel='poly', C=100, gamma='auto', degree=3, epsilon=.1, coef0=1)\n",
    "model_SVR = model_SVR.fit(X_train, Y_train)"
   ]
  },
  {
   "cell_type": "code",
   "execution_count": 34,
   "metadata": {},
   "outputs": [],
   "source": [
    "Z_train = model_SVR.predict(X_train)\n",
    "Z_test = model_SVR.predict(X_test)"
   ]
  },
  {
   "cell_type": "code",
   "execution_count": 35,
   "metadata": {},
   "outputs": [
    {
     "data": {
      "image/png": "[encoded data removed]",
      "text/plain": [
       "<Figure size 864x360 with 2 Axes>"
      ]
     },
     "metadata": {
      "needs_background": "light"
     },
     "output_type": "display_data"
    }
   ],
   "source": [
    "fig, (ax1, ax2) = plt.subplots(1,2, figsize=(12,5))\n",
    "\n",
    "ax1.plot(X_train['year'], Y_train, 'o');\n",
    "ax1.plot(X_train['year'], Z_train, 'o');\n",
    "ax1.set_title('Prediction on train dataset');\n",
    "ax1.set_xlabel('Years');\n",
    "ax1.set_ylabel('Targets');\n",
    "\n",
    "ax2.plot(X_test['year'], Y_test, 'o');\n",
    "ax2.plot(X_test['year'], Z_test, 'o');\n",
    "ax2.set_title('Testing prediction on train dataset');\n",
    "ax2.set_xlabel('Years');\n",
    "ax2.set_ylabel('Targets');\n",
    "\n",
    "plt.tight_layout()\n",
    "plt.show()"
   ]
  },
  {
   "cell_type": "code",
   "execution_count": 36,
   "metadata": {},
   "outputs": [
    {
     "data": {
      "text/plain": [
       "(-7.026247507183074, -7.563042731207496)"
      ]
     },
     "execution_count": 36,
     "metadata": {},
     "output_type": "execute_result"
    }
   ],
   "source": [
    "Y_test = np.array(Y_test)\n",
    "\n",
    "i = 0\n",
    "Y_test[i], Z_test[i]"
   ]
  },
  {
   "cell_type": "code",
   "execution_count": 37,
   "metadata": {},
   "outputs": [
    {
     "name": "stdout",
     "output_type": "stream",
     "text": [
      "R2 score: 0.9792\n"
     ]
    }
   ],
   "source": [
    "print('R2 score: %.4f' % model_SVR.score(X_test, Y_test))"
   ]
  },
  {
   "cell_type": "markdown",
   "metadata": {},
   "source": [
    "____________________________\n",
    "\n",
    "### Предсказание на тестовых данных с помощью случайного леса (Random Forest Regressor)"
   ]
  },
  {
   "cell_type": "code",
   "execution_count": 38,
   "metadata": {
    "scrolled": true
   },
   "outputs": [
    {
     "data": {
      "text/html": [
       "<div>\n",
       "<style scoped>\n",
       "    .dataframe tbody tr th:only-of-type {\n",
       "        vertical-align: middle;\n",
       "    }\n",
       "\n",
       "    .dataframe tbody tr th {\n",
       "        vertical-align: top;\n",
       "    }\n",
       "\n",
       "    .dataframe thead th {\n",
       "        text-align: right;\n",
       "    }\n",
       "</style>\n",
       "<table border=\"1\" class=\"dataframe\">\n",
       "  <thead>\n",
       "    <tr style=\"text-align: right;\">\n",
       "      <th></th>\n",
       "      <th>year</th>\n",
       "      <th>robot_gear_compression_diff_1</th>\n",
       "      <th>sensor_robot_controller_index_2</th>\n",
       "      <th>robot_gear_compression_diff_3</th>\n",
       "      <th>robot_gear_compression_diff_4</th>\n",
       "      <th>sensor_robot_arm_right_1</th>\n",
       "      <th>robot_gear_compression_diff_6</th>\n",
       "      <th>robot_gear_compression_diff_7</th>\n",
       "      <th>robot_gear_compression_diff_8</th>\n",
       "      <th>robot_gear_compression_diff_9</th>\n",
       "      <th>...</th>\n",
       "      <th>robot_probe_temperature_5</th>\n",
       "      <th>robot_probe_temperature_6</th>\n",
       "      <th>robot_probe_temperature_7</th>\n",
       "      <th>robot_probe_temperature_8</th>\n",
       "      <th>robot_probe_temperature_9</th>\n",
       "      <th>sensor_robot_eye_laser_range_1</th>\n",
       "      <th>sensor_robot_arm_left_4</th>\n",
       "      <th>sensor_robot_arm_left_2</th>\n",
       "      <th>gamma_ray</th>\n",
       "      <th>target</th>\n",
       "    </tr>\n",
       "  </thead>\n",
       "  <tbody>\n",
       "    <tr>\n",
       "      <th>0</th>\n",
       "      <td>5282</td>\n",
       "      <td>-18.136584</td>\n",
       "      <td>-18.926809</td>\n",
       "      <td>-20.810190</td>\n",
       "      <td>-26.048782</td>\n",
       "      <td>-6.143792</td>\n",
       "      <td>-13.271357</td>\n",
       "      <td>-22.288341</td>\n",
       "      <td>-19.924976</td>\n",
       "      <td>-17.556931</td>\n",
       "      <td>...</td>\n",
       "      <td>4.094611</td>\n",
       "      <td>8.153749</td>\n",
       "      <td>2.556148</td>\n",
       "      <td>3.212842</td>\n",
       "      <td>1.454573</td>\n",
       "      <td>1.223251</td>\n",
       "      <td>15.791951</td>\n",
       "      <td>7.321099</td>\n",
       "      <td>high</td>\n",
       "      <td>NaN</td>\n",
       "    </tr>\n",
       "    <tr>\n",
       "      <th>1</th>\n",
       "      <td>5283</td>\n",
       "      <td>-20.960127</td>\n",
       "      <td>-22.085946</td>\n",
       "      <td>-26.493563</td>\n",
       "      <td>-46.317078</td>\n",
       "      <td>-16.710923</td>\n",
       "      <td>-15.651756</td>\n",
       "      <td>-26.447869</td>\n",
       "      <td>-22.773740</td>\n",
       "      <td>-31.982001</td>\n",
       "      <td>...</td>\n",
       "      <td>6.222215</td>\n",
       "      <td>7.277908</td>\n",
       "      <td>0.930479</td>\n",
       "      <td>3.236609</td>\n",
       "      <td>0.868422</td>\n",
       "      <td>0.855648</td>\n",
       "      <td>18.934608</td>\n",
       "      <td>7.710661</td>\n",
       "      <td>high</td>\n",
       "      <td>NaN</td>\n",
       "    </tr>\n",
       "    <tr>\n",
       "      <th>2</th>\n",
       "      <td>5284</td>\n",
       "      <td>-22.938643</td>\n",
       "      <td>-23.746999</td>\n",
       "      <td>-28.380429</td>\n",
       "      <td>-54.863228</td>\n",
       "      <td>-19.916516</td>\n",
       "      <td>-17.705687</td>\n",
       "      <td>-30.146180</td>\n",
       "      <td>-25.755859</td>\n",
       "      <td>-29.190648</td>\n",
       "      <td>...</td>\n",
       "      <td>7.060357</td>\n",
       "      <td>6.581929</td>\n",
       "      <td>1.667303</td>\n",
       "      <td>3.092737</td>\n",
       "      <td>1.268653</td>\n",
       "      <td>1.206389</td>\n",
       "      <td>19.788746</td>\n",
       "      <td>8.100223</td>\n",
       "      <td>high</td>\n",
       "      <td>NaN</td>\n",
       "    </tr>\n",
       "    <tr>\n",
       "      <th>3</th>\n",
       "      <td>5285</td>\n",
       "      <td>-22.790936</td>\n",
       "      <td>-23.812049</td>\n",
       "      <td>-28.283436</td>\n",
       "      <td>-56.067944</td>\n",
       "      <td>-19.997358</td>\n",
       "      <td>-18.777231</td>\n",
       "      <td>-32.326135</td>\n",
       "      <td>-27.382583</td>\n",
       "      <td>-18.938983</td>\n",
       "      <td>...</td>\n",
       "      <td>8.559168</td>\n",
       "      <td>6.337333</td>\n",
       "      <td>-0.854167</td>\n",
       "      <td>3.055166</td>\n",
       "      <td>2.466574</td>\n",
       "      <td>1.559834</td>\n",
       "      <td>20.566138</td>\n",
       "      <td>8.489784</td>\n",
       "      <td>high</td>\n",
       "      <td>NaN</td>\n",
       "    </tr>\n",
       "    <tr>\n",
       "      <th>4</th>\n",
       "      <td>5286</td>\n",
       "      <td>-23.167947</td>\n",
       "      <td>-24.002717</td>\n",
       "      <td>-29.013752</td>\n",
       "      <td>-57.311637</td>\n",
       "      <td>-17.371633</td>\n",
       "      <td>-18.488637</td>\n",
       "      <td>-31.337333</td>\n",
       "      <td>-25.640987</td>\n",
       "      <td>-13.643481</td>\n",
       "      <td>...</td>\n",
       "      <td>9.107129</td>\n",
       "      <td>6.635497</td>\n",
       "      <td>2.712196</td>\n",
       "      <td>3.124018</td>\n",
       "      <td>1.860862</td>\n",
       "      <td>1.660488</td>\n",
       "      <td>20.666446</td>\n",
       "      <td>8.879346</td>\n",
       "      <td>high</td>\n",
       "      <td>NaN</td>\n",
       "    </tr>\n",
       "  </tbody>\n",
       "</table>\n",
       "<p>5 rows × 146 columns</p>\n",
       "</div>"
      ],
      "text/plain": [
       "   year  robot_gear_compression_diff_1  sensor_robot_controller_index_2  \\\n",
       "0  5282                     -18.136584                       -18.926809   \n",
       "1  5283                     -20.960127                       -22.085946   \n",
       "2  5284                     -22.938643                       -23.746999   \n",
       "3  5285                     -22.790936                       -23.812049   \n",
       "4  5286                     -23.167947                       -24.002717   \n",
       "\n",
       "   robot_gear_compression_diff_3  robot_gear_compression_diff_4  \\\n",
       "0                     -20.810190                     -26.048782   \n",
       "1                     -26.493563                     -46.317078   \n",
       "2                     -28.380429                     -54.863228   \n",
       "3                     -28.283436                     -56.067944   \n",
       "4                     -29.013752                     -57.311637   \n",
       "\n",
       "   sensor_robot_arm_right_1  robot_gear_compression_diff_6  \\\n",
       "0                 -6.143792                     -13.271357   \n",
       "1                -16.710923                     -15.651756   \n",
       "2                -19.916516                     -17.705687   \n",
       "3                -19.997358                     -18.777231   \n",
       "4                -17.371633                     -18.488637   \n",
       "\n",
       "   robot_gear_compression_diff_7  robot_gear_compression_diff_8  \\\n",
       "0                     -22.288341                     -19.924976   \n",
       "1                     -26.447869                     -22.773740   \n",
       "2                     -30.146180                     -25.755859   \n",
       "3                     -32.326135                     -27.382583   \n",
       "4                     -31.337333                     -25.640987   \n",
       "\n",
       "   robot_gear_compression_diff_9   ...    robot_probe_temperature_5  \\\n",
       "0                     -17.556931   ...                     4.094611   \n",
       "1                     -31.982001   ...                     6.222215   \n",
       "2                     -29.190648   ...                     7.060357   \n",
       "3                     -18.938983   ...                     8.559168   \n",
       "4                     -13.643481   ...                     9.107129   \n",
       "\n",
       "   robot_probe_temperature_6  robot_probe_temperature_7  \\\n",
       "0                   8.153749                   2.556148   \n",
       "1                   7.277908                   0.930479   \n",
       "2                   6.581929                   1.667303   \n",
       "3                   6.337333                  -0.854167   \n",
       "4                   6.635497                   2.712196   \n",
       "\n",
       "   robot_probe_temperature_8  robot_probe_temperature_9  \\\n",
       "0                   3.212842                   1.454573   \n",
       "1                   3.236609                   0.868422   \n",
       "2                   3.092737                   1.268653   \n",
       "3                   3.055166                   2.466574   \n",
       "4                   3.124018                   1.860862   \n",
       "\n",
       "   sensor_robot_eye_laser_range_1  sensor_robot_arm_left_4  \\\n",
       "0                        1.223251                15.791951   \n",
       "1                        0.855648                18.934608   \n",
       "2                        1.206389                19.788746   \n",
       "3                        1.559834                20.566138   \n",
       "4                        1.660488                20.666446   \n",
       "\n",
       "   sensor_robot_arm_left_2  gamma_ray  target  \n",
       "0                 7.321099       high     NaN  \n",
       "1                 7.710661       high     NaN  \n",
       "2                 8.100223       high     NaN  \n",
       "3                 8.489784       high     NaN  \n",
       "4                 8.879346       high     NaN  \n",
       "\n",
       "[5 rows x 146 columns]"
      ]
     },
     "execution_count": 38,
     "metadata": {},
     "output_type": "execute_result"
    }
   ],
   "source": [
    "df_test = pd.read_csv('data/robot_data/test_data.csv')\n",
    "df_test.head()"
   ]
  },
  {
   "cell_type": "code",
   "execution_count": 39,
   "metadata": {
    "scrolled": true
   },
   "outputs": [
    {
     "data": {
      "text/plain": [
       "very high    894\n",
       "high         106\n",
       "Name: gamma_ray, dtype: int64"
      ]
     },
     "execution_count": 39,
     "metadata": {},
     "output_type": "execute_result"
    }
   ],
   "source": [
    "df_test['gamma_ray'].value_counts()"
   ]
  },
  {
   "cell_type": "code",
   "execution_count": 40,
   "metadata": {},
   "outputs": [
    {
     "data": {
      "text/plain": [
       "4    894\n",
       "3    106\n",
       "Name: gamma_ray, dtype: int64"
      ]
     },
     "execution_count": 40,
     "metadata": {},
     "output_type": "execute_result"
    }
   ],
   "source": [
    "d = {'low': 1, 'moderate': 2, 'high': 3, 'very high': 4}\n",
    "\n",
    "df_test = df_test.replace(d)\n",
    "df_test['gamma_ray'].value_counts()"
   ]
  },
  {
   "cell_type": "code",
   "execution_count": 41,
   "metadata": {},
   "outputs": [
    {
     "data": {
      "image/png": "[encoded data removed]",
      "text/plain": [
       "<Figure size 432x288 with 1 Axes>"
      ]
     },
     "metadata": {
      "needs_background": "light"
     },
     "output_type": "display_data"
    }
   ],
   "source": [
    "plt.plot(df_test['year'], df_test['gamma_ray'], 'o');\n",
    "plt.title('Gamma ray');\n",
    "plt.xlabel('Years');\n",
    "plt.ylabel('Ray level');"
   ]
  },
  {
   "cell_type": "code",
   "execution_count": 42,
   "metadata": {},
   "outputs": [
    {
     "data": {
      "text/plain": [
       "(1000, 144)"
      ]
     },
     "execution_count": 42,
     "metadata": {},
     "output_type": "execute_result"
    }
   ],
   "source": [
    "df_test = df_test.drop(['robot_engine_circulation_6', 'target'], axis=1)\n",
    "\n",
    "df_test.shape"
   ]
  },
  {
   "cell_type": "code",
   "execution_count": 43,
   "metadata": {},
   "outputs": [
    {
     "data": {
      "text/plain": [
       "array([-13.95960096, -15.38971998, -19.8081834 , -20.74700651,\n",
       "       -20.57691046])"
      ]
     },
     "execution_count": 43,
     "metadata": {},
     "output_type": "execute_result"
    }
   ],
   "source": [
    "X_aim_test = df_test\n",
    "Z_aim_test = model_RFR.predict(X_aim_test)\n",
    "\n",
    "Z_aim_test[:5]"
   ]
  },
  {
   "cell_type": "code",
   "execution_count": 44,
   "metadata": {
    "scrolled": true
   },
   "outputs": [
    {
     "data": {
      "image/png": "[encoded data removed]",
      "text/plain": [
       "<Figure size 864x360 with 2 Axes>"
      ]
     },
     "metadata": {
      "needs_background": "light"
     },
     "output_type": "display_data"
    }
   ],
   "source": [
    "x_all = pd.concat([df['year'], df_test['year']], axis=0)\n",
    "y_all = np.hstack((Y, Z_aim_test))\n",
    "\n",
    "fig, (ax1, ax2) = plt.subplots(1,2, figsize=(12,5))\n",
    "\n",
    "ax1.plot(X_aim_test['year'], Z_aim_test)\n",
    "ax1.set_title('Prediction on test dataset');\n",
    "ax1.set_xlabel('Years');\n",
    "ax1.set_ylabel('Targets');\n",
    "\n",
    "ax2.plot(x_all, y_all);\n",
    "ax2.set_title('All targets with prediction by years');\n",
    "ax2.set_xlabel('Years');\n",
    "ax2.set_ylabel('Targets');\n",
    "\n",
    "plt.tight_layout()\n",
    "plt.show()"
   ]
  },
  {
   "cell_type": "code",
   "execution_count": 45,
   "metadata": {
    "scrolled": true
   },
   "outputs": [
    {
     "data": {
      "text/html": [
       "<div>\n",
       "<style scoped>\n",
       "    .dataframe tbody tr th:only-of-type {\n",
       "        vertical-align: middle;\n",
       "    }\n",
       "\n",
       "    .dataframe tbody tr th {\n",
       "        vertical-align: top;\n",
       "    }\n",
       "\n",
       "    .dataframe thead th {\n",
       "        text-align: right;\n",
       "    }\n",
       "</style>\n",
       "<table border=\"1\" class=\"dataframe\">\n",
       "  <thead>\n",
       "    <tr style=\"text-align: right;\">\n",
       "      <th></th>\n",
       "      <th>year</th>\n",
       "      <th>target</th>\n",
       "    </tr>\n",
       "  </thead>\n",
       "  <tbody>\n",
       "    <tr>\n",
       "      <th>0</th>\n",
       "      <td>5282</td>\n",
       "      <td>-13.959601</td>\n",
       "    </tr>\n",
       "    <tr>\n",
       "      <th>1</th>\n",
       "      <td>5283</td>\n",
       "      <td>-15.389720</td>\n",
       "    </tr>\n",
       "    <tr>\n",
       "      <th>2</th>\n",
       "      <td>5284</td>\n",
       "      <td>-19.808183</td>\n",
       "    </tr>\n",
       "    <tr>\n",
       "      <th>3</th>\n",
       "      <td>5285</td>\n",
       "      <td>-20.747007</td>\n",
       "    </tr>\n",
       "    <tr>\n",
       "      <th>4</th>\n",
       "      <td>5286</td>\n",
       "      <td>-20.576910</td>\n",
       "    </tr>\n",
       "  </tbody>\n",
       "</table>\n",
       "</div>"
      ],
      "text/plain": [
       "   year     target\n",
       "0  5282 -13.959601\n",
       "1  5283 -15.389720\n",
       "2  5284 -19.808183\n",
       "3  5285 -20.747007\n",
       "4  5286 -20.576910"
      ]
     },
     "execution_count": 45,
     "metadata": {},
     "output_type": "execute_result"
    }
   ],
   "source": [
    "solve = pd.DataFrame(df_test['year'])\n",
    "solve['target'] = Z_aim_test\n",
    "solve.head()"
   ]
  },
  {
   "cell_type": "code",
   "execution_count": 46,
   "metadata": {},
   "outputs": [],
   "source": [
    "solve.to_csv('solve_RFR.csv', index=False, header=1)"
   ]
  },
  {
   "cell_type": "markdown",
   "metadata": {},
   "source": [
    " "
   ]
  },
  {
   "cell_type": "markdown",
   "metadata": {},
   "source": [
    "____________________________\n",
    "\n",
    "### Нейронные сети (Regression-based neural network)"
   ]
  },
  {
   "cell_type": "code",
   "execution_count": 47,
   "metadata": {},
   "outputs": [
    {
     "name": "stderr",
     "output_type": "stream",
     "text": [
      "Using TensorFlow backend.\n"
     ]
    }
   ],
   "source": [
    "from keras.models import Sequential\n",
    "from keras.layers.core import Dense, Activation, Dropout\n",
    "from keras.layers.normalization import BatchNormalization\n",
    "from keras.callbacks import ModelCheckpoint, ReduceLROnPlateau, CSVLogger, EarlyStopping\n",
    "from keras.layers.advanced_activations import *\n",
    "from keras.optimizers import RMSprop, Adam, SGD, Nadam\n",
    "from keras.utils import np_utils\n",
    "from sklearn.preprocessing import MinMaxScaler"
   ]
  },
  {
   "cell_type": "code",
   "execution_count": 48,
   "metadata": {},
   "outputs": [
    {
     "data": {
      "text/plain": [
       "((3263, 144), (3263,))"
      ]
     },
     "execution_count": 48,
     "metadata": {},
     "output_type": "execute_result"
    }
   ],
   "source": [
    "X = df.drop(['robot_engine_circulation_6'], axis=1)\n",
    "Y = target\n",
    "\n",
    "X.shape, Y.shape"
   ]
  },
  {
   "cell_type": "code",
   "execution_count": 49,
   "metadata": {},
   "outputs": [],
   "source": [
    "#Y = np.reshape(np.array(Y), (-1,1))\n",
    "\n",
    "#scaler = MinMaxScaler()\n",
    "\n",
    "#print(scaler.fit(X))\n",
    "#print(scaler.fit(Y))\n",
    "#Xscale = scaler.transform(X)\n",
    "#Yscale = scaler.transform(Y)\n",
    "\n",
    "#test_size = 0.2\n",
    "#X_train, X_test, Y_train, Y_test = train_test_split(Xscale, Yscale, test_size=test_size, random_state=42)"
   ]
  },
  {
   "cell_type": "code",
   "execution_count": 50,
   "metadata": {},
   "outputs": [],
   "source": [
    "test_size = 0.2\n",
    "X_train, X_test, Y_train, Y_test = train_test_split(X, Y, test_size=test_size, random_state=42)"
   ]
  },
  {
   "cell_type": "code",
   "execution_count": 55,
   "metadata": {},
   "outputs": [
    {
     "name": "stdout",
     "output_type": "stream",
     "text": [
      "_________________________________________________________________\n",
      "Layer (type)                 Output Shape              Param #   \n",
      "=================================================================\n",
      "dense_1 (Dense)              (None, 144)               20880     \n",
      "_________________________________________________________________\n",
      "dense_2 (Dense)              (None, 256)               37120     \n",
      "_________________________________________________________________\n",
      "dense_3 (Dense)              (None, 128)               32896     \n",
      "_________________________________________________________________\n",
      "dense_4 (Dense)              (None, 64)                8256      \n",
      "_________________________________________________________________\n",
      "dense_5 (Dense)              (None, 1)                 65        \n",
      "=================================================================\n",
      "Total params: 99,217\n",
      "Trainable params: 99,217\n",
      "Non-trainable params: 0\n",
      "_________________________________________________________________\n"
     ]
    }
   ],
   "source": [
    "model_NN = Sequential()\n",
    "\n",
    "model_NN.add(Dense(144, input_dim=144, kernel_initializer='random_uniform', activation='relu'))\n",
    "model_NN.add(Dense(256, kernel_initializer='random_uniform', activation='relu'))\n",
    "model_NN.add(Dense(128, kernel_initializer='random_uniform', activation='relu'))\n",
    "model_NN.add(Dense(64, kernel_initializer='random_uniform', activation='relu'))\n",
    "model_NN.add(Dense(1, kernel_initializer='random_uniform', activation='linear'))\n",
    "model_NN.summary()\n",
    "\n",
    "model_NN.compile(loss='mae', optimizer='adam', metrics=['mae', 'mse'])"
   ]
  },
  {
   "cell_type": "code",
   "execution_count": 56,
   "metadata": {},
   "outputs": [
    {
     "name": "stdout",
     "output_type": "stream",
     "text": [
      "Train on 2610 samples, validate on 653 samples\n",
      "Epoch 1/300\n",
      " - 2s - loss: 5.2241 - mean_absolute_error: 5.2241 - mean_squared_error: 137.1575 - val_loss: 3.4573 - val_mean_absolute_error: 3.4573 - val_mean_squared_error: 47.3321\n",
      "Epoch 2/300\n",
      " - 0s - loss: 2.7696 - mean_absolute_error: 2.7696 - mean_squared_error: 43.6913 - val_loss: 2.3582 - val_mean_absolute_error: 2.3582 - val_mean_squared_error: 34.6289\n",
      "Epoch 3/300\n",
      " - 0s - loss: 2.6602 - mean_absolute_error: 2.6602 - mean_squared_error: 35.1826 - val_loss: 3.0634 - val_mean_absolute_error: 3.0634 - val_mean_squared_error: 28.8235\n",
      "Epoch 4/300\n",
      " - 0s - loss: 2.4842 - mean_absolute_error: 2.4842 - mean_squared_error: 36.3248 - val_loss: 1.8956 - val_mean_absolute_error: 1.8956 - val_mean_squared_error: 20.2283\n",
      "Epoch 5/300\n",
      " - 0s - loss: 2.4580 - mean_absolute_error: 2.4580 - mean_squared_error: 34.5354 - val_loss: 1.8443 - val_mean_absolute_error: 1.8443 - val_mean_squared_error: 16.9961\n",
      "Epoch 6/300\n",
      " - 0s - loss: 2.2553 - mean_absolute_error: 2.2553 - mean_squared_error: 27.7551 - val_loss: 1.8714 - val_mean_absolute_error: 1.8714 - val_mean_squared_error: 17.3522\n",
      "Epoch 7/300\n",
      " - 0s - loss: 2.1820 - mean_absolute_error: 2.1820 - mean_squared_error: 26.7087 - val_loss: 2.5447 - val_mean_absolute_error: 2.5447 - val_mean_squared_error: 31.6771\n",
      "Epoch 8/300\n",
      " - 0s - loss: 2.1907 - mean_absolute_error: 2.1907 - mean_squared_error: 30.4534 - val_loss: 2.0394 - val_mean_absolute_error: 2.0394 - val_mean_squared_error: 15.8499\n",
      "Epoch 9/300\n",
      " - 0s - loss: 2.1360 - mean_absolute_error: 2.1360 - mean_squared_error: 27.9616 - val_loss: 1.9544 - val_mean_absolute_error: 1.9544 - val_mean_squared_error: 15.4813\n",
      "Epoch 10/300\n",
      " - 0s - loss: 2.0393 - mean_absolute_error: 2.0393 - mean_squared_error: 25.7857 - val_loss: 1.6667 - val_mean_absolute_error: 1.6667 - val_mean_squared_error: 15.5861\n",
      "Epoch 11/300\n",
      " - 0s - loss: 2.1726 - mean_absolute_error: 2.1726 - mean_squared_error: 26.3487 - val_loss: 2.1563 - val_mean_absolute_error: 2.1563 - val_mean_squared_error: 20.3904\n",
      "Epoch 12/300\n",
      " - 0s - loss: 2.0766 - mean_absolute_error: 2.0766 - mean_squared_error: 28.3103 - val_loss: 1.6415 - val_mean_absolute_error: 1.6415 - val_mean_squared_error: 15.3833\n",
      "Epoch 13/300\n",
      " - 0s - loss: 1.9588 - mean_absolute_error: 1.9588 - mean_squared_error: 24.8094 - val_loss: 1.5787 - val_mean_absolute_error: 1.5787 - val_mean_squared_error: 14.5047\n",
      "Epoch 14/300\n",
      " - 0s - loss: 1.9300 - mean_absolute_error: 1.9300 - mean_squared_error: 26.2431 - val_loss: 1.6136 - val_mean_absolute_error: 1.6136 - val_mean_squared_error: 14.4133\n",
      "Epoch 15/300\n",
      " - 0s - loss: 2.1587 - mean_absolute_error: 2.1587 - mean_squared_error: 36.1245 - val_loss: 1.5370 - val_mean_absolute_error: 1.5370 - val_mean_squared_error: 14.8358\n",
      "Epoch 16/300\n",
      " - 0s - loss: 1.7576 - mean_absolute_error: 1.7576 - mean_squared_error: 22.7478 - val_loss: 1.5061 - val_mean_absolute_error: 1.5061 - val_mean_squared_error: 14.2995\n",
      "Epoch 17/300\n",
      " - 0s - loss: 1.7590 - mean_absolute_error: 1.7590 - mean_squared_error: 23.7950 - val_loss: 1.6924 - val_mean_absolute_error: 1.6924 - val_mean_squared_error: 13.6642\n",
      "Epoch 18/300\n",
      " - 0s - loss: 1.9227 - mean_absolute_error: 1.9227 - mean_squared_error: 24.4582 - val_loss: 1.5425 - val_mean_absolute_error: 1.5425 - val_mean_squared_error: 13.6648\n",
      "Epoch 19/300\n",
      " - 0s - loss: 1.9487 - mean_absolute_error: 1.9487 - mean_squared_error: 25.8724 - val_loss: 1.8200 - val_mean_absolute_error: 1.8200 - val_mean_squared_error: 19.2521\n",
      "Epoch 20/300\n",
      " - 0s - loss: 1.8731 - mean_absolute_error: 1.8731 - mean_squared_error: 25.3435 - val_loss: 1.5711 - val_mean_absolute_error: 1.5711 - val_mean_squared_error: 14.3027\n",
      "Epoch 21/300\n",
      " - 0s - loss: 1.7703 - mean_absolute_error: 1.7703 - mean_squared_error: 22.8904 - val_loss: 1.6588 - val_mean_absolute_error: 1.6588 - val_mean_squared_error: 16.6234\n",
      "Epoch 22/300\n",
      " - 0s - loss: 1.7187 - mean_absolute_error: 1.7187 - mean_squared_error: 23.0551 - val_loss: 1.8199 - val_mean_absolute_error: 1.8199 - val_mean_squared_error: 14.3357\n",
      "Epoch 23/300\n",
      " - 0s - loss: 1.7336 - mean_absolute_error: 1.7336 - mean_squared_error: 22.5292 - val_loss: 2.3475 - val_mean_absolute_error: 2.3475 - val_mean_squared_error: 33.9146\n",
      "Epoch 24/300\n",
      " - 0s - loss: 1.7434 - mean_absolute_error: 1.7434 - mean_squared_error: 22.8349 - val_loss: 1.9508 - val_mean_absolute_error: 1.9508 - val_mean_squared_error: 18.9299\n",
      "Epoch 25/300\n",
      " - 0s - loss: 1.8621 - mean_absolute_error: 1.8621 - mean_squared_error: 24.2421 - val_loss: 1.7197 - val_mean_absolute_error: 1.7197 - val_mean_squared_error: 18.0986\n",
      "Epoch 26/300\n",
      " - 0s - loss: 1.8569 - mean_absolute_error: 1.8569 - mean_squared_error: 25.5650 - val_loss: 1.5053 - val_mean_absolute_error: 1.5053 - val_mean_squared_error: 12.8035\n",
      "Epoch 27/300\n",
      " - 0s - loss: 1.7431 - mean_absolute_error: 1.7431 - mean_squared_error: 23.2312 - val_loss: 1.6033 - val_mean_absolute_error: 1.6033 - val_mean_squared_error: 12.7576\n",
      "Epoch 28/300\n",
      " - 0s - loss: 1.6673 - mean_absolute_error: 1.6673 - mean_squared_error: 21.7033 - val_loss: 1.5784 - val_mean_absolute_error: 1.5784 - val_mean_squared_error: 16.9551\n",
      "Epoch 29/300\n",
      " - 0s - loss: 1.7564 - mean_absolute_error: 1.7564 - mean_squared_error: 23.5339 - val_loss: 1.6150 - val_mean_absolute_error: 1.6150 - val_mean_squared_error: 13.1205\n",
      "Epoch 30/300\n",
      " - 0s - loss: 1.6635 - mean_absolute_error: 1.6635 - mean_squared_error: 22.1785 - val_loss: 1.6684 - val_mean_absolute_error: 1.6684 - val_mean_squared_error: 16.3435\n",
      "Epoch 31/300\n",
      " - 0s - loss: 1.6349 - mean_absolute_error: 1.6349 - mean_squared_error: 21.1111 - val_loss: 1.6338 - val_mean_absolute_error: 1.6338 - val_mean_squared_error: 14.8202\n",
      "Epoch 32/300\n",
      " - 0s - loss: 1.6891 - mean_absolute_error: 1.6891 - mean_squared_error: 21.3851 - val_loss: 1.6853 - val_mean_absolute_error: 1.6853 - val_mean_squared_error: 14.7222\n",
      "Epoch 33/300\n",
      " - 0s - loss: 1.7178 - mean_absolute_error: 1.7178 - mean_squared_error: 23.7189 - val_loss: 1.6803 - val_mean_absolute_error: 1.6803 - val_mean_squared_error: 13.7618\n",
      "Epoch 34/300\n",
      " - 0s - loss: 1.6970 - mean_absolute_error: 1.6970 - mean_squared_error: 23.7850 - val_loss: 1.4724 - val_mean_absolute_error: 1.4724 - val_mean_squared_error: 12.8261\n",
      "Epoch 35/300\n",
      " - 0s - loss: 1.6645 - mean_absolute_error: 1.6645 - mean_squared_error: 22.9586 - val_loss: 1.4027 - val_mean_absolute_error: 1.4027 - val_mean_squared_error: 11.9773\n",
      "Epoch 36/300\n",
      " - 0s - loss: 1.6199 - mean_absolute_error: 1.6199 - mean_squared_error: 20.9427 - val_loss: 1.5745 - val_mean_absolute_error: 1.5745 - val_mean_squared_error: 13.0702\n",
      "Epoch 37/300\n",
      " - 0s - loss: 1.6196 - mean_absolute_error: 1.6196 - mean_squared_error: 20.6070 - val_loss: 1.5721 - val_mean_absolute_error: 1.5721 - val_mean_squared_error: 12.8092\n",
      "Epoch 38/300\n",
      " - 0s - loss: 1.6064 - mean_absolute_error: 1.6064 - mean_squared_error: 22.1040 - val_loss: 1.8516 - val_mean_absolute_error: 1.8516 - val_mean_squared_error: 15.2564\n",
      "Epoch 39/300\n",
      " - 0s - loss: 1.7240 - mean_absolute_error: 1.7240 - mean_squared_error: 22.7193 - val_loss: 1.4589 - val_mean_absolute_error: 1.4589 - val_mean_squared_error: 12.6538\n",
      "Epoch 40/300\n",
      " - 0s - loss: 1.5867 - mean_absolute_error: 1.5867 - mean_squared_error: 22.0023 - val_loss: 1.8090 - val_mean_absolute_error: 1.8090 - val_mean_squared_error: 13.1058\n",
      "Epoch 41/300\n",
      " - 0s - loss: 1.6123 - mean_absolute_error: 1.6123 - mean_squared_error: 21.1417 - val_loss: 1.4869 - val_mean_absolute_error: 1.4869 - val_mean_squared_error: 15.6750\n",
      "Epoch 42/300\n",
      " - 0s - loss: 1.5494 - mean_absolute_error: 1.5494 - mean_squared_error: 19.1966 - val_loss: 1.6039 - val_mean_absolute_error: 1.6039 - val_mean_squared_error: 15.2110\n",
      "Epoch 43/300\n",
      " - 0s - loss: 1.5744 - mean_absolute_error: 1.5744 - mean_squared_error: 20.4842 - val_loss: 1.4780 - val_mean_absolute_error: 1.4780 - val_mean_squared_error: 11.5889\n",
      "Epoch 44/300\n",
      " - 0s - loss: 1.5090 - mean_absolute_error: 1.5090 - mean_squared_error: 20.2016 - val_loss: 1.6184 - val_mean_absolute_error: 1.6184 - val_mean_squared_error: 13.7725\n",
      "Epoch 45/300\n",
      " - 0s - loss: 1.4719 - mean_absolute_error: 1.4719 - mean_squared_error: 19.0753 - val_loss: 1.5260 - val_mean_absolute_error: 1.5260 - val_mean_squared_error: 13.3155\n",
      "Epoch 46/300\n"
     ]
    },
    {
     "name": "stdout",
     "output_type": "stream",
     "text": [
      " - 0s - loss: 1.4601 - mean_absolute_error: 1.4601 - mean_squared_error: 19.3613 - val_loss: 1.3589 - val_mean_absolute_error: 1.3589 - val_mean_squared_error: 10.5516\n",
      "Epoch 47/300\n",
      " - 0s - loss: 1.4491 - mean_absolute_error: 1.4491 - mean_squared_error: 19.1592 - val_loss: 1.3787 - val_mean_absolute_error: 1.3787 - val_mean_squared_error: 10.8918\n",
      "Epoch 48/300\n",
      " - 0s - loss: 1.4469 - mean_absolute_error: 1.4469 - mean_squared_error: 18.5488 - val_loss: 1.4690 - val_mean_absolute_error: 1.4690 - val_mean_squared_error: 11.0474\n",
      "Epoch 49/300\n",
      " - 0s - loss: 1.5792 - mean_absolute_error: 1.5792 - mean_squared_error: 20.1061 - val_loss: 1.3879 - val_mean_absolute_error: 1.3879 - val_mean_squared_error: 10.7743\n",
      "Epoch 50/300\n",
      " - 0s - loss: 1.4861 - mean_absolute_error: 1.4861 - mean_squared_error: 18.8726 - val_loss: 1.6168 - val_mean_absolute_error: 1.6168 - val_mean_squared_error: 17.5033\n",
      "Epoch 51/300\n",
      " - 0s - loss: 1.3886 - mean_absolute_error: 1.3886 - mean_squared_error: 18.4752 - val_loss: 1.5533 - val_mean_absolute_error: 1.5533 - val_mean_squared_error: 12.6193\n",
      "Epoch 52/300\n",
      " - 0s - loss: 1.5061 - mean_absolute_error: 1.5061 - mean_squared_error: 19.2697 - val_loss: 1.5521 - val_mean_absolute_error: 1.5521 - val_mean_squared_error: 13.0324\n",
      "Epoch 53/300\n",
      " - 0s - loss: 1.4488 - mean_absolute_error: 1.4488 - mean_squared_error: 18.2504 - val_loss: 1.3769 - val_mean_absolute_error: 1.3769 - val_mean_squared_error: 11.0512\n",
      "Epoch 54/300\n",
      " - 0s - loss: 1.5339 - mean_absolute_error: 1.5339 - mean_squared_error: 19.9862 - val_loss: 1.6299 - val_mean_absolute_error: 1.6299 - val_mean_squared_error: 10.9893\n",
      "Epoch 55/300\n",
      " - 0s - loss: 1.4026 - mean_absolute_error: 1.4026 - mean_squared_error: 17.3402 - val_loss: 1.3132 - val_mean_absolute_error: 1.3132 - val_mean_squared_error: 9.7786\n",
      "Epoch 56/300\n",
      " - 0s - loss: 1.5108 - mean_absolute_error: 1.5108 - mean_squared_error: 17.7335 - val_loss: 1.3449 - val_mean_absolute_error: 1.3449 - val_mean_squared_error: 9.8035\n",
      "Epoch 57/300\n",
      " - 0s - loss: 1.4634 - mean_absolute_error: 1.4634 - mean_squared_error: 18.7026 - val_loss: 1.3817 - val_mean_absolute_error: 1.3817 - val_mean_squared_error: 9.8642\n",
      "Epoch 58/300\n",
      " - 0s - loss: 1.3777 - mean_absolute_error: 1.3777 - mean_squared_error: 18.4027 - val_loss: 1.3684 - val_mean_absolute_error: 1.3684 - val_mean_squared_error: 10.3224\n",
      "Epoch 59/300\n",
      " - 0s - loss: 1.5869 - mean_absolute_error: 1.5869 - mean_squared_error: 18.4198 - val_loss: 1.3550 - val_mean_absolute_error: 1.3550 - val_mean_squared_error: 10.0654\n",
      "Epoch 60/300\n",
      " - 0s - loss: 1.4783 - mean_absolute_error: 1.4783 - mean_squared_error: 19.5438 - val_loss: 1.3699 - val_mean_absolute_error: 1.3699 - val_mean_squared_error: 10.2026\n",
      "Epoch 61/300\n",
      " - 0s - loss: 1.4041 - mean_absolute_error: 1.4041 - mean_squared_error: 17.7297 - val_loss: 1.3109 - val_mean_absolute_error: 1.3109 - val_mean_squared_error: 9.7480\n",
      "Epoch 62/300\n",
      " - 0s - loss: 1.4095 - mean_absolute_error: 1.4095 - mean_squared_error: 17.8319 - val_loss: 1.2929 - val_mean_absolute_error: 1.2929 - val_mean_squared_error: 9.2903\n",
      "Epoch 63/300\n",
      " - 0s - loss: 1.4315 - mean_absolute_error: 1.4315 - mean_squared_error: 20.5872 - val_loss: 1.5786 - val_mean_absolute_error: 1.5786 - val_mean_squared_error: 11.1164\n",
      "Epoch 64/300\n",
      " - 0s - loss: 1.4463 - mean_absolute_error: 1.4463 - mean_squared_error: 16.8210 - val_loss: 1.4590 - val_mean_absolute_error: 1.4590 - val_mean_squared_error: 11.0526\n",
      "Epoch 65/300\n",
      " - 0s - loss: 1.4880 - mean_absolute_error: 1.4880 - mean_squared_error: 16.9438 - val_loss: 1.5849 - val_mean_absolute_error: 1.5849 - val_mean_squared_error: 13.4221\n",
      "Epoch 66/300\n",
      " - 0s - loss: 1.3769 - mean_absolute_error: 1.3769 - mean_squared_error: 16.8961 - val_loss: 1.6446 - val_mean_absolute_error: 1.6446 - val_mean_squared_error: 13.3194\n",
      "Epoch 67/300\n",
      " - 0s - loss: 1.3695 - mean_absolute_error: 1.3695 - mean_squared_error: 17.6047 - val_loss: 1.6421 - val_mean_absolute_error: 1.6421 - val_mean_squared_error: 10.6654\n",
      "Epoch 68/300\n",
      " - 0s - loss: 1.3520 - mean_absolute_error: 1.3520 - mean_squared_error: 16.8224 - val_loss: 1.3116 - val_mean_absolute_error: 1.3116 - val_mean_squared_error: 9.1681\n",
      "Epoch 69/300\n",
      " - 0s - loss: 1.3242 - mean_absolute_error: 1.3242 - mean_squared_error: 16.3233 - val_loss: 1.3854 - val_mean_absolute_error: 1.3854 - val_mean_squared_error: 9.2043\n",
      "Epoch 70/300\n",
      " - 0s - loss: 1.4152 - mean_absolute_error: 1.4152 - mean_squared_error: 16.8007 - val_loss: 1.3476 - val_mean_absolute_error: 1.3476 - val_mean_squared_error: 11.3854\n",
      "Epoch 71/300\n",
      " - 0s - loss: 1.3588 - mean_absolute_error: 1.3588 - mean_squared_error: 17.1216 - val_loss: 1.3753 - val_mean_absolute_error: 1.3753 - val_mean_squared_error: 9.3931\n",
      "Epoch 72/300\n",
      " - 0s - loss: 1.2707 - mean_absolute_error: 1.2707 - mean_squared_error: 16.2404 - val_loss: 1.3657 - val_mean_absolute_error: 1.3657 - val_mean_squared_error: 9.9003\n",
      "Epoch 73/300\n",
      " - 0s - loss: 1.3460 - mean_absolute_error: 1.3460 - mean_squared_error: 16.6581 - val_loss: 1.3021 - val_mean_absolute_error: 1.3021 - val_mean_squared_error: 9.2797\n",
      "Epoch 74/300\n",
      " - 0s - loss: 1.3086 - mean_absolute_error: 1.3086 - mean_squared_error: 16.4988 - val_loss: 1.3119 - val_mean_absolute_error: 1.3119 - val_mean_squared_error: 8.4584\n",
      "Epoch 75/300\n",
      " - 0s - loss: 1.4114 - mean_absolute_error: 1.4114 - mean_squared_error: 17.1479 - val_loss: 1.3349 - val_mean_absolute_error: 1.3349 - val_mean_squared_error: 9.2915\n",
      "Epoch 76/300\n",
      " - 0s - loss: 1.3235 - mean_absolute_error: 1.3235 - mean_squared_error: 15.7512 - val_loss: 1.4360 - val_mean_absolute_error: 1.4360 - val_mean_squared_error: 8.7636\n",
      "Epoch 77/300\n",
      " - 0s - loss: 1.2865 - mean_absolute_error: 1.2865 - mean_squared_error: 15.3043 - val_loss: 1.3837 - val_mean_absolute_error: 1.3837 - val_mean_squared_error: 8.1265\n",
      "Epoch 78/300\n",
      " - 0s - loss: 1.3420 - mean_absolute_error: 1.3420 - mean_squared_error: 15.1822 - val_loss: 1.5288 - val_mean_absolute_error: 1.5288 - val_mean_squared_error: 9.9958\n",
      "Epoch 79/300\n",
      " - 0s - loss: 1.3662 - mean_absolute_error: 1.3662 - mean_squared_error: 13.8278 - val_loss: 1.2945 - val_mean_absolute_error: 1.2945 - val_mean_squared_error: 5.9947\n",
      "Epoch 80/300\n",
      " - 0s - loss: 1.3758 - mean_absolute_error: 1.3758 - mean_squared_error: 13.1688 - val_loss: 1.8308 - val_mean_absolute_error: 1.8308 - val_mean_squared_error: 21.1533\n",
      "Epoch 81/300\n",
      " - 0s - loss: 1.5309 - mean_absolute_error: 1.5309 - mean_squared_error: 21.4857 - val_loss: 1.3440 - val_mean_absolute_error: 1.3440 - val_mean_squared_error: 11.0943\n",
      "Epoch 82/300\n",
      " - 0s - loss: 1.3324 - mean_absolute_error: 1.3324 - mean_squared_error: 17.8837 - val_loss: 1.3575 - val_mean_absolute_error: 1.3575 - val_mean_squared_error: 10.6741\n",
      "Epoch 83/300\n",
      " - 0s - loss: 1.2834 - mean_absolute_error: 1.2834 - mean_squared_error: 14.6774 - val_loss: 1.3752 - val_mean_absolute_error: 1.3752 - val_mean_squared_error: 8.2667\n",
      "Epoch 84/300\n",
      " - 0s - loss: 1.2418 - mean_absolute_error: 1.2418 - mean_squared_error: 11.2064 - val_loss: 1.3438 - val_mean_absolute_error: 1.3438 - val_mean_squared_error: 6.5576\n",
      "Epoch 85/300\n",
      " - 0s - loss: 1.2722 - mean_absolute_error: 1.2722 - mean_squared_error: 13.6331 - val_loss: 1.4273 - val_mean_absolute_error: 1.4273 - val_mean_squared_error: 8.8198\n",
      "Epoch 86/300\n",
      " - 0s - loss: 1.2099 - mean_absolute_error: 1.2099 - mean_squared_error: 9.9505 - val_loss: 1.3568 - val_mean_absolute_error: 1.3568 - val_mean_squared_error: 5.5925\n",
      "Epoch 87/300\n",
      " - 0s - loss: 1.2024 - mean_absolute_error: 1.2024 - mean_squared_error: 11.9901 - val_loss: 1.2539 - val_mean_absolute_error: 1.2539 - val_mean_squared_error: 4.8838\n",
      "Epoch 88/300\n",
      " - 0s - loss: 1.2423 - mean_absolute_error: 1.2423 - mean_squared_error: 11.7563 - val_loss: 1.3752 - val_mean_absolute_error: 1.3752 - val_mean_squared_error: 8.1568\n",
      "Epoch 89/300\n",
      " - 0s - loss: 1.2901 - mean_absolute_error: 1.2901 - mean_squared_error: 11.9705 - val_loss: 1.3211 - val_mean_absolute_error: 1.3211 - val_mean_squared_error: 5.4755\n",
      "Epoch 90/300\n",
      " - 0s - loss: 1.3258 - mean_absolute_error: 1.3258 - mean_squared_error: 11.2181 - val_loss: 1.3936 - val_mean_absolute_error: 1.3936 - val_mean_squared_error: 10.2824\n",
      "Epoch 91/300\n",
      " - 0s - loss: 1.2230 - mean_absolute_error: 1.2230 - mean_squared_error: 10.4254 - val_loss: 1.3874 - val_mean_absolute_error: 1.3874 - val_mean_squared_error: 8.8839\n"
     ]
    },
    {
     "name": "stdout",
     "output_type": "stream",
     "text": [
      "Epoch 92/300\n",
      " - 0s - loss: 1.2261 - mean_absolute_error: 1.2261 - mean_squared_error: 10.4058 - val_loss: 1.1909 - val_mean_absolute_error: 1.1909 - val_mean_squared_error: 4.7009\n",
      "Epoch 93/300\n",
      " - 0s - loss: 1.1210 - mean_absolute_error: 1.1210 - mean_squared_error: 8.0420 - val_loss: 1.2638 - val_mean_absolute_error: 1.2638 - val_mean_squared_error: 7.0464\n",
      "Epoch 94/300\n",
      " - 0s - loss: 1.1557 - mean_absolute_error: 1.1557 - mean_squared_error: 9.5128 - val_loss: 1.2539 - val_mean_absolute_error: 1.2539 - val_mean_squared_error: 4.2856\n",
      "Epoch 95/300\n",
      " - 0s - loss: 1.0769 - mean_absolute_error: 1.0769 - mean_squared_error: 8.5955 - val_loss: 1.3052 - val_mean_absolute_error: 1.3052 - val_mean_squared_error: 5.9277\n",
      "Epoch 96/300\n",
      " - 0s - loss: 1.2335 - mean_absolute_error: 1.2335 - mean_squared_error: 11.0792 - val_loss: 1.2659 - val_mean_absolute_error: 1.2659 - val_mean_squared_error: 4.2984\n",
      "Epoch 97/300\n",
      " - 0s - loss: 1.0938 - mean_absolute_error: 1.0938 - mean_squared_error: 8.9987 - val_loss: 1.2518 - val_mean_absolute_error: 1.2518 - val_mean_squared_error: 4.7445\n",
      "Epoch 98/300\n",
      " - 0s - loss: 1.1613 - mean_absolute_error: 1.1613 - mean_squared_error: 8.9100 - val_loss: 1.2561 - val_mean_absolute_error: 1.2561 - val_mean_squared_error: 4.7649\n",
      "Epoch 99/300\n",
      " - 0s - loss: 1.1192 - mean_absolute_error: 1.1192 - mean_squared_error: 9.0971 - val_loss: 1.1555 - val_mean_absolute_error: 1.1555 - val_mean_squared_error: 4.7927\n",
      "Epoch 100/300\n",
      " - 1s - loss: 1.1038 - mean_absolute_error: 1.1038 - mean_squared_error: 8.8612 - val_loss: 1.3606 - val_mean_absolute_error: 1.3606 - val_mean_squared_error: 9.0793\n",
      "Epoch 101/300\n",
      " - 0s - loss: 1.1871 - mean_absolute_error: 1.1871 - mean_squared_error: 8.8290 - val_loss: 1.4581 - val_mean_absolute_error: 1.4581 - val_mean_squared_error: 6.1322\n",
      "Epoch 102/300\n",
      " - 0s - loss: 1.1472 - mean_absolute_error: 1.1472 - mean_squared_error: 8.4995 - val_loss: 1.4609 - val_mean_absolute_error: 1.4609 - val_mean_squared_error: 13.6274\n",
      "Epoch 103/300\n",
      " - 1s - loss: 1.1371 - mean_absolute_error: 1.1371 - mean_squared_error: 8.8791 - val_loss: 1.3665 - val_mean_absolute_error: 1.3665 - val_mean_squared_error: 5.8467\n",
      "Epoch 104/300\n",
      " - 0s - loss: 1.1460 - mean_absolute_error: 1.1460 - mean_squared_error: 9.0056 - val_loss: 1.2549 - val_mean_absolute_error: 1.2549 - val_mean_squared_error: 6.5241\n",
      "Epoch 105/300\n",
      " - 0s - loss: 1.1753 - mean_absolute_error: 1.1753 - mean_squared_error: 8.2985 - val_loss: 1.3046 - val_mean_absolute_error: 1.3046 - val_mean_squared_error: 8.8296\n",
      "Epoch 106/300\n",
      " - 0s - loss: 1.1168 - mean_absolute_error: 1.1168 - mean_squared_error: 8.8324 - val_loss: 1.2311 - val_mean_absolute_error: 1.2311 - val_mean_squared_error: 6.8799\n",
      "Epoch 107/300\n",
      " - 0s - loss: 1.1418 - mean_absolute_error: 1.1418 - mean_squared_error: 8.5667 - val_loss: 1.3153 - val_mean_absolute_error: 1.3153 - val_mean_squared_error: 6.3844\n",
      "Epoch 108/300\n",
      " - 0s - loss: 1.0991 - mean_absolute_error: 1.0991 - mean_squared_error: 7.9392 - val_loss: 1.3164 - val_mean_absolute_error: 1.3164 - val_mean_squared_error: 9.1533\n",
      "Epoch 109/300\n",
      " - 0s - loss: 1.1014 - mean_absolute_error: 1.1014 - mean_squared_error: 8.4865 - val_loss: 1.2788 - val_mean_absolute_error: 1.2788 - val_mean_squared_error: 5.9935\n",
      "Epoch 110/300\n",
      " - 0s - loss: 1.0663 - mean_absolute_error: 1.0663 - mean_squared_error: 7.7891 - val_loss: 1.4296 - val_mean_absolute_error: 1.4296 - val_mean_squared_error: 11.6319\n",
      "Epoch 111/300\n",
      " - 0s - loss: 1.0457 - mean_absolute_error: 1.0457 - mean_squared_error: 8.1917 - val_loss: 1.4132 - val_mean_absolute_error: 1.4132 - val_mean_squared_error: 8.2663\n",
      "Epoch 112/300\n",
      " - 0s - loss: 1.1537 - mean_absolute_error: 1.1537 - mean_squared_error: 8.8557 - val_loss: 1.3735 - val_mean_absolute_error: 1.3735 - val_mean_squared_error: 10.9208\n",
      "Epoch 113/300\n",
      " - 0s - loss: 1.0183 - mean_absolute_error: 1.0183 - mean_squared_error: 7.3748 - val_loss: 1.3122 - val_mean_absolute_error: 1.3122 - val_mean_squared_error: 9.1343\n",
      "Epoch 114/300\n",
      " - 0s - loss: 1.0214 - mean_absolute_error: 1.0214 - mean_squared_error: 7.6978 - val_loss: 1.2511 - val_mean_absolute_error: 1.2511 - val_mean_squared_error: 5.8513\n",
      "Epoch 115/300\n",
      " - 0s - loss: 1.0723 - mean_absolute_error: 1.0723 - mean_squared_error: 7.6649 - val_loss: 1.2469 - val_mean_absolute_error: 1.2469 - val_mean_squared_error: 6.7319\n",
      "Epoch 116/300\n",
      " - 0s - loss: 1.0793 - mean_absolute_error: 1.0793 - mean_squared_error: 7.5179 - val_loss: 1.3053 - val_mean_absolute_error: 1.3053 - val_mean_squared_error: 7.3460\n",
      "Epoch 117/300\n",
      " - 0s - loss: 1.0647 - mean_absolute_error: 1.0647 - mean_squared_error: 8.3710 - val_loss: 1.2188 - val_mean_absolute_error: 1.2188 - val_mean_squared_error: 5.9374\n",
      "Epoch 118/300\n",
      " - 0s - loss: 1.1122 - mean_absolute_error: 1.1122 - mean_squared_error: 9.0676 - val_loss: 1.3009 - val_mean_absolute_error: 1.3009 - val_mean_squared_error: 6.6502\n",
      "Epoch 119/300\n",
      " - 0s - loss: 1.0309 - mean_absolute_error: 1.0309 - mean_squared_error: 7.6655 - val_loss: 1.2657 - val_mean_absolute_error: 1.2657 - val_mean_squared_error: 7.0609\n",
      "Epoch 120/300\n",
      " - 0s - loss: 1.0054 - mean_absolute_error: 1.0054 - mean_squared_error: 7.5912 - val_loss: 1.4986 - val_mean_absolute_error: 1.4986 - val_mean_squared_error: 7.4863\n",
      "Epoch 121/300\n",
      " - 0s - loss: 1.0768 - mean_absolute_error: 1.0768 - mean_squared_error: 7.5137 - val_loss: 1.1864 - val_mean_absolute_error: 1.1864 - val_mean_squared_error: 7.0927\n",
      "Epoch 122/300\n",
      " - 0s - loss: 1.0491 - mean_absolute_error: 1.0491 - mean_squared_error: 7.9483 - val_loss: 1.3096 - val_mean_absolute_error: 1.3096 - val_mean_squared_error: 5.9156\n",
      "Epoch 123/300\n",
      " - 0s - loss: 1.0129 - mean_absolute_error: 1.0129 - mean_squared_error: 7.3881 - val_loss: 1.3474 - val_mean_absolute_error: 1.3474 - val_mean_squared_error: 8.8885\n",
      "Epoch 124/300\n",
      " - 0s - loss: 1.0844 - mean_absolute_error: 1.0844 - mean_squared_error: 11.5140 - val_loss: 1.1855 - val_mean_absolute_error: 1.1855 - val_mean_squared_error: 6.1067\n",
      "Epoch 125/300\n",
      " - 0s - loss: 1.0437 - mean_absolute_error: 1.0437 - mean_squared_error: 8.9262 - val_loss: 1.1601 - val_mean_absolute_error: 1.1601 - val_mean_squared_error: 5.3109\n",
      "Epoch 126/300\n",
      " - 0s - loss: 0.9795 - mean_absolute_error: 0.9795 - mean_squared_error: 7.2353 - val_loss: 1.3794 - val_mean_absolute_error: 1.3794 - val_mean_squared_error: 7.7861\n",
      "Epoch 127/300\n",
      " - 0s - loss: 0.9577 - mean_absolute_error: 0.9577 - mean_squared_error: 6.9610 - val_loss: 1.2268 - val_mean_absolute_error: 1.2268 - val_mean_squared_error: 6.0275\n",
      "Epoch 128/300\n",
      " - 0s - loss: 1.0537 - mean_absolute_error: 1.0537 - mean_squared_error: 8.5883 - val_loss: 1.5955 - val_mean_absolute_error: 1.5955 - val_mean_squared_error: 6.7688\n",
      "Epoch 129/300\n",
      " - 0s - loss: 1.0433 - mean_absolute_error: 1.0433 - mean_squared_error: 8.5052 - val_loss: 1.3628 - val_mean_absolute_error: 1.3628 - val_mean_squared_error: 5.6124\n",
      "Epoch 130/300\n",
      " - 0s - loss: 0.9844 - mean_absolute_error: 0.9844 - mean_squared_error: 7.3297 - val_loss: 1.3198 - val_mean_absolute_error: 1.3198 - val_mean_squared_error: 10.6324\n",
      "Epoch 131/300\n",
      " - 0s - loss: 0.9605 - mean_absolute_error: 0.9605 - mean_squared_error: 6.8238 - val_loss: 1.1014 - val_mean_absolute_error: 1.1014 - val_mean_squared_error: 4.6028\n",
      "Epoch 132/300\n",
      " - 0s - loss: 0.9712 - mean_absolute_error: 0.9712 - mean_squared_error: 6.8229 - val_loss: 1.1909 - val_mean_absolute_error: 1.1909 - val_mean_squared_error: 5.3122\n",
      "Epoch 133/300\n",
      " - 0s - loss: 0.9749 - mean_absolute_error: 0.9749 - mean_squared_error: 6.8146 - val_loss: 1.5978 - val_mean_absolute_error: 1.5978 - val_mean_squared_error: 7.4553\n",
      "Epoch 134/300\n",
      " - 0s - loss: 0.9084 - mean_absolute_error: 0.9084 - mean_squared_error: 6.7580 - val_loss: 1.1558 - val_mean_absolute_error: 1.1558 - val_mean_squared_error: 5.0986\n",
      "Epoch 135/300\n",
      " - 0s - loss: 0.9333 - mean_absolute_error: 0.9333 - mean_squared_error: 7.3099 - val_loss: 1.2227 - val_mean_absolute_error: 1.2227 - val_mean_squared_error: 4.5094\n",
      "Epoch 136/300\n",
      " - 0s - loss: 1.0248 - mean_absolute_error: 1.0248 - mean_squared_error: 7.6106 - val_loss: 1.3185 - val_mean_absolute_error: 1.3185 - val_mean_squared_error: 9.4162\n",
      "Epoch 137/300\n",
      " - 0s - loss: 0.9123 - mean_absolute_error: 0.9123 - mean_squared_error: 6.4171 - val_loss: 1.2273 - val_mean_absolute_error: 1.2273 - val_mean_squared_error: 5.5088\n"
     ]
    },
    {
     "name": "stdout",
     "output_type": "stream",
     "text": [
      "Epoch 138/300\n",
      " - 0s - loss: 0.9736 - mean_absolute_error: 0.9736 - mean_squared_error: 7.0646 - val_loss: 1.1555 - val_mean_absolute_error: 1.1555 - val_mean_squared_error: 5.1143\n",
      "Epoch 139/300\n",
      " - 0s - loss: 0.9516 - mean_absolute_error: 0.9516 - mean_squared_error: 7.1252 - val_loss: 1.2670 - val_mean_absolute_error: 1.2670 - val_mean_squared_error: 6.3721\n",
      "Epoch 140/300\n",
      " - 0s - loss: 0.8840 - mean_absolute_error: 0.8840 - mean_squared_error: 7.4416 - val_loss: 1.2281 - val_mean_absolute_error: 1.2281 - val_mean_squared_error: 6.5514\n",
      "Epoch 141/300\n",
      " - 0s - loss: 0.9676 - mean_absolute_error: 0.9676 - mean_squared_error: 7.4350 - val_loss: 1.2019 - val_mean_absolute_error: 1.2019 - val_mean_squared_error: 7.2306\n",
      "Epoch 142/300\n",
      " - 0s - loss: 0.9427 - mean_absolute_error: 0.9427 - mean_squared_error: 7.1839 - val_loss: 1.2279 - val_mean_absolute_error: 1.2279 - val_mean_squared_error: 7.2326\n",
      "Epoch 143/300\n",
      " - 0s - loss: 0.9917 - mean_absolute_error: 0.9917 - mean_squared_error: 7.5250 - val_loss: 1.2354 - val_mean_absolute_error: 1.2354 - val_mean_squared_error: 9.2789\n",
      "Epoch 144/300\n",
      " - 0s - loss: 0.9688 - mean_absolute_error: 0.9688 - mean_squared_error: 7.3591 - val_loss: 1.2980 - val_mean_absolute_error: 1.2980 - val_mean_squared_error: 6.3776\n",
      "Epoch 145/300\n",
      " - 0s - loss: 0.9317 - mean_absolute_error: 0.9317 - mean_squared_error: 7.4053 - val_loss: 1.3065 - val_mean_absolute_error: 1.3065 - val_mean_squared_error: 9.5844\n",
      "Epoch 146/300\n",
      " - 0s - loss: 0.9763 - mean_absolute_error: 0.9763 - mean_squared_error: 8.5596 - val_loss: 1.3047 - val_mean_absolute_error: 1.3047 - val_mean_squared_error: 10.7479\n",
      "Epoch 147/300\n",
      " - 0s - loss: 0.9709 - mean_absolute_error: 0.9709 - mean_squared_error: 7.9452 - val_loss: 1.1687 - val_mean_absolute_error: 1.1687 - val_mean_squared_error: 6.9968\n",
      "Epoch 148/300\n",
      " - 0s - loss: 0.9733 - mean_absolute_error: 0.9733 - mean_squared_error: 7.3542 - val_loss: 1.1954 - val_mean_absolute_error: 1.1954 - val_mean_squared_error: 7.2464\n",
      "Epoch 149/300\n",
      " - 0s - loss: 0.9061 - mean_absolute_error: 0.9061 - mean_squared_error: 7.1739 - val_loss: 1.2302 - val_mean_absolute_error: 1.2302 - val_mean_squared_error: 7.0043\n",
      "Epoch 150/300\n",
      " - 0s - loss: 0.8990 - mean_absolute_error: 0.8990 - mean_squared_error: 6.9683 - val_loss: 1.2553 - val_mean_absolute_error: 1.2553 - val_mean_squared_error: 7.8334\n",
      "Epoch 151/300\n",
      " - 0s - loss: 0.9183 - mean_absolute_error: 0.9183 - mean_squared_error: 6.5984 - val_loss: 1.1532 - val_mean_absolute_error: 1.1532 - val_mean_squared_error: 7.8650\n",
      "Epoch 152/300\n",
      " - 0s - loss: 0.9564 - mean_absolute_error: 0.9564 - mean_squared_error: 7.6376 - val_loss: 1.1997 - val_mean_absolute_error: 1.1997 - val_mean_squared_error: 6.3632\n",
      "Epoch 153/300\n",
      " - 0s - loss: 0.9403 - mean_absolute_error: 0.9403 - mean_squared_error: 6.8731 - val_loss: 1.1847 - val_mean_absolute_error: 1.1847 - val_mean_squared_error: 8.3737\n",
      "Epoch 154/300\n",
      " - 0s - loss: 0.9492 - mean_absolute_error: 0.9492 - mean_squared_error: 6.5431 - val_loss: 1.4411 - val_mean_absolute_error: 1.4411 - val_mean_squared_error: 8.6123\n",
      "Epoch 155/300\n",
      " - 0s - loss: 1.0500 - mean_absolute_error: 1.0500 - mean_squared_error: 9.0459 - val_loss: 1.2798 - val_mean_absolute_error: 1.2798 - val_mean_squared_error: 10.3891\n",
      "Epoch 156/300\n",
      " - 0s - loss: 0.9438 - mean_absolute_error: 0.9438 - mean_squared_error: 7.9963 - val_loss: 1.2012 - val_mean_absolute_error: 1.2012 - val_mean_squared_error: 6.8414\n",
      "Epoch 157/300\n",
      " - 0s - loss: 0.8883 - mean_absolute_error: 0.8883 - mean_squared_error: 7.0738 - val_loss: 1.1944 - val_mean_absolute_error: 1.1944 - val_mean_squared_error: 8.0850\n",
      "Epoch 158/300\n",
      " - 0s - loss: 0.8763 - mean_absolute_error: 0.8763 - mean_squared_error: 6.3433 - val_loss: 1.3051 - val_mean_absolute_error: 1.3051 - val_mean_squared_error: 9.3459\n",
      "Epoch 159/300\n",
      " - 0s - loss: 0.8490 - mean_absolute_error: 0.8490 - mean_squared_error: 6.1363 - val_loss: 1.2415 - val_mean_absolute_error: 1.2415 - val_mean_squared_error: 7.2965\n",
      "Epoch 160/300\n",
      " - 0s - loss: 0.8666 - mean_absolute_error: 0.8666 - mean_squared_error: 6.7492 - val_loss: 1.5946 - val_mean_absolute_error: 1.5946 - val_mean_squared_error: 13.4845\n",
      "Epoch 161/300\n",
      " - 0s - loss: 0.8901 - mean_absolute_error: 0.8901 - mean_squared_error: 6.1170 - val_loss: 1.4342 - val_mean_absolute_error: 1.4342 - val_mean_squared_error: 8.2139\n",
      "Epoch 162/300\n",
      " - 0s - loss: 0.8627 - mean_absolute_error: 0.8627 - mean_squared_error: 5.9914 - val_loss: 1.2395 - val_mean_absolute_error: 1.2395 - val_mean_squared_error: 7.6565\n",
      "Epoch 163/300\n",
      " - 0s - loss: 0.8480 - mean_absolute_error: 0.8480 - mean_squared_error: 6.1205 - val_loss: 1.5473 - val_mean_absolute_error: 1.5473 - val_mean_squared_error: 19.2492\n",
      "Epoch 164/300\n",
      " - 0s - loss: 0.9263 - mean_absolute_error: 0.9263 - mean_squared_error: 6.6825 - val_loss: 1.2682 - val_mean_absolute_error: 1.2682 - val_mean_squared_error: 7.9231\n",
      "Epoch 165/300\n",
      " - 0s - loss: 0.8261 - mean_absolute_error: 0.8261 - mean_squared_error: 6.4231 - val_loss: 1.2269 - val_mean_absolute_error: 1.2269 - val_mean_squared_error: 8.7190\n",
      "Epoch 166/300\n",
      " - 0s - loss: 0.8981 - mean_absolute_error: 0.8981 - mean_squared_error: 8.2984 - val_loss: 1.2363 - val_mean_absolute_error: 1.2363 - val_mean_squared_error: 7.9161\n",
      "Epoch 167/300\n",
      " - 0s - loss: 0.9073 - mean_absolute_error: 0.9073 - mean_squared_error: 6.4602 - val_loss: 1.2025 - val_mean_absolute_error: 1.2025 - val_mean_squared_error: 8.5451\n",
      "Epoch 168/300\n",
      " - 0s - loss: 0.8849 - mean_absolute_error: 0.8849 - mean_squared_error: 6.8079 - val_loss: 1.2657 - val_mean_absolute_error: 1.2657 - val_mean_squared_error: 8.2213\n",
      "Epoch 169/300\n",
      " - 0s - loss: 0.8233 - mean_absolute_error: 0.8233 - mean_squared_error: 6.2970 - val_loss: 1.4007 - val_mean_absolute_error: 1.4007 - val_mean_squared_error: 10.9931\n",
      "Epoch 170/300\n",
      " - 0s - loss: 0.8429 - mean_absolute_error: 0.8429 - mean_squared_error: 6.5580 - val_loss: 1.2423 - val_mean_absolute_error: 1.2423 - val_mean_squared_error: 9.2976\n",
      "Epoch 171/300\n",
      " - 1s - loss: 0.8403 - mean_absolute_error: 0.8403 - mean_squared_error: 6.4376 - val_loss: 1.2433 - val_mean_absolute_error: 1.2433 - val_mean_squared_error: 9.0837\n",
      "Epoch 172/300\n",
      " - 0s - loss: 0.8665 - mean_absolute_error: 0.8665 - mean_squared_error: 6.4333 - val_loss: 1.2107 - val_mean_absolute_error: 1.2107 - val_mean_squared_error: 8.7461\n",
      "Epoch 173/300\n",
      " - 0s - loss: 0.7799 - mean_absolute_error: 0.7799 - mean_squared_error: 5.8298 - val_loss: 1.1786 - val_mean_absolute_error: 1.1786 - val_mean_squared_error: 8.6839\n",
      "Epoch 174/300\n",
      " - 0s - loss: 0.8362 - mean_absolute_error: 0.8362 - mean_squared_error: 6.8236 - val_loss: 1.2478 - val_mean_absolute_error: 1.2478 - val_mean_squared_error: 9.5431\n",
      "Epoch 175/300\n",
      " - 0s - loss: 0.8256 - mean_absolute_error: 0.8256 - mean_squared_error: 5.8344 - val_loss: 1.2099 - val_mean_absolute_error: 1.2099 - val_mean_squared_error: 8.9554\n",
      "Epoch 176/300\n",
      " - 0s - loss: 0.8430 - mean_absolute_error: 0.8430 - mean_squared_error: 6.3804 - val_loss: 1.2273 - val_mean_absolute_error: 1.2273 - val_mean_squared_error: 10.2596\n",
      "Epoch 177/300\n",
      " - 0s - loss: 0.8450 - mean_absolute_error: 0.8450 - mean_squared_error: 6.3214 - val_loss: 1.1960 - val_mean_absolute_error: 1.1960 - val_mean_squared_error: 8.8766\n",
      "Epoch 178/300\n",
      " - 0s - loss: 0.8332 - mean_absolute_error: 0.8332 - mean_squared_error: 7.0460 - val_loss: 1.2565 - val_mean_absolute_error: 1.2565 - val_mean_squared_error: 9.3982\n",
      "Epoch 179/300\n",
      " - 0s - loss: 0.7795 - mean_absolute_error: 0.7795 - mean_squared_error: 5.8817 - val_loss: 1.1846 - val_mean_absolute_error: 1.1846 - val_mean_squared_error: 9.3768\n",
      "Epoch 180/300\n",
      " - 0s - loss: 0.8775 - mean_absolute_error: 0.8775 - mean_squared_error: 6.6633 - val_loss: 1.4275 - val_mean_absolute_error: 1.4275 - val_mean_squared_error: 12.7792\n",
      "Epoch 181/300\n",
      " - 0s - loss: 0.8900 - mean_absolute_error: 0.8900 - mean_squared_error: 6.7674 - val_loss: 1.3833 - val_mean_absolute_error: 1.3833 - val_mean_squared_error: 9.1467\n",
      "Epoch 182/300\n",
      " - 0s - loss: 0.8562 - mean_absolute_error: 0.8562 - mean_squared_error: 6.3769 - val_loss: 1.1937 - val_mean_absolute_error: 1.1937 - val_mean_squared_error: 9.3722\n",
      "Epoch 183/300\n",
      " - 0s - loss: 0.8246 - mean_absolute_error: 0.8246 - mean_squared_error: 6.1191 - val_loss: 1.1875 - val_mean_absolute_error: 1.1875 - val_mean_squared_error: 8.8968\n"
     ]
    },
    {
     "name": "stdout",
     "output_type": "stream",
     "text": [
      "Epoch 184/300\n",
      " - 0s - loss: 0.8078 - mean_absolute_error: 0.8078 - mean_squared_error: 6.1239 - val_loss: 1.1796 - val_mean_absolute_error: 1.1796 - val_mean_squared_error: 8.2393\n",
      "Epoch 185/300\n",
      " - 0s - loss: 0.7391 - mean_absolute_error: 0.7391 - mean_squared_error: 5.6655 - val_loss: 1.2376 - val_mean_absolute_error: 1.2376 - val_mean_squared_error: 9.5103\n",
      "Epoch 186/300\n",
      " - 0s - loss: 0.8221 - mean_absolute_error: 0.8221 - mean_squared_error: 6.3598 - val_loss: 1.1388 - val_mean_absolute_error: 1.1388 - val_mean_squared_error: 7.1846\n",
      "Epoch 187/300\n",
      " - 0s - loss: 0.7961 - mean_absolute_error: 0.7961 - mean_squared_error: 6.6140 - val_loss: 1.3473 - val_mean_absolute_error: 1.3473 - val_mean_squared_error: 7.9563\n",
      "Epoch 188/300\n",
      " - 0s - loss: 0.8236 - mean_absolute_error: 0.8236 - mean_squared_error: 6.0809 - val_loss: 1.4968 - val_mean_absolute_error: 1.4968 - val_mean_squared_error: 15.6371\n",
      "Epoch 189/300\n",
      " - 0s - loss: 0.7839 - mean_absolute_error: 0.7839 - mean_squared_error: 6.1037 - val_loss: 1.2412 - val_mean_absolute_error: 1.2412 - val_mean_squared_error: 10.9558\n",
      "Epoch 190/300\n",
      " - 0s - loss: 0.7753 - mean_absolute_error: 0.7753 - mean_squared_error: 6.1790 - val_loss: 1.3727 - val_mean_absolute_error: 1.3727 - val_mean_squared_error: 12.9704\n",
      "Epoch 191/300\n",
      " - 0s - loss: 0.7604 - mean_absolute_error: 0.7604 - mean_squared_error: 5.7967 - val_loss: 1.2415 - val_mean_absolute_error: 1.2415 - val_mean_squared_error: 9.1743\n",
      "Epoch 192/300\n",
      " - 0s - loss: 0.7732 - mean_absolute_error: 0.7732 - mean_squared_error: 6.4722 - val_loss: 1.3080 - val_mean_absolute_error: 1.3080 - val_mean_squared_error: 9.4902\n",
      "Epoch 193/300\n",
      " - 0s - loss: 0.7533 - mean_absolute_error: 0.7533 - mean_squared_error: 5.8286 - val_loss: 1.3694 - val_mean_absolute_error: 1.3694 - val_mean_squared_error: 13.8351\n",
      "Epoch 194/300\n",
      " - 0s - loss: 0.7732 - mean_absolute_error: 0.7732 - mean_squared_error: 5.7686 - val_loss: 1.2638 - val_mean_absolute_error: 1.2638 - val_mean_squared_error: 10.2694\n",
      "Epoch 195/300\n",
      " - 0s - loss: 0.7905 - mean_absolute_error: 0.7905 - mean_squared_error: 6.1472 - val_loss: 1.2683 - val_mean_absolute_error: 1.2683 - val_mean_squared_error: 9.2957\n",
      "Epoch 196/300\n",
      " - 0s - loss: 0.7778 - mean_absolute_error: 0.7778 - mean_squared_error: 6.8815 - val_loss: 1.1779 - val_mean_absolute_error: 1.1779 - val_mean_squared_error: 8.2084\n",
      "Epoch 197/300\n",
      " - 0s - loss: 0.8197 - mean_absolute_error: 0.8197 - mean_squared_error: 6.0984 - val_loss: 1.3305 - val_mean_absolute_error: 1.3305 - val_mean_squared_error: 10.7070\n",
      "Epoch 198/300\n",
      " - 0s - loss: 0.7015 - mean_absolute_error: 0.7015 - mean_squared_error: 5.4869 - val_loss: 1.2213 - val_mean_absolute_error: 1.2213 - val_mean_squared_error: 8.9335\n",
      "Epoch 199/300\n",
      " - 0s - loss: 0.7736 - mean_absolute_error: 0.7736 - mean_squared_error: 6.3402 - val_loss: 1.2054 - val_mean_absolute_error: 1.2054 - val_mean_squared_error: 8.5248\n",
      "Epoch 200/300\n",
      " - 0s - loss: 0.7710 - mean_absolute_error: 0.7710 - mean_squared_error: 6.0967 - val_loss: 1.2991 - val_mean_absolute_error: 1.2991 - val_mean_squared_error: 10.3697\n",
      "Epoch 201/300\n",
      " - 0s - loss: 0.7995 - mean_absolute_error: 0.7995 - mean_squared_error: 6.2856 - val_loss: 1.2736 - val_mean_absolute_error: 1.2736 - val_mean_squared_error: 7.8590\n",
      "Epoch 202/300\n",
      " - 0s - loss: 0.8430 - mean_absolute_error: 0.8430 - mean_squared_error: 6.7187 - val_loss: 1.4087 - val_mean_absolute_error: 1.4087 - val_mean_squared_error: 9.6733\n",
      "Epoch 203/300\n",
      " - 0s - loss: 0.7565 - mean_absolute_error: 0.7565 - mean_squared_error: 5.8767 - val_loss: 1.2373 - val_mean_absolute_error: 1.2373 - val_mean_squared_error: 9.1178\n",
      "Epoch 204/300\n",
      " - 0s - loss: 0.7466 - mean_absolute_error: 0.7466 - mean_squared_error: 5.9273 - val_loss: 1.3507 - val_mean_absolute_error: 1.3507 - val_mean_squared_error: 14.9077\n",
      "Epoch 205/300\n",
      " - 0s - loss: 0.7381 - mean_absolute_error: 0.7381 - mean_squared_error: 5.9756 - val_loss: 1.1958 - val_mean_absolute_error: 1.1958 - val_mean_squared_error: 8.2961\n",
      "Epoch 206/300\n",
      " - 0s - loss: 0.8858 - mean_absolute_error: 0.8858 - mean_squared_error: 8.0656 - val_loss: 1.3178 - val_mean_absolute_error: 1.3178 - val_mean_squared_error: 10.3108\n",
      "Epoch 207/300\n",
      " - 0s - loss: 0.8022 - mean_absolute_error: 0.8022 - mean_squared_error: 6.4013 - val_loss: 1.2744 - val_mean_absolute_error: 1.2744 - val_mean_squared_error: 9.9776\n",
      "Epoch 208/300\n",
      " - 0s - loss: 0.7149 - mean_absolute_error: 0.7149 - mean_squared_error: 5.8686 - val_loss: 1.2023 - val_mean_absolute_error: 1.2023 - val_mean_squared_error: 8.8646\n",
      "Epoch 209/300\n",
      " - 0s - loss: 0.7000 - mean_absolute_error: 0.7000 - mean_squared_error: 5.6470 - val_loss: 1.2503 - val_mean_absolute_error: 1.2503 - val_mean_squared_error: 9.9683\n",
      "Epoch 210/300\n",
      " - 0s - loss: 0.6806 - mean_absolute_error: 0.6806 - mean_squared_error: 5.6790 - val_loss: 1.3058 - val_mean_absolute_error: 1.3058 - val_mean_squared_error: 11.6129\n",
      "Epoch 211/300\n",
      " - 0s - loss: 0.7643 - mean_absolute_error: 0.7643 - mean_squared_error: 6.0786 - val_loss: 1.2801 - val_mean_absolute_error: 1.2801 - val_mean_squared_error: 10.7128\n",
      "Epoch 212/300\n",
      " - 0s - loss: 0.7398 - mean_absolute_error: 0.7398 - mean_squared_error: 6.1483 - val_loss: 1.2671 - val_mean_absolute_error: 1.2671 - val_mean_squared_error: 10.2644\n",
      "Epoch 213/300\n",
      " - 0s - loss: 0.6890 - mean_absolute_error: 0.6890 - mean_squared_error: 5.4546 - val_loss: 1.2086 - val_mean_absolute_error: 1.2086 - val_mean_squared_error: 9.7137\n",
      "Epoch 214/300\n",
      " - 0s - loss: 0.6902 - mean_absolute_error: 0.6902 - mean_squared_error: 5.6068 - val_loss: 1.2882 - val_mean_absolute_error: 1.2882 - val_mean_squared_error: 13.4112\n",
      "Epoch 215/300\n",
      " - 0s - loss: 0.7682 - mean_absolute_error: 0.7682 - mean_squared_error: 6.1925 - val_loss: 1.1912 - val_mean_absolute_error: 1.1912 - val_mean_squared_error: 8.9634\n",
      "Epoch 216/300\n",
      " - 0s - loss: 0.7308 - mean_absolute_error: 0.7308 - mean_squared_error: 5.9982 - val_loss: 1.2848 - val_mean_absolute_error: 1.2848 - val_mean_squared_error: 10.5367\n",
      "Epoch 217/300\n",
      " - 0s - loss: 0.7220 - mean_absolute_error: 0.7220 - mean_squared_error: 5.6860 - val_loss: 1.1992 - val_mean_absolute_error: 1.1992 - val_mean_squared_error: 9.9622\n",
      "Epoch 218/300\n",
      " - 0s - loss: 0.6951 - mean_absolute_error: 0.6951 - mean_squared_error: 5.5862 - val_loss: 1.2376 - val_mean_absolute_error: 1.2376 - val_mean_squared_error: 11.8853\n",
      "Epoch 219/300\n",
      " - 0s - loss: 0.7041 - mean_absolute_error: 0.7041 - mean_squared_error: 5.5911 - val_loss: 1.4222 - val_mean_absolute_error: 1.4222 - val_mean_squared_error: 16.0601\n",
      "Epoch 220/300\n",
      " - 0s - loss: 0.7772 - mean_absolute_error: 0.7772 - mean_squared_error: 7.0197 - val_loss: 1.2176 - val_mean_absolute_error: 1.2176 - val_mean_squared_error: 10.6757\n",
      "Epoch 221/300\n",
      " - 0s - loss: 0.7756 - mean_absolute_error: 0.7756 - mean_squared_error: 6.6071 - val_loss: 1.4018 - val_mean_absolute_error: 1.4018 - val_mean_squared_error: 12.8846\n",
      "Epoch 222/300\n",
      " - 0s - loss: 0.7381 - mean_absolute_error: 0.7381 - mean_squared_error: 5.8667 - val_loss: 1.2939 - val_mean_absolute_error: 1.2939 - val_mean_squared_error: 11.3369\n",
      "Epoch 223/300\n",
      " - 0s - loss: 0.7621 - mean_absolute_error: 0.7621 - mean_squared_error: 6.4675 - val_loss: 1.2916 - val_mean_absolute_error: 1.2916 - val_mean_squared_error: 12.5378\n",
      "Epoch 224/300\n",
      " - 0s - loss: 0.6938 - mean_absolute_error: 0.6938 - mean_squared_error: 6.1044 - val_loss: 1.2579 - val_mean_absolute_error: 1.2579 - val_mean_squared_error: 10.0627\n",
      "Epoch 225/300\n",
      " - 0s - loss: 0.6987 - mean_absolute_error: 0.6987 - mean_squared_error: 5.6289 - val_loss: 1.2284 - val_mean_absolute_error: 1.2284 - val_mean_squared_error: 9.2904\n",
      "Epoch 226/300\n",
      " - 0s - loss: 0.7120 - mean_absolute_error: 0.7120 - mean_squared_error: 5.5863 - val_loss: 1.2858 - val_mean_absolute_error: 1.2858 - val_mean_squared_error: 10.4217\n",
      "Epoch 227/300\n",
      " - 0s - loss: 0.7252 - mean_absolute_error: 0.7252 - mean_squared_error: 5.6274 - val_loss: 1.3400 - val_mean_absolute_error: 1.3400 - val_mean_squared_error: 9.6551\n",
      "Epoch 228/300\n",
      " - 0s - loss: 0.7553 - mean_absolute_error: 0.7553 - mean_squared_error: 6.0167 - val_loss: 1.4696 - val_mean_absolute_error: 1.4696 - val_mean_squared_error: 19.0613\n",
      "Epoch 229/300\n",
      " - 0s - loss: 0.7109 - mean_absolute_error: 0.7109 - mean_squared_error: 6.2926 - val_loss: 1.2855 - val_mean_absolute_error: 1.2855 - val_mean_squared_error: 11.4227\n"
     ]
    },
    {
     "name": "stdout",
     "output_type": "stream",
     "text": [
      "Epoch 230/300\n",
      " - 0s - loss: 0.7332 - mean_absolute_error: 0.7332 - mean_squared_error: 5.7340 - val_loss: 1.3773 - val_mean_absolute_error: 1.3773 - val_mean_squared_error: 11.7881\n",
      "Epoch 231/300\n",
      " - 0s - loss: 0.7137 - mean_absolute_error: 0.7137 - mean_squared_error: 5.7587 - val_loss: 1.4226 - val_mean_absolute_error: 1.4226 - val_mean_squared_error: 11.2857\n"
     ]
    }
   ],
   "source": [
    "epochs = 300\n",
    "batch_size = 24\n",
    "\n",
    "from keras.callbacks import EarlyStopping\n",
    "early_stop = EarlyStopping(monitor='val_loss', patience=100)\n",
    "\n",
    "history = model_NN.fit(X_train, Y_train, \n",
    "          epochs = epochs, \n",
    "          batch_size = batch_size, \n",
    "          verbose=2, \n",
    "          validation_data=(X_test, Y_test),\n",
    "          shuffle=True,\n",
    "          callbacks=[early_stop])"
   ]
  },
  {
   "cell_type": "code",
   "execution_count": 57,
   "metadata": {},
   "outputs": [
    {
     "data": {
      "image/png": "[encoded data removed]",
      "text/plain": [
       "<Figure size 864x360 with 2 Axes>"
      ]
     },
     "metadata": {
      "needs_background": "light"
     },
     "output_type": "display_data"
    }
   ],
   "source": [
    "fig, (ax1, ax2) = plt.subplots(1,2, figsize=(12,5))\n",
    "\n",
    "ax1.plot(history.history['mean_absolute_error'], color='blue')\n",
    "ax1.plot(history.history['val_mean_absolute_error'], color='orange')\n",
    "ax1.set_title('Mean absolute error')\n",
    "ax1.set_xlabel('Epochs')\n",
    "ax1.set_ylabel('MAE')\n",
    "ax1.legend(['Train MAE', 'Val. MAE'], loc='upper right')\n",
    "ax1.set_xlim(0, epochs)\n",
    "#ax1.set_ylim(0, 100)\n",
    "\n",
    "ax2.plot(history.history['mean_squared_error'], color='green')\n",
    "ax2.plot(history.history['val_mean_squared_error'], color='red')\n",
    "ax2.set_title('Mean squared error')\n",
    "ax2.set_xlabel('Epochs')\n",
    "ax2.set_ylabel('MSE')\n",
    "ax2.legend(['Train MSE', 'Val. MSE'], loc='upper right')\n",
    "ax2.set_xlim(0, epochs)\n",
    "#ax2.set_ylim(0, 100)\n",
    "\n",
    "plt.tight_layout()\n",
    "plt.show()"
   ]
  },
  {
   "cell_type": "code",
   "execution_count": 58,
   "metadata": {},
   "outputs": [
    {
     "data": {
      "text/plain": [
       "dict_keys(['loss', 'mean_squared_error', 'val_mean_squared_error', 'mean_absolute_error', 'val_mean_absolute_error', 'val_loss'])"
      ]
     },
     "execution_count": 58,
     "metadata": {},
     "output_type": "execute_result"
    }
   ],
   "source": [
    "history.history.keys()"
   ]
  },
  {
   "cell_type": "code",
   "execution_count": 59,
   "metadata": {},
   "outputs": [],
   "source": [
    "Z_train = model_NN.predict(X_train)\n",
    "Z_test = model_NN.predict(X_test)"
   ]
  },
  {
   "cell_type": "code",
   "execution_count": 60,
   "metadata": {},
   "outputs": [
    {
     "data": {
      "image/png": "[encoded data removed]",
      "text/plain": [
       "<Figure size 864x360 with 2 Axes>"
      ]
     },
     "metadata": {
      "needs_background": "light"
     },
     "output_type": "display_data"
    }
   ],
   "source": [
    "fig, (ax1, ax2) = plt.subplots(1,2, figsize=(12,5))\n",
    "\n",
    "ax1.plot(X_train['year'], Y_train, 'o');\n",
    "#ax1.plot(X_train[:,0], Y_train, 'o');\n",
    "ax1.plot(X_train['year'], Z_train, 'o');\n",
    "#ax1.plot(X_train[:,0], Z_train, 'o');\n",
    "ax1.set_title('Prediction on train dataset');\n",
    "ax1.set_xlabel('Years');\n",
    "ax1.set_ylabel('Targets');\n",
    "\n",
    "ax2.plot(X_test['year'], Y_test, 'o');\n",
    "#ax2.plot(X_test[:,0], Y_test, 'o');\n",
    "ax2.plot(X_test['year'], Z_test, 'o');\n",
    "#ax2.plot(X_test[:,0], Z_test, 'o');\n",
    "ax2.set_title('Testing prediction on train dataset');\n",
    "ax2.set_xlabel('Years');\n",
    "ax2.set_ylabel('Targets');\n",
    "\n",
    "plt.tight_layout()\n",
    "plt.show()"
   ]
  },
  {
   "cell_type": "code",
   "execution_count": 61,
   "metadata": {},
   "outputs": [
    {
     "data": {
      "text/plain": [
       "(array([-7.02624751]), array([-6.206744], dtype=float32))"
      ]
     },
     "execution_count": 61,
     "metadata": {},
     "output_type": "execute_result"
    }
   ],
   "source": [
    "Y_test = np.reshape(np.array(Y_test), (-1,1))\n",
    "\n",
    "i = 0\n",
    "Y_test[i], Z_test[i]"
   ]
  },
  {
   "cell_type": "code",
   "execution_count": 62,
   "metadata": {},
   "outputs": [
    {
     "name": "stdout",
     "output_type": "stream",
     "text": [
      "Test MAE = 1.42\n",
      "Test MSE = 11.29\n"
     ]
    }
   ],
   "source": [
    "val_loss, val_mean_absolute_error, val_mean_squared_error = model_NN.evaluate(X_test, Y_test, verbose=0)\n",
    "\n",
    "print('Test MAE = {:.2f}'.format(val_mean_absolute_error))\n",
    "print('Test MSE = {:.2f}'.format(val_mean_squared_error))"
   ]
  },
  {
   "cell_type": "code",
   "execution_count": 63,
   "metadata": {
    "scrolled": false
   },
   "outputs": [
    {
     "name": "stdout",
     "output_type": "stream",
     "text": [
      "R2 score: 0.9746\n"
     ]
    }
   ],
   "source": [
    "def r_square(Y_test, Z_test):\n",
    "    SS_res =  np.sum(np.array(Y_test - Z_test) ** 2) \n",
    "    SS_tot = np.sum(np.array(Y_test - np.mean(Y_test)) ** 2)\n",
    "    return (1 - SS_res/(SS_tot))\n",
    "\n",
    "print('R2 score: %.4f' % r_square(Y_test, Z_test))"
   ]
  },
  {
   "cell_type": "markdown",
   "metadata": {},
   "source": [
    "____________________________\n",
    "\n",
    "### Предсказание на тестовых данных с помощью нейронной сети (Neural Network)"
   ]
  },
  {
   "cell_type": "code",
   "execution_count": 64,
   "metadata": {},
   "outputs": [],
   "source": [
    "df_test = pd.read_csv('data/robot_data/test_data.csv')\n",
    "\n",
    "d = {'low': 1, 'moderate': 2, 'high': 3, 'very high': 4}\n",
    "df_test = df_test.replace(d)\n",
    "\n",
    "df_test = df_test.drop(['robot_engine_circulation_6', 'target'], axis=1)"
   ]
  },
  {
   "cell_type": "code",
   "execution_count": 65,
   "metadata": {},
   "outputs": [],
   "source": [
    "X_aim_test = df_test\n",
    "Z_aim_test = model_NN.predict(X_aim_test)\n",
    "\n",
    "Z_aim_test = pd.DataFrame(Z_aim_test)\n",
    "Z_aim_test = Z_aim_test.stack()"
   ]
  },
  {
   "cell_type": "code",
   "execution_count": 66,
   "metadata": {},
   "outputs": [
    {
     "data": {
      "image/png": "[encoded data removed]",
      "text/plain": [
       "<Figure size 864x360 with 2 Axes>"
      ]
     },
     "metadata": {
      "needs_background": "light"
     },
     "output_type": "display_data"
    }
   ],
   "source": [
    "x_all = pd.concat([df['year'], df_test['year']], axis=0)\n",
    "y_all = np.concatenate([Y, Z_aim_test], axis=0)\n",
    "\n",
    "fig, (ax1, ax2) = plt.subplots(1,2, figsize=(12,5))\n",
    "\n",
    "ax1.plot(X_aim_test['year'], Z_aim_test)\n",
    "ax1.set_title('Prediction on test dataset');\n",
    "ax1.set_xlabel('Years');\n",
    "ax1.set_ylabel('Targets');\n",
    "\n",
    "ax2.plot(x_all, y_all);\n",
    "ax2.set_title('All targets with prediction by years');\n",
    "ax2.set_xlabel('Years');\n",
    "ax2.set_ylabel('Targets');\n",
    "\n",
    "plt.tight_layout()\n",
    "plt.show()"
   ]
  },
  {
   "cell_type": "code",
   "execution_count": 67,
   "metadata": {},
   "outputs": [],
   "source": [
    "solve = pd.DataFrame(df_test['year'])\n",
    "solve['target'] = np.array(Z_aim_test)"
   ]
  },
  {
   "cell_type": "code",
   "execution_count": 68,
   "metadata": {},
   "outputs": [],
   "source": [
    "solve.to_csv('solve_NN.csv', index=False, header=1)"
   ]
  }
 ],
 "metadata": {
  "kernelspec": {
   "display_name": "Python 3",
   "language": "python",
   "name": "python3"
  },
  "language_info": {
   "codemirror_mode": {
    "name": "ipython",
    "version": 3
   },
   "file_extension": ".py",
   "mimetype": "text/x-python",
   "name": "python",
   "nbconvert_exporter": "python",
   "pygments_lexer": "ipython3",
   "version": "3.5.4"
  }
 },
 "nbformat": 4,
 "nbformat_minor": 2
}
