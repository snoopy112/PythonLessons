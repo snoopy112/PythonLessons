{
 "cells": [
  {
   "cell_type": "code",
   "execution_count": 1,
   "metadata": {},
   "outputs": [],
   "source": [
    "import numpy as np"
   ]
  },
  {
   "cell_type": "markdown",
   "metadata": {
    "collapsed": true
   },
   "source": [
    "## Задача 1\n",
    "\n",
    "Подсчитать произведение ненулевых элементов на диагонали прямоугольной матрицы.<br>\n",
    "Для X = np.array([[1, 0, 1], [2, 0, 2], [3, 0, 3], [4, 4, 4]]), ответ: 3"
   ]
  },
  {
   "cell_type": "code",
   "execution_count": 2,
   "metadata": {
    "slideshow": {
     "slide_type": "-"
    }
   },
   "outputs": [
    {
     "name": "stdout",
     "output_type": "stream",
     "text": [
      "slow\n",
      "2.74 µs ± 21.5 ns per loop (mean ± std. dev. of 7 runs, 100000 loops each)\n",
      "fast\n",
      "6.48 µs ± 52 ns per loop (mean ± std. dev. of 7 runs, 100000 loops each)\n"
     ]
    }
   ],
   "source": [
    "X = np.array([[1, 0, 1], [2, 0, 2], [3, 0, 3], [4, 4, 4]])\n",
    "\n",
    "def get_nonzero_diagonal_product(X):\n",
    "    product = 1\n",
    "    for i in range(min(X.shape)):\n",
    "        diag_el = X[i, i]\n",
    "        if diag_el != 0:\n",
    "            product *= diag_el\n",
    "    return product\n",
    "\n",
    "def get_nonzero_diagonal_product_fast(X):\n",
    "    diag = X.diagonal()\n",
    "    nonzero_diag_elems = diag[diag.nonzero()]\n",
    "    non_zero_prod = np.product(nonzero_diag_elems)\n",
    "    return non_zero_prod\n",
    "\n",
    "assert get_nonzero_diagonal_product(X) == get_nonzero_diagonal_product_fast(X)\n",
    "print('slow')\n",
    "%timeit get_nonzero_diagonal_product(X)\n",
    "print('fast')\n",
    "%timeit get_nonzero_diagonal_product_fast(X)"
   ]
  },
  {
   "cell_type": "markdown",
   "metadata": {},
   "source": [
    "## Задача 2\n",
    "\n",
    "Дана матрица X и два вектора одинаковой длины i_idx и j_idx.<br>\n",
    "Построить вектор np.array([X[i_idx[0], j_idx[0]], X[i_idx[1], j_idx[1]], . . . , X[i_idx[N-1], j_idx[N-1]]]).<br>\n",
    "Для X = np.array(range(4 * 5)).reshape(4, 5) + 1, i_idx = np.array([1, 3, 0, 2]), j_idx = np.array([0, 2, 3, 1]), ответ: [6 18  4 12]"
   ]
  },
  {
   "cell_type": "code",
   "execution_count": 3,
   "metadata": {},
   "outputs": [
    {
     "name": "stdout",
     "output_type": "stream",
     "text": [
      "slow\n",
      "5.82 µs ± 45.6 ns per loop (mean ± std. dev. of 7 runs, 100000 loops each)\n",
      "fast\n",
      "3.1 µs ± 4.67 ns per loop (mean ± std. dev. of 7 runs, 100000 loops each)\n"
     ]
    }
   ],
   "source": [
    "X = np.array(range(4 * 5)).reshape(4, 5) + 1\n",
    "i_idx = np.array([1, 3, 0, 2])\n",
    "j_idx = np.array([0, 2, 3, 1])\n",
    "\n",
    "def task_2(X, i_idx, j_idx):\n",
    "    res = []\n",
    "    for i in range(len(i_idx)):\n",
    "        res.append(X[i_idx[i], j_idx[i]])\n",
    "    res = np.array(res)\n",
    "    return res\n",
    "\n",
    "def task_2_fast(X, i_idx, j_idx):\n",
    "    return X[i_idx, j_idx]\n",
    "\n",
    "print('slow')\n",
    "%timeit task_2(X, i_idx, j_idx)\n",
    "print('fast')\n",
    "%timeit task_2_fast(X, i_idx, j_idx)"
   ]
  },
  {
   "cell_type": "markdown",
   "metadata": {},
   "source": [
    "## Задача 3\n",
    "\n",
    "Даны два вектора x и y. Проверить, задают ли они одно и то же мультимножество.<br>\n",
    "Для x = np.array([1, 2, 2, 4]), y = np.array([4, 2, 1, 2]), ответ: True."
   ]
  },
  {
   "cell_type": "code",
   "execution_count": 4,
   "metadata": {},
   "outputs": [
    {
     "name": "stdout",
     "output_type": "stream",
     "text": [
      "slow\n",
      "5.49 µs ± 16.8 ns per loop (mean ± std. dev. of 7 runs, 100000 loops each)\n",
      "fast\n",
      "25.6 µs ± 273 ns per loop (mean ± std. dev. of 7 runs, 10000 loops each)\n"
     ]
    }
   ],
   "source": [
    "x = np.array([1, 2, 2, 4])\n",
    "y = np.array([4, 2, 1, 2, 5])\n",
    "# x = np.random.randn(1000, 1000)\n",
    "# y = np.random.randn(1000, 1000)\n",
    "\n",
    "def equal_sets(x, y):\n",
    "    return set(x.ravel()) == set(y.ravel())\n",
    "\n",
    "def equal_sets_fast(x, y):\n",
    "    return np.array_equal(np.unique(x), np.unique(y))\n",
    "\n",
    "assert equal_sets(x, y) == equal_sets_fast(x, y)\n",
    "print('slow')\n",
    "%timeit equal_sets(x, y)\n",
    "print('fast')\n",
    "%timeit equal_sets_fast(x, y)"
   ]
  },
  {
   "cell_type": "code",
   "execution_count": 5,
   "metadata": {},
   "outputs": [
    {
     "name": "stdout",
     "output_type": "stream",
     "text": [
      "slow\n",
      "20.3 µs ± 258 ns per loop (mean ± std. dev. of 7 runs, 10000 loops each)\n",
      "fast\n",
      "64.2 µs ± 287 ns per loop (mean ± std. dev. of 7 runs, 10000 loops each)\n"
     ]
    }
   ],
   "source": [
    "from collections import Counter\n",
    "\n",
    "def equal_multisets(x, y):\n",
    "    return Counter(x.ravel()) == Counter(y.ravel())\n",
    "\n",
    "def equal_multisets_fast(x, y):\n",
    "    return np.array_equal(np.unique(x, return_counts=True), np.unique(y, return_counts=True))\n",
    "\n",
    "assert equal_multisets(x, y) == equal_multisets_fast(x, y)\n",
    "print('slow')\n",
    "%timeit equal_multisets(x, y)\n",
    "print('fast')\n",
    "%timeit equal_multisets_fast(x, y)"
   ]
  },
  {
   "cell_type": "markdown",
   "metadata": {},
   "source": [
    "## Задача 4\n",
    "\n",
    "Найти максимальный элемент в векторе x среди элементов, перед которыми стоит нулевой.<br>\n",
    "Для x = np.array([6, 2, 0, 3, 0, 0, 5, 7, 0]), ответ: 5. "
   ]
  },
  {
   "cell_type": "code",
   "execution_count": 6,
   "metadata": {},
   "outputs": [
    {
     "name": "stdout",
     "output_type": "stream",
     "text": [
      "slow\n",
      "8.44 µs ± 25.8 ns per loop (mean ± std. dev. of 7 runs, 100000 loops each)\n",
      "fast\n",
      "27.4 µs ± 69.3 ns per loop (mean ± std. dev. of 7 runs, 10000 loops each)\n"
     ]
    }
   ],
   "source": [
    "import sys\n",
    "x = np.array([6, 2, 0, 3, 0, 0, 5, 7, 0])\n",
    "# x = np.tile(x, 100)\n",
    "\n",
    "def task_4(x):\n",
    "    max_el = -sys.maxsize\n",
    "    for i in range(len(x) - 1):\n",
    "        if x[i] == 0:\n",
    "            max_el = max(x[i + 1], max_el)\n",
    "    return max_el\n",
    "\n",
    "def task_4_fast(x):\n",
    "    next_to_zero_idxs = np.argwhere(x == 0) + 1\n",
    "    valid_next_idxs = next_to_zero_idxs[next_to_zero_idxs < x.size]\n",
    "    return np.max(x[valid_next_idxs])\n",
    "    \n",
    "assert task_4(x) == task_4_fast(x)\n",
    "print('slow')\n",
    "%timeit task_4(x)\n",
    "print('fast')\n",
    "%timeit task_4_fast(x)       "
   ]
  },
  {
   "cell_type": "markdown",
   "metadata": {},
   "source": [
    "## Задача 5\n",
    "\n",
    "Дано изображение (трёхмерный массив), размера (height, width, numChannels), а также вектор длины numChannels. Преобразуйте цветное изображение в оттенки серого, сложив каналы изображения с указанными весами, вернуть результат в виде матрицы размера (height, width) и вывести изображение на экран. Считать реальное изображение в numpy.array можно при помощи библиотеки OpenCV (cv2.imread(), но учитывайте, что в OpenCV цветовое пространство BGR, вместо RGB).\n",
    "\n",
    "Матрица коэффициентов для RGB изображения: np.array([0.0012, 0.0004, 0.0023])."
   ]
  },
  {
   "cell_type": "code",
   "execution_count": 7,
   "metadata": {},
   "outputs": [
    {
     "name": "stdout",
     "output_type": "stream",
     "text": [
      "(340, 500, 3)\n",
      "slow\n",
      "2.67 s ± 29.7 ms per loop (mean ± std. dev. of 7 runs, 1 loop each)\n",
      "fast\n",
      "4.7 ms ± 40.2 µs per loop (mean ± std. dev. of 7 runs, 100 loops each)\n"
     ]
    }
   ],
   "source": [
    "import cv2\n",
    "import numpy as np\n",
    "\n",
    "im_arr = cv2.imread('images/red_panda.png')\n",
    "print(im_arr.shape)\n",
    "\n",
    "def task_5_slow(im_arr):\n",
    "    gray_im_arr = np.zeros((im_arr.shape[0], im_arr.shape[1]), dtype='float64')\n",
    "    gray_mult = np.array([0.0012, 0.0004, 0.0023])\n",
    "    gray_mult = np.flip(gray_mult, axis=0)\n",
    "    for h in range(im_arr.shape[0]):\n",
    "        for w in range(im_arr.shape[1]):\n",
    "            for c in range(im_arr.shape[2]):\n",
    "                gray_im_arr[h, w] += im_arr[h, w, c] * gray_mult[c]\n",
    "    return gray_im_arr\n",
    "    \n",
    "def task_5_fast(im_arr):\n",
    "    gray_mult = np.array([0.0012, 0.0004, 0.0023])\n",
    "    gray_mult = np.flip(gray_mult, axis=0)\n",
    "    gray_im_arr = np.dot(im_arr, gray_mult)\n",
    "    return gray_im_arr\n",
    "\n",
    "np.testing.assert_array_almost_equal(task_5_slow(im_arr), task_5_fast(im_arr))\n",
    "\n",
    "print('slow')\n",
    "%timeit task_5_slow(im_arr)\n",
    "print('fast')\n",
    "%timeit task_5_fast(im_arr)\n",
    "\n",
    "gray_im_arr = task_5_fast(im_arr)\n",
    "cv2.imshow('Red panda', gray_im_arr)\n",
    "\n",
    "cv2.waitKey(0)\n",
    "cv2.destroyAllWindows()"
   ]
  },
  {
   "cell_type": "markdown",
   "metadata": {},
   "source": [
    "## Задача 6\n",
    "\n",
    "Реализовать кодирование длин серий (Run-length encoding). Дан вектор x. Необходимо вернуть кортеж из двух векторов одинаковой длины. Первый содержит числа, а второй - сколько раз их нужно повторить.<br>\n",
    "Пример: x = np.array([2, 2, 2, 3, 3, 3, 5]), ответ: (np.array([2, 3, 5]), np.array([3, 3, 1]))."
   ]
  },
  {
   "cell_type": "code",
   "execution_count": 8,
   "metadata": {},
   "outputs": [
    {
     "name": "stdout",
     "output_type": "stream",
     "text": [
      "slow\n",
      "48.8 µs ± 132 ns per loop (mean ± std. dev. of 7 runs, 10000 loops each)\n",
      "fast\n",
      "47.6 µs ± 229 ns per loop (mean ± std. dev. of 7 runs, 10000 loops each)\n"
     ]
    }
   ],
   "source": [
    "x = np.tile(np.array([2, 2, 2, 3, 3, 3, 5]), 10)\n",
    "\n",
    "# http://stackoverflow.com/a/32681075\n",
    "def rle(x):\n",
    "        n = len(x)\n",
    "        if n == 0: \n",
    "            return np.array([]), np.array([])\n",
    "        else:\n",
    "            y = np.array(x[1:] != x[:-1])     # pairwise unequal (string safe)\n",
    "            i = np.append(np.where(y), n - 1)   # must include last element posi\n",
    "            z = np.diff(np.append(-1, i))       # run lengths\n",
    "            p = np.cumsum(np.append(0, z))[:-1] # positions\n",
    "            return(x[i], z)\n",
    "\n",
    "def task_6(x):\n",
    "    if len(x) == 0:\n",
    "        return np.array([]), np.array([])\n",
    "    \n",
    "    elements = []\n",
    "    counts = []\n",
    "    elements.append(x[0])\n",
    "    counts.append(1)\n",
    "    for i in range(len(x) - 1):\n",
    "        if x[i] == x[i + 1]:\n",
    "            counts[-1] += 1\n",
    "        else:\n",
    "            elements.append(x[i + 1])\n",
    "            counts.append(1)\n",
    "\n",
    "    return np.array(elements), np.array(counts)\n",
    "\n",
    "pos_slow, len_slow = task_6(x)\n",
    "pos_fast, len_fast = rle(x)\n",
    "\n",
    "np.testing.assert_array_equal(pos_slow, pos_fast)\n",
    "np.testing.assert_array_equal(len_slow, len_fast)\n",
    "\n",
    "print('slow')\n",
    "%timeit task_6(x)\n",
    "print('fast')\n",
    "%timeit rle(x)        "
   ]
  }
 ],
 "metadata": {
  "kernelspec": {
   "display_name": "Python 3",
   "language": "python",
   "name": "python3"
  },
  "language_info": {
   "codemirror_mode": {
    "name": "ipython",
    "version": 3
   },
   "file_extension": ".py",
   "mimetype": "text/x-python",
   "name": "python",
   "nbconvert_exporter": "python",
   "pygments_lexer": "ipython3",
   "version": "3.5.4"
  }
 },
 "nbformat": 4,
 "nbformat_minor": 1
}
